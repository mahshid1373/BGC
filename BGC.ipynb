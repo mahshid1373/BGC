{
 "cells": [
  {
   "cell_type": "markdown",
   "metadata": {},
   "source": [
    "# Comparison of Biosynthetic Gene Clusters (BGCs) in Streptomyces coelicolor A3(2)\n"
   ]
  },
  {
   "cell_type": "markdown",
   "metadata": {},
   "source": [
    "#### The test task\n",
    "\n",
    "In some of our projects, we rely on genome mining software that, given a genome sequence, can find regions of interest responsible for the production of bioactive compounds. These regions of interest are often referred to as **biosynthetic gene clusters (BGCs)**, but we can think of them simply as pairs of start and end coordinates in a long string corresponding to the genome. \n",
    "\n",
    "The task would be to write a simple script that compares the outputs of two different genome mining tools for the same genome. "
   ]
  },
  {
   "cell_type": "markdown",
   "metadata": {},
   "source": [
    "The tools would be [antiSMASH](https://antismash.secondarymetabolites.org/#!/about) (the state-of-the-art method) and [GECCO](https://gecco.embl.de/) (an experimental machine learning-based approach). The genome will be Streptomyces coelicolor A3(2); its sequence is attached in compressed FASTA format. "
   ]
  },
  {
   "cell_type": "markdown",
   "metadata": {},
   "source": [
    "So we upload the FASTA file here. We can read this file in Python using the **Biopython** library, which provides tools for handling FASTA files efficiently. "
   ]
  },
  {
   "cell_type": "markdown",
   "metadata": {},
   "source": [
    "<div class=\"alert alert-block alert-info\">\n",
    "<b>How to Install:</b> \n",
    "To use Biopython in Python, we can install it with pip\n",
    "\n",
    "`$ pip install biopython`\n",
    "\n",
    "</div>"
   ]
  },
  {
   "cell_type": "markdown",
   "metadata": {},
   "source": [
    "We add all the libraries that we need:"
   ]
  },
  {
   "cell_type": "code",
   "execution_count": 2,
   "metadata": {},
   "outputs": [
    {
     "name": "stderr",
     "output_type": "stream",
     "text": [
      "/Users/Erfan/Library/Python/3.9/lib/python/site-packages/urllib3/__init__.py:34: NotOpenSSLWarning: urllib3 v2 only supports OpenSSL 1.1.1+, currently the 'ssl' module is compiled with 'LibreSSL 2.8.3'. See: https://github.com/urllib3/urllib3/issues/3020\n",
      "  warnings.warn(\n"
     ]
    }
   ],
   "source": [
    "import pandas as pd\n",
    "from Bio import SeqIO\n",
    "import requests\n",
    "import json"
   ]
  },
  {
   "cell_type": "code",
   "execution_count": 3,
   "metadata": {},
   "outputs": [
    {
     "name": "stdout",
     "output_type": "stream",
     "text": [
      "ID: NC_003888.3\n",
      "Description: NC_003888.3 Streptomyces coelicolor A3(2) chromosome, complete genome\n",
      "Sequence: CCCGCGGAGCGGGTACCACATCGCTGCGCGATGTGCGAGCGAACACCCGGGCTGCGCCCGGGTGTTGCGCTCCCGCTCCGCGGGAGCGCTGGCGGGACGC...\n",
      "Length: 8667507\n"
     ]
    }
   ],
   "source": [
    "# path to the FASTA file\n",
    "file_path = \"/Users/Erfan/Downloads/Test_Task_HiWi/NC_003888.3.fna\"\n",
    "\n",
    "# Read the file using Biopython\n",
    "for record in SeqIO.parse(file_path, \"fasta\"):\n",
    "    print(f\"ID: {record.id}\")\n",
    "    print(f\"Description: {record.description}\")\n",
    "    print(f\"Sequence: {record.seq[:100]}...\")  # Print only the first 100 bases for checking\n",
    "    print(f\"Length: {len(record.seq)}\")\n"
   ]
  },
  {
   "cell_type": "markdown",
   "metadata": {},
   "source": [
    "### The antiSMASH output"
   ]
  },
  {
   "cell_type": "markdown",
   "metadata": {},
   "source": [
    "The antiSMASH output for this genome is already available [here](https://antismash.secondarymetabolites.org/upload/example/index.html) (you can explore it via their GUI, but for the scripting, please press Download --> Download JSON results file).\n",
    "\n",
    "So we download this link and save it as 'data.json' file in the same directory:\n"
   ]
  },
  {
   "cell_type": "code",
   "execution_count": 47,
   "metadata": {},
   "outputs": [],
   "source": [
    "url = 'https://antismash.secondarymetabolites.org/upload/example/NC_003888.3.json'\n",
    "response = requests.get(url)\n",
    "if response.status_code == 200:\n",
    "    with open('data.json', 'w') as f:\n",
    "        f.write(response.text)\n"
   ]
  },
  {
   "cell_type": "markdown",
   "metadata": {},
   "source": [
    "### The GECCO output"
   ]
  },
  {
   "cell_type": "markdown",
   "metadata": {},
   "source": [
    "For GECCO, you must install the tool and run it on the attached file yourself (use all default parameters)."
   ]
  },
  {
   "cell_type": "markdown",
   "metadata": {},
   "source": [
    "<div class=\"alert alert-block alert-info\">\n",
    "<b>How to Install:</b> \n",
    "\n",
    "GECCO is implemented in Python, and supports all versions from Python 3.6. Install GECCO with pip:\n",
    "\n",
    "`$ pip install gecco-tool`\n",
    "\n",
    "</div>"
   ]
  },
  {
   "cell_type": "markdown",
   "metadata": {},
   "source": [
    "Run a prediction on a FASTA file named NC_003888.3.fna and output the predictions to the current directory:"
   ]
  },
  {
   "cell_type": "code",
   "execution_count": null,
   "metadata": {},
   "outputs": [
    {
     "name": "stdout",
     "output_type": "stream",
     "text": [
      "\u001b[2K\u001b[32m✔\u001b[0m Loading sequences \u001b[90m━━━━━━━━━━━━━━━━━━━━━━━━\u001b[0m \u001b[32m8.4/8.4\u001b[0m MiB    \u001b[35m100%\u001b[0m \u001b[33m0:00:00\u001b[0m \u001b[36m0:00:00\u001b[0m\n",
      "\u001b[2K\u001b[1A\u001b[2K\u001b[32m✔\u001b[0m Loading sequences \u001b[90m━━━━━━━━━━━━━━━━━━━━━━━━\u001b[0m \u001b[32m8.4/8.4\u001b[0m MiB    \u001b[35m100%\u001b[0m \u001b[33m0:00:00\u001b[0m \u001b[36m0:00:00\u001b[0m\n",
      "\u001b[2K\u001b[1A\u001b[2K\u001b[32m✔\u001b[0m Loading sequences \u001b[90m━━━━━━━━━━━━━━━━━━━━━━━━\u001b[0m \u001b[32m8.4/8.4\u001b[0m MiB    \u001b[35m100%\u001b[0m \u001b[33m0:00:00\u001b[0m \u001b[36m0:00:00\u001b[0m\n",
      "\u001b[2K\u001b[1A\u001b[2K\u001b[32m✔\u001b[0m Loading sequences \u001b[90m━━━━━━━━━━━━━━━━━━━━━━━━\u001b[0m \u001b[32m8.4/8.4\u001b[0m MiB    \u001b[35m100%\u001b[0m \u001b[33m0:00:00\u001b[0m \u001b[36m0:00:00\u001b[0m\n",
      "\u001b[2K\u001b[1A\u001b[2K\u001b[32m✔\u001b[0m Loading sequences \u001b[90m━━━━━━━━━━━━━━━━━━━━━━━━\u001b[0m \u001b[32m8.4/8.4\u001b[0m MiB    \u001b[35m100%\u001b[0m \u001b[33m0:00:00\u001b[0m \u001b[36m0:00:00\u001b[0m\n",
      "\u001b[2K\u001b[1A\u001b[2K\u001b[32m✔\u001b[0m Loading sequences \u001b[90m━━━━━━━━━━━━━━━━━━━━━━━━\u001b[0m \u001b[32m8.4/8.4\u001b[0m MiB    \u001b[35m100%\u001b[0m \u001b[33m0:00:00\u001b[0m \u001b[36m0:00:00\u001b[0m\n",
      "\u001b[2K\u001b[1A\u001b[2K\u001b[32m✔\u001b[0m Loading sequences \u001b[90m━━━━━━━━━━━━━━━━━━━━━━━━\u001b[0m \u001b[32m8.4/8.4\u001b[0m MiB    \u001b[35m100%\u001b[0m \u001b[33m0:00:00\u001b[0m \u001b[36m0:00:00\u001b[0m\n",
      "\u001b[2K\u001b[1A\u001b[2K\u001b[32m✔\u001b[0m Loading sequences \u001b[90m━━━━━━━━━━━━━━━━━━━━━━━━\u001b[0m \u001b[32m8.4/8.4\u001b[0m MiB    \u001b[35m100%\u001b[0m \u001b[33m0:00:00\u001b[0m \u001b[36m0:00:00\u001b[0m\n",
      "\u001b[2K\u001b[1A\u001b[2K\u001b[32m✔\u001b[0m Loading sequences \u001b[90m━━━━━━━━━━━━━━━━━━━━━━━━\u001b[0m \u001b[32m8.4/8.4\u001b[0m MiB    \u001b[35m100%\u001b[0m \u001b[33m0:00:00\u001b[0m \u001b[36m0:00:00\u001b[0m\n",
      "\u001b[2K\u001b[1A\u001b[2K\u001b[32m✔\u001b[0m Loading sequences \u001b[90m━━━━━━━━━━━━━━━━━━━━━━━━\u001b[0m \u001b[32m8.4/8.4\u001b[0m MiB    \u001b[35m100%\u001b[0m \u001b[33m0:00:00\u001b[0m \u001b[36m0:00:00\u001b[0m\n",
      "\u001b[2K\u001b[1A\u001b[2K\u001b[32m✔\u001b[0m Loading sequences \u001b[90m━━━━━━━━━━━━━━━━━━━━━━━━\u001b[0m \u001b[32m8.4/8.4\u001b[0m MiB    \u001b[35m100%\u001b[0m \u001b[33m0:00:00\u001b[0m \u001b[36m0:00:00\u001b[0m\n",
      "\u001b[2K\u001b[1A\u001b[2K\u001b[32m✔\u001b[0m Loading sequences \u001b[90m━━━━━━━━━━━━━━━━━━━━━━━━\u001b[0m \u001b[32m8.4/8.4\u001b[0m MiB    \u001b[35m100%\u001b[0m \u001b[33m0:00:00\u001b[0m \u001b[36m0:00:00\u001b[0m\n",
      "\u001b[2K\u001b[1A\u001b[2K\u001b[32m✔\u001b[0m Loading sequences \u001b[90m━━━━━━━━━━━━━━━━━━━━━━━━\u001b[0m \u001b[32m8.4/8.4\u001b[0m MiB    \u001b[35m100%\u001b[0m \u001b[33m0:00:00\u001b[0m \u001b[36m0:00:00\u001b[0m\n",
      "\u001b[2K\u001b[1A\u001b[2K\u001b[32m✔\u001b[0m Loading sequences \u001b[90m━━━━━━━━━━━━━━━━━━━━━━━━\u001b[0m \u001b[32m8.4/8.4\u001b[0m MiB    \u001b[35m100%\u001b[0m \u001b[33m0:00:00\u001b[0m \u001b[36m0:00:00\u001b[0m\n",
      "\u001b[2K\u001b[1A\u001b[2K\u001b[32m✔\u001b[0m Loading sequences \u001b[90m━━━━━━━━━━━━━━━━━━━━━━━━\u001b[0m \u001b[32m8.4/8.4\u001b[0m MiB    \u001b[35m100%\u001b[0m \u001b[33m0:00:00\u001b[0m \u001b[36m0:00:00\u001b[0m\n",
      "\u001b[2K\u001b[1A\u001b[2K\u001b[32m✔\u001b[0m Loading sequences \u001b[90m━━━━━━━━━━━━━━━━━━━━━━━━\u001b[0m \u001b[32m8.4/8.4\u001b[0m MiB    \u001b[35m100%\u001b[0m \u001b[33m0:00:00\u001b[0m \u001b[36m0:00:00\u001b[0m\n",
      "\u001b[2K\u001b[1A\u001b[2K\u001b[32m✔\u001b[0m Loading sequences \u001b[90m━━━━━━━━━━━━━━━━━━━━━━━━\u001b[0m \u001b[32m8.4/8.4\u001b[0m MiB    \u001b[35m100%\u001b[0m \u001b[33m0:00:00\u001b[0m \u001b[36m0:00:00\u001b[0m\n",
      "\u001b[2K\u001b[1A\u001b[2K\u001b[32m✔\u001b[0m Loading sequences \u001b[90m━━━━━━━━━━━━━━━━━━━━━━━━\u001b[0m \u001b[32m8.4/8.4\u001b[0m MiB    \u001b[35m100%\u001b[0m \u001b[33m0:00:00\u001b[0m \u001b[36m0:00:00\u001b[0m\n",
      "\u001b[2K\u001b[1A\u001b[2K\u001b[32m✔\u001b[0m Loading sequences \u001b[90m━━━━━━━━━━━━━━━━━━━━━━━━\u001b[0m \u001b[32m8.4/8.4\u001b[0m MiB    \u001b[35m100%\u001b[0m \u001b[33m0:00:00\u001b[0m \u001b[36m0:00:00\u001b[0m\n",
      "\u001b[2K\u001b[1A\u001b[2K\u001b[32m✔\u001b[0m Loading sequences \u001b[90m━━━━━━━━━━━━━━━━━━━━━━━━\u001b[0m \u001b[32m8.4/8.4\u001b[0m MiB    \u001b[35m100%\u001b[0m \u001b[33m0:00:00\u001b[0m \u001b[36m0:00:00\u001b[0m\n",
      "\u001b[2K\u001b[1A\u001b[2K\u001b[32m✔\u001b[0m Loading sequences \u001b[90m━━━━━━━━━━━━━━━━━━━━━━━━\u001b[0m \u001b[32m8.4/8.4\u001b[0m MiB    \u001b[35m100%\u001b[0m \u001b[33m0:00:00\u001b[0m \u001b[36m0:00:00\u001b[0m\n",
      "\u001b[2K\u001b[1A\u001b[2K\u001b[32m✔\u001b[0m Loading sequences \u001b[90m━━━━━━━━━━━━━━━━━━━━━━━━\u001b[0m \u001b[32m8.4/8.4\u001b[0m MiB    \u001b[35m100%\u001b[0m \u001b[33m0:00:00\u001b[0m \u001b[36m0:00:00\u001b[0m\n",
      "\u001b[2K\u001b[1A\u001b[2K\u001b[32m✔\u001b[0m Loading sequences \u001b[90m━━━━━━━━━━━━━━━━━━━━━━━━\u001b[0m \u001b[32m8.4/8.4\u001b[0m MiB    \u001b[35m100%\u001b[0m \u001b[33m0:00:00\u001b[0m \u001b[36m0:00:00\u001b[0m\n",
      "\u001b[2K\u001b[1A\u001b[2K\u001b[32m✔\u001b[0m Loading sequences \u001b[90m━━━━━━━━━━━━━━━━━━━━━━━━\u001b[0m \u001b[32m8.4/8.4\u001b[0m MiB    \u001b[35m100%\u001b[0m \u001b[33m0:00:00\u001b[0m \u001b[36m0:00:00\u001b[0m\n",
      "\u001b[2K\u001b[1A\u001b[2K\u001b[32m✔\u001b[0m Loading sequences \u001b[90m━━━━━━━━━━━━━━━━━━━━━━━━\u001b[0m \u001b[32m8.4/8.4\u001b[0m MiB    \u001b[35m100%\u001b[0m \u001b[33m0:00:00\u001b[0m \u001b[36m0:00:00\u001b[0m\n",
      "\u001b[2K\u001b[1A\u001b[2K\u001b[32m✔\u001b[0m Loading sequences \u001b[90m━━━━━━━━━━━━━━━━━━━━━━━━\u001b[0m \u001b[32m8.4/8.4\u001b[0m MiB    \u001b[35m100%\u001b[0m \u001b[33m0:00:00\u001b[0m \u001b[36m0:00:00\u001b[0m\n",
      "\u001b[2K\u001b[1A\u001b[2K\u001b[32m✔\u001b[0m Loading sequences \u001b[90m━━━━━━━━━━━━━━━━━━━━━━━━\u001b[0m \u001b[32m8.4/8.4\u001b[0m MiB    \u001b[35m100%\u001b[0m \u001b[33m0:00:00\u001b[0m \u001b[36m0:00:00\u001b[0m\n",
      "\u001b[2K\u001b[1A\u001b[2K\u001b[32m✔\u001b[0m Loading sequences \u001b[90m━━━━━━━━━━━━━━━━━━━━━━━━\u001b[0m \u001b[32m8.4/8.4\u001b[0m MiB    \u001b[35m100%\u001b[0m \u001b[33m0:00:00\u001b[0m \u001b[36m0:00:00\u001b[0m\n",
      "\u001b[2K\u001b[1A\u001b[2K\u001b[32m✔\u001b[0m Loading sequences \u001b[90m━━━━━━━━━━━━━━━━━━━━━━━━\u001b[0m \u001b[32m8.4/8.4\u001b[0m MiB    \u001b[35m100%\u001b[0m \u001b[33m0:00:00\u001b[0m \u001b[36m0:00:00\u001b[0m\n",
      "\u001b[2K\u001b[1A\u001b[2K\u001b[32m✔\u001b[0m Loading sequences \u001b[90m━━━━━━━━━━━━━━━━━━━━━━━━\u001b[0m \u001b[32m8.4/8.4\u001b[0m MiB    \u001b[35m100%\u001b[0m \u001b[33m0:00:00\u001b[0m \u001b[36m0:00:00\u001b[0m\n",
      "\u001b[2K\u001b[1A\u001b[2K\u001b[32m✔\u001b[0m Loading sequences \u001b[90m━━━━━━━━━━━━━━━━━━━━━━━━\u001b[0m \u001b[32m8.4/8.4\u001b[0m MiB    \u001b[35m100%\u001b[0m \u001b[33m0:00:00\u001b[0m \u001b[36m0:00:00\u001b[0m\n",
      "\u001b[2K\u001b[1A\u001b[2K\u001b[32m✔\u001b[0m Loading sequences \u001b[90m━━━━━━━━━━━━━━━━━━━━━━━━\u001b[0m \u001b[32m8.4/8.4\u001b[0m MiB    \u001b[35m100%\u001b[0m \u001b[33m0:00:00\u001b[0m \u001b[36m0:00:00\u001b[0m\n",
      "\u001b[2K\u001b[1A\u001b[2K\u001b[32m✔\u001b[0m Loading sequences \u001b[90m━━━━━━━━━━━━━━━━━━━━━━━━\u001b[0m \u001b[32m8.4/8.4\u001b[0m MiB    \u001b[35m100%\u001b[0m \u001b[33m0:00:00\u001b[0m \u001b[36m0:00:00\u001b[0m\n",
      "\u001b[2K\u001b[1A\u001b[2K\u001b[32m✔\u001b[0m Loading sequences \u001b[90m━━━━━━━━━━━━━━━━━━━━━━━━\u001b[0m \u001b[32m8.4/8.4\u001b[0m MiB    \u001b[35m100%\u001b[0m \u001b[33m0:00:00\u001b[0m \u001b[36m0:00:00\u001b[0m\n",
      "\u001b[2K\u001b[1A\u001b[2K\u001b[32m✔\u001b[0m Loading sequences \u001b[90m━━━━━━━━━━━━━━━━━━━━━━━━\u001b[0m \u001b[32m8.4/8.4\u001b[0m MiB    \u001b[35m100%\u001b[0m \u001b[33m0:00:00\u001b[0m \u001b[36m0:00:00\u001b[0m\n",
      "\u001b[2K\u001b[1A\u001b[2K\u001b[32m✔\u001b[0m Loading sequences \u001b[90m━━━━━━━━━━━━━━━━━━━━━━━━\u001b[0m \u001b[32m8.4/8.4\u001b[0m MiB    \u001b[35m100%\u001b[0m \u001b[33m0:00:00\u001b[0m \u001b[36m0:00:00\u001b[0m\n",
      "\u001b[2K\u001b[1A\u001b[2K\u001b[32m✔\u001b[0m Loading sequences \u001b[90m━━━━━━━━━━━━━━━━━━━━━━━━\u001b[0m \u001b[32m8.4/8.4\u001b[0m MiB    \u001b[35m100%\u001b[0m \u001b[33m0:00:00\u001b[0m \u001b[36m0:00:00\u001b[0m\n",
      "\u001b[2K\u001b[1A\u001b[2K\u001b[32m✔\u001b[0m Loading sequences \u001b[90m━━━━━━━━━━━━━━━━━━━━━━━━\u001b[0m \u001b[32m8.4/8.4\u001b[0m MiB    \u001b[35m100%\u001b[0m \u001b[33m0:00:00\u001b[0m \u001b[36m0:00:00\u001b[0m\n",
      "\u001b[2K\u001b[1A\u001b[2K\u001b[32m✔\u001b[0m Loading sequences \u001b[90m━━━━━━━━━━━━━━━━━━━━━━━━\u001b[0m \u001b[32m8.4/8.4\u001b[0m MiB    \u001b[35m100%\u001b[0m \u001b[33m0:00:00\u001b[0m \u001b[36m0:00:00\u001b[0m\n",
      "\u001b[2K\u001b[1A\u001b[2K\u001b[32m✔\u001b[0m Loading sequences \u001b[90m━━━━━━━━━━━━━━━━━━━━━━━━\u001b[0m \u001b[32m8.4/8.4\u001b[0m MiB    \u001b[35m100%\u001b[0m \u001b[33m0:00:00\u001b[0m \u001b[36m0:00:00\u001b[0m\n",
      "\u001b[2K\u001b[1A\u001b[2K\u001b[32m✔\u001b[0m Loading sequences \u001b[90m━━━━━━━━━━━━━━━━━━━━━━━━\u001b[0m \u001b[32m8.4/8.4\u001b[0m MiB    \u001b[35m100%\u001b[0m \u001b[33m0:00:00\u001b[0m \u001b[36m0:00:00\u001b[0m\n",
      "\u001b[2K\u001b[1A\u001b[2K\u001b[32m✔\u001b[0m Loading sequences \u001b[90m━━━━━━━━━━━━━━━━━━━━━━━━\u001b[0m \u001b[32m8.4/8.4\u001b[0m MiB    \u001b[35m100%\u001b[0m \u001b[33m0:00:00\u001b[0m \u001b[36m0:00:00\u001b[0m\n",
      "\u001b[2K\u001b[1A\u001b[2K\u001b[32m✔\u001b[0m Loading sequences \u001b[90m━━━━━━━━━━━━━━━━━━━━━━━━\u001b[0m \u001b[32m8.4/8.4\u001b[0m MiB    \u001b[35m100%\u001b[0m \u001b[33m0:00:00\u001b[0m \u001b[36m0:00:00\u001b[0m\n",
      "\u001b[2K\u001b[1A\u001b[2K\u001b[32m✔\u001b[0m Loading sequences \u001b[90m━━━━━━━━━━━━━━━━━━━━━━━━\u001b[0m \u001b[32m8.4/8.4\u001b[0m MiB    \u001b[35m100%\u001b[0m \u001b[33m0:00:00\u001b[0m \u001b[36m0:00:00\u001b[0m\n",
      "\u001b[2K\u001b[1A\u001b[2K\u001b[32m✔\u001b[0m Loading sequences \u001b[90m━━━━━━━━━━━━━━━━━━━━━━━━\u001b[0m \u001b[32m8.4/8.4\u001b[0m MiB    \u001b[35m100%\u001b[0m \u001b[33m0:00:00\u001b[0m \u001b[36m0:00:00\u001b[0m\n",
      "\u001b[2K\u001b[1A\u001b[2K\u001b[32m✔\u001b[0m Loading sequences \u001b[90m━━━━━━━━━━━━━━━━━━━━━━━━\u001b[0m \u001b[32m8.4/8.4\u001b[0m MiB    \u001b[35m100%\u001b[0m \u001b[33m0:00:00\u001b[0m \u001b[36m0:00:00\u001b[0m\n",
      "\u001b[2K\u001b[1A\u001b[2K\u001b[32m✔\u001b[0m Loading sequences \u001b[90m━━━━━━━━━━━━━━━━━━━━━━━━\u001b[0m \u001b[32m8.4/8.4\u001b[0m MiB    \u001b[35m100%\u001b[0m \u001b[33m0:00:00\u001b[0m \u001b[36m0:00:00\u001b[0m\n",
      "\u001b[2K\u001b[1A\u001b[2K\u001b[32m✔\u001b[0m Loading sequences \u001b[90m━━━━━━━━━━━━━━━━━━━━━━━━\u001b[0m \u001b[32m8.4/8.4\u001b[0m MiB    \u001b[35m100%\u001b[0m \u001b[33m0:00:00\u001b[0m \u001b[36m0:00:00\u001b[0m\n",
      "\u001b[2K\u001b[1A\u001b[2K\u001b[32m✔\u001b[0m Loading sequences \u001b[90m━━━━━━━━━━━━━━━━━━━━━━━━\u001b[0m \u001b[32m8.4/8.4\u001b[0m MiB    \u001b[35m100%\u001b[0m \u001b[33m0:00:00\u001b[0m \u001b[36m0:00:00\u001b[0m\n",
      "\u001b[2K\u001b[1A\u001b[2K\u001b[32m✔\u001b[0m Loading sequences \u001b[90m━━━━━━━━━━━━━━━━━━━━━━━━\u001b[0m \u001b[32m8.4/8.4\u001b[0m MiB    \u001b[35m100%\u001b[0m \u001b[33m0:00:00\u001b[0m \u001b[36m0:00:00\u001b[0m\n",
      "\u001b[2K\u001b[1A\u001b[2K\u001b[32m✔\u001b[0m Loading sequences \u001b[90m━━━━━━━━━━━━━━━━━━━━━━━━\u001b[0m \u001b[32m8.4/8.4\u001b[0m MiB    \u001b[35m100%\u001b[0m \u001b[33m0:00:00\u001b[0m \u001b[36m0:00:00\u001b[0m\n",
      "\u001b[2K\u001b[1A\u001b[2K\u001b[32m✔\u001b[0m Loading sequences \u001b[90m━━━━━━━━━━━━━━━━━━━━━━━━\u001b[0m \u001b[32m8.4/8.4\u001b[0m MiB    \u001b[35m100%\u001b[0m \u001b[33m0:00:00\u001b[0m \u001b[36m0:00:00\u001b[0m\n",
      "\u001b[2K\u001b[1A\u001b[2K\u001b[32m✔\u001b[0m Loading sequences \u001b[90m━━━━━━━━━━━━━━━━━━━━━━━━\u001b[0m \u001b[32m8.4/8.4\u001b[0m MiB    \u001b[35m100%\u001b[0m \u001b[33m0:00:00\u001b[0m \u001b[36m0:00:00\u001b[0m\n",
      "\u001b[2K\u001b[1A\u001b[2K\u001b[32m✔\u001b[0m Loading sequences \u001b[90m━━━━━━━━━━━━━━━━━━━━━━━━\u001b[0m \u001b[32m8.4/8.4\u001b[0m MiB    \u001b[35m100%\u001b[0m \u001b[33m0:00:00\u001b[0m \u001b[36m0:00:00\u001b[0m\n",
      "\u001b[2K\u001b[1A\u001b[2K\u001b[32m✔\u001b[0m Loading sequences \u001b[90m━━━━━━━━━━━━━━━━━━━━━━━━\u001b[0m \u001b[32m8.4/8.4\u001b[0m MiB    \u001b[35m100%\u001b[0m \u001b[33m0:00:00\u001b[0m \u001b[36m0:00:00\u001b[0m\n",
      "\u001b[2K\u001b[1A\u001b[2K\u001b[32m✔\u001b[0m Loading sequences \u001b[90m━━━━━━━━━━━━━━━━━━━━━━━━\u001b[0m \u001b[32m8.4/8.4\u001b[0m MiB    \u001b[35m100%\u001b[0m \u001b[33m0:00:00\u001b[0m \u001b[36m0:00:00\u001b[0m\n",
      "\u001b[2K\u001b[1A\u001b[2K\u001b[32m✔\u001b[0m Loading sequences \u001b[90m━━━━━━━━━━━━━━━━━━━━━━━━\u001b[0m \u001b[32m8.4/8.4\u001b[0m MiB    \u001b[35m100%\u001b[0m \u001b[33m0:00:00\u001b[0m \u001b[36m0:00:00\u001b[0m\n",
      "\u001b[2K\u001b[1A\u001b[2K\u001b[32m✔\u001b[0m Loading sequences \u001b[90m━━━━━━━━━━━━━━━━━━━━━━━━\u001b[0m \u001b[32m8.4/8.4\u001b[0m MiB    \u001b[35m100%\u001b[0m \u001b[33m0:00:00\u001b[0m \u001b[36m0:00:00\u001b[0m\n",
      "\u001b[2K\u001b[1A\u001b[2K\u001b[32m✔\u001b[0m Loading sequences \u001b[90m━━━━━━━━━━━━━━━━━━━━━━━━\u001b[0m \u001b[32m8.4/8.4\u001b[0m MiB    \u001b[35m100%\u001b[0m \u001b[33m0:00:00\u001b[0m \u001b[36m0:00:00\u001b[0m\n",
      "\u001b[2K\u001b[1A\u001b[2K\u001b[32m✔\u001b[0m Loading sequences \u001b[90m━━━━━━━━━━━━━━━━━━━━━━━━\u001b[0m \u001b[32m8.4/8.4\u001b[0m MiB    \u001b[35m100%\u001b[0m \u001b[33m0:00:00\u001b[0m \u001b[36m0:00:00\u001b[0m\n",
      "\u001b[2K\u001b[1A\u001b[2K\u001b[32m✔\u001b[0m Loading sequences \u001b[90m━━━━━━━━━━━━━━━━━━━━━━━━\u001b[0m \u001b[32m8.4/8.4\u001b[0m MiB    \u001b[35m100%\u001b[0m \u001b[33m0:00:00\u001b[0m \u001b[36m0:00:00\u001b[0m\n",
      "\u001b[2K\u001b[1A\u001b[2K\u001b[32m✔\u001b[0m Loading sequences \u001b[90m━━━━━━━━━━━━━━━━━━━━━━━━\u001b[0m \u001b[32m8.4/8.4\u001b[0m MiB    \u001b[35m100%\u001b[0m \u001b[33m0:00:00\u001b[0m \u001b[36m0:00:00\u001b[0m\n",
      "\u001b[2K\u001b[1A\u001b[2K\u001b[32m✔\u001b[0m Loading sequences \u001b[90m━━━━━━━━━━━━━━━━━━━━━━━━\u001b[0m \u001b[32m8.4/8.4\u001b[0m MiB    \u001b[35m100%\u001b[0m \u001b[33m0:00:00\u001b[0m \u001b[36m0:00:00\u001b[0m\n",
      "\u001b[2K\u001b[1A\u001b[2K\u001b[32m✔\u001b[0m Loading sequences \u001b[90m━━━━━━━━━━━━━━━━━━━━━━━━\u001b[0m \u001b[32m8.4/8.4\u001b[0m MiB    \u001b[35m100%\u001b[0m \u001b[33m0:00:00\u001b[0m \u001b[36m0:00:00\u001b[0m\n",
      "\u001b[2K\u001b[1A\u001b[2K\u001b[32m✔\u001b[0m Loading sequences \u001b[90m━━━━━━━━━━━━━━━━━━━━━━━━\u001b[0m \u001b[32m8.4/8.4\u001b[0m MiB    \u001b[35m100%\u001b[0m \u001b[33m0:00:00\u001b[0m \u001b[36m0:00:00\u001b[0m\n",
      "\u001b[2K\u001b[1A\u001b[2K\u001b[32m✔\u001b[0m Loading sequences \u001b[90m━━━━━━━━━━━━━━━━━━━━━━━━\u001b[0m \u001b[32m8.4/8.4\u001b[0m MiB    \u001b[35m100%\u001b[0m \u001b[33m0:00:00\u001b[0m \u001b[36m0:00:00\u001b[0m\n",
      "\u001b[2K\u001b[1A\u001b[2K\u001b[32m✔\u001b[0m Loading sequences \u001b[90m━━━━━━━━━━━━━━━━━━━━━━━━\u001b[0m \u001b[32m8.4/8.4\u001b[0m MiB    \u001b[35m100%\u001b[0m \u001b[33m0:00:00\u001b[0m \u001b[36m0:00:00\u001b[0m\n",
      "\u001b[2K\u001b[1A\u001b[2K\u001b[32m✔\u001b[0m Loading sequences \u001b[90m━━━━━━━━━━━━━━━━━━━━━━━━\u001b[0m \u001b[32m8.4/8.4\u001b[0m MiB    \u001b[35m100%\u001b[0m \u001b[33m0:00:00\u001b[0m \u001b[36m0:00:00\u001b[0m\n",
      "\u001b[2K\u001b[1A\u001b[2K\u001b[32m✔\u001b[0m Loading sequences \u001b[90m━━━━━━━━━━━━━━━━━━━━━━━━\u001b[0m \u001b[32m8.4/8.4\u001b[0m MiB    \u001b[35m100%\u001b[0m \u001b[33m0:00:00\u001b[0m \u001b[36m0:00:00\u001b[0m\n",
      "\u001b[2K\u001b[1A\u001b[2K\u001b[32m✔\u001b[0m Loading sequences \u001b[90m━━━━━━━━━━━━━━━━━━━━━━━━\u001b[0m \u001b[32m8.4/8.4\u001b[0m MiB    \u001b[35m100%\u001b[0m \u001b[33m0:00:00\u001b[0m \u001b[36m0:00:00\u001b[0m\n",
      "\u001b[2K\u001b[1A\u001b[2K\u001b[32m✔\u001b[0m Loading sequences \u001b[90m━━━━━━━━━━━━━━━━━━━━━━━━\u001b[0m \u001b[32m8.4/8.4\u001b[0m MiB    \u001b[35m100%\u001b[0m \u001b[33m0:00:00\u001b[0m \u001b[36m0:00:00\u001b[0m\n",
      "\u001b[2K\u001b[1A\u001b[2K\u001b[32m✔\u001b[0m Loading sequences \u001b[90m━━━━━━━━━━━━━━━━━━━━━━━━\u001b[0m \u001b[32m8.4/8.4\u001b[0m MiB    \u001b[35m100%\u001b[0m \u001b[33m0:00:00\u001b[0m \u001b[36m0:00:00\u001b[0m\n",
      "\u001b[2K\u001b[1A\u001b[2K\u001b[32m✔\u001b[0m Loading sequences \u001b[90m━━━━━━━━━━━━━━━━━━━━━━━━\u001b[0m \u001b[32m8.4/8.4\u001b[0m MiB    \u001b[35m100%\u001b[0m \u001b[33m0:00:00\u001b[0m \u001b[36m0:00:00\u001b[0m\n",
      "\u001b[2K\u001b[1A\u001b[2K\u001b[32m✔\u001b[0m Loading sequences \u001b[90m━━━━━━━━━━━━━━━━━━━━━━━━\u001b[0m \u001b[32m8.4/8.4\u001b[0m MiB    \u001b[35m100%\u001b[0m \u001b[33m0:00:00\u001b[0m \u001b[36m0:00:00\u001b[0m\n",
      "\u001b[2K\u001b[1A\u001b[2K\u001b[32m✔\u001b[0m Loading sequences \u001b[90m━━━━━━━━━━━━━━━━━━━━━━━━\u001b[0m \u001b[32m8.4/8.4\u001b[0m MiB    \u001b[35m100%\u001b[0m \u001b[33m0:00:00\u001b[0m \u001b[36m0:00:00\u001b[0m\n",
      "\u001b[2K\u001b[1A\u001b[2K\u001b[32m✔\u001b[0m Loading sequences \u001b[90m━━━━━━━━━━━━━━━━━━━━━━━━\u001b[0m \u001b[32m8.4/8.4\u001b[0m MiB    \u001b[35m100%\u001b[0m \u001b[33m0:00:00\u001b[0m \u001b[36m0:00:00\u001b[0m\n",
      "\u001b[2K\u001b[1A\u001b[2K\u001b[32m✔\u001b[0m Loading sequences \u001b[90m━━━━━━━━━━━━━━━━━━━━━━━━\u001b[0m \u001b[32m8.4/8.4\u001b[0m MiB    \u001b[35m100%\u001b[0m \u001b[33m0:00:00\u001b[0m \u001b[36m0:00:00\u001b[0m\n",
      "\u001b[2K\u001b[1A\u001b[2K\u001b[32m✔\u001b[0m Loading sequences \u001b[90m━━━━━━━━━━━━━━━━━━━━━━━━\u001b[0m \u001b[32m8.4/8.4\u001b[0m MiB    \u001b[35m100%\u001b[0m \u001b[33m0:00:00\u001b[0m \u001b[36m0:00:00\u001b[0m\n",
      "\u001b[2K\u001b[1A\u001b[2K\u001b[32m✔\u001b[0m Loading sequences \u001b[90m━━━━━━━━━━━━━━━━━━━━━━━━\u001b[0m \u001b[32m8.4/8.4\u001b[0m MiB    \u001b[35m100%\u001b[0m \u001b[33m0:00:00\u001b[0m \u001b[36m0:00:00\u001b[0m\n",
      "\u001b[2K\u001b[1A\u001b[2K\u001b[32m✔\u001b[0m Loading sequences \u001b[90m━━━━━━━━━━━━━━━━━━━━━━━━\u001b[0m \u001b[32m8.4/8.4\u001b[0m MiB    \u001b[35m100%\u001b[0m \u001b[33m0:00:00\u001b[0m \u001b[36m0:00:00\u001b[0m\n",
      "\u001b[2K\u001b[1A\u001b[2K\u001b[32m✔\u001b[0m Loading sequences \u001b[90m━━━━━━━━━━━━━━━━━━━━━━━━\u001b[0m \u001b[32m8.4/8.4\u001b[0m MiB    \u001b[35m100%\u001b[0m \u001b[33m0:00:00\u001b[0m \u001b[36m0:00:00\u001b[0m\n",
      "\u001b[2K\u001b[1A\u001b[2K\u001b[32m✔\u001b[0m Loading sequences  \u001b[90m━━━━━━━━━━━━━━━━━━━━━━━\u001b[0m \u001b[32m8.4/8.4\u001b[0m MiB    \u001b[35m100%\u001b[0m \u001b[33m0:00:00\u001b[0m \u001b[36m0:00:00\u001b[0m\n",
      "\u001b[32m✔\u001b[0m Finding ORFs       \u001b[90m━━━━━━━━━━━━━━━━━━━━━━━\u001b[0m \u001b[32m1/1    \u001b[0m contig \u001b[35m100%\u001b[0m \u001b[33m0:00:05\u001b[0m \u001b[36m0:00:00\u001b[0m\n",
      "\u001b[2K\u001b[1A\u001b[2K\u001b[1A\u001b[2K\u001b[32m✔\u001b[0m Loading sequences  \u001b[90m━━━━━━━━━━━━━━━━━━━━\u001b[0m \u001b[32m8.4/8.4  \u001b[0m MiB     \u001b[35m100%\u001b[0m \u001b[33m0:00:00\u001b[0m \u001b[36m0:00:00\u001b[0m\n",
      "\u001b[32m✔\u001b[0m Finding ORFs       \u001b[90m━━━━━━━━━━━━━━━━━━━━\u001b[0m \u001b[32m1/1      \u001b[0m contig  \u001b[35m100%\u001b[0m \u001b[33m0:00:05\u001b[0m \u001b[36m0:00:00\u001b[0m\n",
      "\u001b[32m⠼\u001b[0m Annotating domains \u001b[90m━━━━━━━━━━━━━━━━━━━━\u001b[0m \u001b[32m0/1      \u001b[0m HMMs    \u001b[35m  0%\u001b[0m \u001b[33m0:00:00\u001b[0m \u001b[36m-:--:--\u001b[0m\n",
      "\u001b[2K\u001b[1A\u001b[2K\u001b[1A\u001b[2K\u001b[1A\u001b[2K\u001b[32m✔\u001b[0m Loading sequences  \u001b[90m━━━━━━━━━━━━━━━━━━━━\u001b[0m \u001b[32m8.4/8.4  \u001b[0m MiB     \u001b[35m100%\u001b[0m \u001b[33m0:00:00\u001b[0m \u001b[36m0:00:00\u001b[0m\n",
      "\u001b[32m✔\u001b[0m Finding ORFs       \u001b[90m━━━━━━━━━━━━━━━━━━━━\u001b[0m \u001b[32m1/1      \u001b[0m contig  \u001b[35m100%\u001b[0m \u001b[33m0:00:05\u001b[0m \u001b[36m0:00:00\u001b[0m\n",
      "\u001b[32m⠧\u001b[0m Annotating domains \u001b[90m━━━━━━━━━━━━━━━━━━━━\u001b[0m \u001b[32m0/1      \u001b[0m HMMs    \u001b[35m  0%\u001b[0m \u001b[33m0:00:00\u001b[0m \u001b[36m-:--:--\u001b[0m\n",
      "\u001b[2K\u001b[1A\u001b[2K\u001b[1A\u001b[2K\u001b[1A\u001b[2K\u001b[32m✔\u001b[0m Loading sequences  \u001b[90m━━━━━━━━━━━━━━━━━━━━\u001b[0m \u001b[32m8.4/8.4  \u001b[0m MiB     \u001b[35m100%\u001b[0m \u001b[33m0:00:00\u001b[0m \u001b[36m0:00:00\u001b[0m\n",
      "\u001b[32m✔\u001b[0m Finding ORFs       \u001b[90m━━━━━━━━━━━━━━━━━━━━\u001b[0m \u001b[32m1/1      \u001b[0m contig  \u001b[35m100%\u001b[0m \u001b[33m0:00:05\u001b[0m \u001b[36m0:00:00\u001b[0m\n",
      "\u001b[32m⠏\u001b[0m Annotating domains \u001b[90m━━━━━━━━━━━━━━━━━━━━\u001b[0m \u001b[32m0/1      \u001b[0m HMMs    \u001b[35m  0%\u001b[0m \u001b[33m0:00:00\u001b[0m \u001b[36m-:--:--\u001b[0m\n",
      "\u001b[2K\u001b[1A\u001b[2K\u001b[1A\u001b[2K\u001b[1A\u001b[2K\u001b[32m✔\u001b[0m Loading sequences  \u001b[90m━━━━━━━━━━━━━━━━━━━━\u001b[0m \u001b[32m8.4/8.4  \u001b[0m MiB     \u001b[35m100%\u001b[0m \u001b[33m0:00:00\u001b[0m \u001b[36m0:00:00\u001b[0m\n",
      "\u001b[32m✔\u001b[0m Finding ORFs       \u001b[90m━━━━━━━━━━━━━━━━━━━━\u001b[0m \u001b[32m1/1      \u001b[0m contig  \u001b[35m100%\u001b[0m \u001b[33m0:00:05\u001b[0m \u001b[36m0:00:00\u001b[0m\n",
      "\u001b[32m⠋\u001b[0m Annotating domains \u001b[90m━━━━━━━━━━━━━━━━━━━━\u001b[0m \u001b[32m0/1      \u001b[0m HMMs    \u001b[35m  0%\u001b[0m \u001b[33m0:00:00\u001b[0m \u001b[36m-:--:--\u001b[0m\n",
      "\u001b[2K\u001b[1A\u001b[2K\u001b[1A\u001b[2K\u001b[1A\u001b[2K\u001b[32m✔\u001b[0m Loading sequences  \u001b[90m━━━━━━━━━━━━━━━━━━━━\u001b[0m \u001b[32m8.4/8.4  \u001b[0m MiB     \u001b[35m100%\u001b[0m \u001b[33m0:00:00\u001b[0m \u001b[36m0:00:00\u001b[0m\n",
      "\u001b[32m✔\u001b[0m Finding ORFs       \u001b[90m━━━━━━━━━━━━━━━━━━━━\u001b[0m \u001b[32m1/1      \u001b[0m contig  \u001b[35m100%\u001b[0m \u001b[33m0:00:05\u001b[0m \u001b[36m0:00:00\u001b[0m\n",
      "\u001b[32m⠹\u001b[0m Annotating domains \u001b[90m━━━━━━━━━━━━━━━━━━━━\u001b[0m \u001b[32m0/1      \u001b[0m HMMs    \u001b[35m  0%\u001b[0m \u001b[33m0:00:00\u001b[0m \u001b[36m-:--:--\u001b[0m\n",
      "\u001b[2K\u001b[1A\u001b[2K\u001b[1A\u001b[2K\u001b[1A\u001b[2K\u001b[32m✔\u001b[0m Loading sequences  \u001b[90m━━━━━━━━━━━━━━━━━━━━\u001b[0m \u001b[32m8.4/8.4  \u001b[0m MiB     \u001b[35m100%\u001b[0m \u001b[33m0:00:00\u001b[0m \u001b[36m0:00:00\u001b[0m\n",
      "\u001b[32m✔\u001b[0m Finding ORFs       \u001b[90m━━━━━━━━━━━━━━━━━━━━\u001b[0m \u001b[32m1/1      \u001b[0m contig  \u001b[35m100%\u001b[0m \u001b[33m0:00:05\u001b[0m \u001b[36m0:00:00\u001b[0m\n",
      "\u001b[32m⠸\u001b[0m Annotating domains \u001b[90m━━━━━━━━━━━━━━━━━━━━\u001b[0m \u001b[32m0/1      \u001b[0m HMMs    \u001b[35m  0%\u001b[0m \u001b[33m0:00:00\u001b[0m \u001b[36m-:--:--\u001b[0m\n",
      "\u001b[2K\u001b[1A\u001b[2K\u001b[1A\u001b[2K\u001b[1A\u001b[2K\u001b[32m✔\u001b[0m Loading sequences  \u001b[90m━━━━━━━━━━━━━━━━━━━━\u001b[0m \u001b[32m8.4/8.4  \u001b[0m MiB     \u001b[35m100%\u001b[0m \u001b[33m0:00:00\u001b[0m \u001b[36m0:00:00\u001b[0m\n",
      "\u001b[32m✔\u001b[0m Finding ORFs       \u001b[90m━━━━━━━━━━━━━━━━━━━━\u001b[0m \u001b[32m1/1      \u001b[0m contig  \u001b[35m100%\u001b[0m \u001b[33m0:00:05\u001b[0m \u001b[36m0:00:00\u001b[0m\n",
      "\u001b[32m⠴\u001b[0m Annotating domains \u001b[90m━━━━━━━━━━━━━━━━━━━━\u001b[0m \u001b[32m0/1      \u001b[0m HMMs    \u001b[35m  0%\u001b[0m \u001b[33m0:00:00\u001b[0m \u001b[36m-:--:--\u001b[0m\n",
      "\u001b[2K\u001b[1A\u001b[2K\u001b[1A\u001b[2K\u001b[1A\u001b[2K\u001b[32m✔\u001b[0m Loading sequences  \u001b[90m━━━━━━━━━━━━━━━━━━━━\u001b[0m \u001b[32m8.4/8.4  \u001b[0m MiB     \u001b[35m100%\u001b[0m \u001b[33m0:00:00\u001b[0m \u001b[36m0:00:00\u001b[0m\n",
      "\u001b[32m✔\u001b[0m Finding ORFs       \u001b[90m━━━━━━━━━━━━━━━━━━━━\u001b[0m \u001b[32m1/1      \u001b[0m contig  \u001b[35m100%\u001b[0m \u001b[33m0:00:05\u001b[0m \u001b[36m0:00:00\u001b[0m\n",
      "\u001b[32m⠦\u001b[0m Annotating domains \u001b[90m━━━━━━━━━━━━━━━━━━━━\u001b[0m \u001b[32m0/1      \u001b[0m HMMs    \u001b[35m  0%\u001b[0m \u001b[33m0:00:00\u001b[0m \u001b[36m-:--:--\u001b[0m\n",
      "\u001b[2K\u001b[1A\u001b[2K\u001b[1A\u001b[2K\u001b[1A\u001b[2K\u001b[32m✔\u001b[0m Loading sequences  \u001b[90m━━━━━━━━━━━━━━━━━━━━\u001b[0m \u001b[32m8.4/8.4  \u001b[0m MiB     \u001b[35m100%\u001b[0m \u001b[33m0:00:00\u001b[0m \u001b[36m0:00:00\u001b[0m\n",
      "\u001b[32m✔\u001b[0m Finding ORFs       \u001b[90m━━━━━━━━━━━━━━━━━━━━\u001b[0m \u001b[32m1/1      \u001b[0m contig  \u001b[35m100%\u001b[0m \u001b[33m0:00:05\u001b[0m \u001b[36m0:00:00\u001b[0m\n",
      "\u001b[32m⠧\u001b[0m Annotating domains \u001b[90m━━━━━━━━━━━━━━━━━━━━\u001b[0m \u001b[32m0/1      \u001b[0m HMMs    \u001b[35m  0%\u001b[0m \u001b[33m0:00:01\u001b[0m \u001b[36m-:--:--\u001b[0m\n",
      "\u001b[2K\u001b[1A\u001b[2K\u001b[1A\u001b[2K\u001b[1A\u001b[2K\u001b[32m✔\u001b[0m Loading sequences  \u001b[90m━━━━━━━━━━━━━━━━━━━━\u001b[0m \u001b[32m8.4/8.4  \u001b[0m MiB     \u001b[35m100%\u001b[0m \u001b[33m0:00:00\u001b[0m \u001b[36m0:00:00\u001b[0m\n",
      "\u001b[32m✔\u001b[0m Finding ORFs       \u001b[90m━━━━━━━━━━━━━━━━━━━━\u001b[0m \u001b[32m1/1      \u001b[0m contig  \u001b[35m100%\u001b[0m \u001b[33m0:00:05\u001b[0m \u001b[36m0:00:00\u001b[0m\n",
      "\u001b[32m⠏\u001b[0m Annotating domains \u001b[90m━━━━━━━━━━━━━━━━━━━━\u001b[0m \u001b[32m0/1      \u001b[0m HMMs    \u001b[35m  0%\u001b[0m \u001b[33m0:00:01\u001b[0m \u001b[36m-:--:--\u001b[0m\n",
      "\u001b[2K\u001b[1A\u001b[2K\u001b[1A\u001b[2K\u001b[1A\u001b[2K\u001b[32m✔\u001b[0m Loading sequences  \u001b[90m━━━━━━━━━━━━━━━━━━━━\u001b[0m \u001b[32m8.4/8.4  \u001b[0m MiB     \u001b[35m100%\u001b[0m \u001b[33m0:00:00\u001b[0m \u001b[36m0:00:00\u001b[0m\n",
      "\u001b[32m✔\u001b[0m Finding ORFs       \u001b[90m━━━━━━━━━━━━━━━━━━━━\u001b[0m \u001b[32m1/1      \u001b[0m contig  \u001b[35m100%\u001b[0m \u001b[33m0:00:05\u001b[0m \u001b[36m0:00:00\u001b[0m\n",
      "\u001b[32m⠋\u001b[0m Annotating domains \u001b[90m━━━━━━━━━━━━━━━━━━━━\u001b[0m \u001b[32m0/1      \u001b[0m HMMs    \u001b[35m  0%\u001b[0m \u001b[33m0:00:01\u001b[0m \u001b[36m-:--:--\u001b[0m\n",
      "\u001b[2K\u001b[1A\u001b[2K\u001b[1A\u001b[2K\u001b[1A\u001b[2K\u001b[32m✔\u001b[0m Loading sequences  \u001b[90m━━━━━━━━━━━━━━━━━━━━\u001b[0m \u001b[32m8.4/8.4  \u001b[0m MiB     \u001b[35m100%\u001b[0m \u001b[33m0:00:00\u001b[0m \u001b[36m0:00:00\u001b[0m\n",
      "\u001b[32m✔\u001b[0m Finding ORFs       \u001b[90m━━━━━━━━━━━━━━━━━━━━\u001b[0m \u001b[32m1/1      \u001b[0m contig  \u001b[35m100%\u001b[0m \u001b[33m0:00:05\u001b[0m \u001b[36m0:00:00\u001b[0m\n",
      "\u001b[32m⠹\u001b[0m Annotating domains \u001b[90m━━━━━━━━━━━━━━━━━━━━\u001b[0m \u001b[32m0/1      \u001b[0m HMMs    \u001b[35m  0%\u001b[0m \u001b[33m0:00:01\u001b[0m \u001b[36m-:--:--\u001b[0m\n",
      "\u001b[2K\u001b[1A\u001b[2K\u001b[1A\u001b[2K\u001b[1A\u001b[2K\u001b[32m✔\u001b[0m Loading sequences  \u001b[90m━━━━━━━━━━━━━━━━━━━━\u001b[0m \u001b[32m8.4/8.4  \u001b[0m MiB     \u001b[35m100%\u001b[0m \u001b[33m0:00:00\u001b[0m \u001b[36m0:00:00\u001b[0m\n",
      "\u001b[32m✔\u001b[0m Finding ORFs       \u001b[90m━━━━━━━━━━━━━━━━━━━━\u001b[0m \u001b[32m1/1      \u001b[0m contig  \u001b[35m100%\u001b[0m \u001b[33m0:00:05\u001b[0m \u001b[36m0:00:00\u001b[0m\n",
      "\u001b[32m⠸\u001b[0m Annotating domains \u001b[90m━━━━━━━━━━━━━━━━━━━━\u001b[0m \u001b[32m0/1      \u001b[0m HMMs    \u001b[35m  0%\u001b[0m \u001b[33m0:00:01\u001b[0m \u001b[36m-:--:--\u001b[0m\n",
      "\u001b[2K\u001b[1A\u001b[2K\u001b[1A\u001b[2K\u001b[1A\u001b[2K\u001b[32m✔\u001b[0m Loading sequences  \u001b[90m━━━━━━━━━━━━━━━━━━━━\u001b[0m \u001b[32m8.4/8.4  \u001b[0m MiB     \u001b[35m100%\u001b[0m \u001b[33m0:00:00\u001b[0m \u001b[36m0:00:00\u001b[0m\n",
      "\u001b[32m✔\u001b[0m Finding ORFs       \u001b[90m━━━━━━━━━━━━━━━━━━━━\u001b[0m \u001b[32m1/1      \u001b[0m contig  \u001b[35m100%\u001b[0m \u001b[33m0:00:05\u001b[0m \u001b[36m0:00:00\u001b[0m\n",
      "\u001b[32m⠼\u001b[0m Annotating domains \u001b[90m━━━━━━━━━━━━━━━━━━━━\u001b[0m \u001b[32m0/1      \u001b[0m HMMs    \u001b[35m  0%\u001b[0m \u001b[33m0:00:01\u001b[0m \u001b[36m-:--:--\u001b[0m\n",
      "\u001b[2K\u001b[1A\u001b[2K\u001b[1A\u001b[2K\u001b[1A\u001b[2K\u001b[32m✔\u001b[0m Loading sequences  \u001b[90m━━━━━━━━━━━━━━━━━━━━\u001b[0m \u001b[32m8.4/8.4  \u001b[0m MiB     \u001b[35m100%\u001b[0m \u001b[33m0:00:00\u001b[0m \u001b[36m0:00:00\u001b[0m\n",
      "\u001b[32m✔\u001b[0m Finding ORFs       \u001b[90m━━━━━━━━━━━━━━━━━━━━\u001b[0m \u001b[32m1/1      \u001b[0m contig  \u001b[35m100%\u001b[0m \u001b[33m0:00:05\u001b[0m \u001b[36m0:00:00\u001b[0m\n",
      "\u001b[32m⠦\u001b[0m Annotating domains \u001b[90m━━━━━━━━━━━━━━━━━━━━\u001b[0m \u001b[32m0/1      \u001b[0m HMMs    \u001b[35m  0%\u001b[0m \u001b[33m0:00:01\u001b[0m \u001b[36m-:--:--\u001b[0m\n",
      "\u001b[2K\u001b[1A\u001b[2K\u001b[1A\u001b[2K\u001b[1A\u001b[2K\u001b[32m✔\u001b[0m Loading sequences  \u001b[90m━━━━━━━━━━━━━━━━━━━━\u001b[0m \u001b[32m8.4/8.4  \u001b[0m MiB     \u001b[35m100%\u001b[0m \u001b[33m0:00:00\u001b[0m \u001b[36m0:00:00\u001b[0m\n",
      "\u001b[32m✔\u001b[0m Finding ORFs       \u001b[90m━━━━━━━━━━━━━━━━━━━━\u001b[0m \u001b[32m1/1      \u001b[0m contig  \u001b[35m100%\u001b[0m \u001b[33m0:00:05\u001b[0m \u001b[36m0:00:00\u001b[0m\n",
      "\u001b[32m⠧\u001b[0m Annotating domains \u001b[90m━━━━━━━━━━━━━━━━━━━━\u001b[0m \u001b[32m0/1      \u001b[0m HMMs    \u001b[35m  0%\u001b[0m \u001b[33m0:00:01\u001b[0m \u001b[36m-:--:--\u001b[0m\n",
      "\u001b[2K\u001b[1A\u001b[2K\u001b[1A\u001b[2K\u001b[1A\u001b[2K\u001b[32m✔\u001b[0m Loading sequences  \u001b[90m━━━━━━━━━━━━━━━━━━━━\u001b[0m \u001b[32m8.4/8.4  \u001b[0m MiB     \u001b[35m100%\u001b[0m \u001b[33m0:00:00\u001b[0m \u001b[36m0:00:00\u001b[0m\n",
      "\u001b[32m✔\u001b[0m Finding ORFs       \u001b[90m━━━━━━━━━━━━━━━━━━━━\u001b[0m \u001b[32m1/1      \u001b[0m contig  \u001b[35m100%\u001b[0m \u001b[33m0:00:05\u001b[0m \u001b[36m0:00:00\u001b[0m\n",
      "\u001b[32m⠏\u001b[0m Annotating domains \u001b[90m━━━━━━━━━━━━━━━━━━━━\u001b[0m \u001b[32m0/1      \u001b[0m HMMs    \u001b[35m  0%\u001b[0m \u001b[33m0:00:01\u001b[0m \u001b[36m-:--:--\u001b[0m\n",
      "\u001b[2K\u001b[1A\u001b[2K\u001b[1A\u001b[2K\u001b[1A\u001b[2K\u001b[32m✔\u001b[0m Loading sequences  \u001b[90m━━━━━━━━━━━━━━━━━━━━\u001b[0m \u001b[32m8.4/8.4  \u001b[0m MiB     \u001b[35m100%\u001b[0m \u001b[33m0:00:00\u001b[0m \u001b[36m0:00:00\u001b[0m\n",
      "\u001b[32m✔\u001b[0m Finding ORFs       \u001b[90m━━━━━━━━━━━━━━━━━━━━\u001b[0m \u001b[32m1/1      \u001b[0m contig  \u001b[35m100%\u001b[0m \u001b[33m0:00:05\u001b[0m \u001b[36m0:00:00\u001b[0m\n",
      "\u001b[32m⠋\u001b[0m Annotating domains \u001b[90m━━━━━━━━━━━━━━━━━━━━\u001b[0m \u001b[32m0/1      \u001b[0m HMMs    \u001b[35m  0%\u001b[0m \u001b[33m0:00:02\u001b[0m \u001b[36m-:--:--\u001b[0m\n",
      "\u001b[2K\u001b[1A\u001b[2K\u001b[1A\u001b[2K\u001b[1A\u001b[2K\u001b[32m✔\u001b[0m Loading sequences  \u001b[90m━━━━━━━━━━━━━━━━━━━━\u001b[0m \u001b[32m8.4/8.4  \u001b[0m MiB     \u001b[35m100%\u001b[0m \u001b[33m0:00:00\u001b[0m \u001b[36m0:00:00\u001b[0m\n",
      "\u001b[32m✔\u001b[0m Finding ORFs       \u001b[90m━━━━━━━━━━━━━━━━━━━━\u001b[0m \u001b[32m1/1      \u001b[0m contig  \u001b[35m100%\u001b[0m \u001b[33m0:00:05\u001b[0m \u001b[36m0:00:00\u001b[0m\n",
      "\u001b[32m⠙\u001b[0m Annotating domains \u001b[90m━━━━━━━━━━━━━━━━━━━━\u001b[0m \u001b[32m0/1      \u001b[0m HMMs    \u001b[35m  0%\u001b[0m \u001b[33m0:00:02\u001b[0m \u001b[36m-:--:--\u001b[0m\n",
      "\u001b[2K\u001b[1A\u001b[2K\u001b[1A\u001b[2K\u001b[1A\u001b[2K\u001b[32m✔\u001b[0m Loading sequences  \u001b[90m━━━━━━━━━━━━━━━━━━━━\u001b[0m \u001b[32m8.4/8.4  \u001b[0m MiB     \u001b[35m100%\u001b[0m \u001b[33m0:00:00\u001b[0m \u001b[36m0:00:00\u001b[0m\n",
      "\u001b[32m✔\u001b[0m Finding ORFs       \u001b[90m━━━━━━━━━━━━━━━━━━━━\u001b[0m \u001b[32m1/1      \u001b[0m contig  \u001b[35m100%\u001b[0m \u001b[33m0:00:05\u001b[0m \u001b[36m0:00:00\u001b[0m\n",
      "\u001b[32m⠸\u001b[0m Annotating domains \u001b[90m━━━━━━━━━━━━━━━━━━━━\u001b[0m \u001b[32m0/1      \u001b[0m HMMs    \u001b[35m  0%\u001b[0m \u001b[33m0:00:02\u001b[0m \u001b[36m-:--:--\u001b[0m\n",
      "\u001b[2K\u001b[1A\u001b[2K\u001b[1A\u001b[2K\u001b[1A\u001b[2K\u001b[32m✔\u001b[0m Loading sequences  \u001b[90m━━━━━━━━━━━━━━━━━━━━\u001b[0m \u001b[32m8.4/8.4  \u001b[0m MiB     \u001b[35m100%\u001b[0m \u001b[33m0:00:00\u001b[0m \u001b[36m0:00:00\u001b[0m\n",
      "\u001b[32m✔\u001b[0m Finding ORFs       \u001b[90m━━━━━━━━━━━━━━━━━━━━\u001b[0m \u001b[32m1/1      \u001b[0m contig  \u001b[35m100%\u001b[0m \u001b[33m0:00:05\u001b[0m \u001b[36m0:00:00\u001b[0m\n",
      "\u001b[32m⠼\u001b[0m Annotating domains \u001b[90m━━━━━━━━━━━━━━━━━━━━\u001b[0m \u001b[32m0/1      \u001b[0m HMMs    \u001b[35m  0%\u001b[0m \u001b[33m0:00:02\u001b[0m \u001b[36m-:--:--\u001b[0m\n",
      "\u001b[2K\u001b[1A\u001b[2K\u001b[1A\u001b[2K\u001b[1A\u001b[2K\u001b[32m✔\u001b[0m Loading sequences  \u001b[90m━━━━━━━━━━━━━━━━━━━━\u001b[0m \u001b[32m8.4/8.4  \u001b[0m MiB     \u001b[35m100%\u001b[0m \u001b[33m0:00:00\u001b[0m \u001b[36m0:00:00\u001b[0m\n",
      "\u001b[32m✔\u001b[0m Finding ORFs       \u001b[90m━━━━━━━━━━━━━━━━━━━━\u001b[0m \u001b[32m1/1      \u001b[0m contig  \u001b[35m100%\u001b[0m \u001b[33m0:00:05\u001b[0m \u001b[36m0:00:00\u001b[0m\n",
      "\u001b[32m⠴\u001b[0m Annotating domains \u001b[90m━━━━━━━━━━━━━━━━━━━━\u001b[0m \u001b[32m0/1      \u001b[0m HMMs    \u001b[35m  0%\u001b[0m \u001b[33m0:00:02\u001b[0m \u001b[36m-:--:--\u001b[0m\n",
      "\u001b[2K\u001b[1A\u001b[2K\u001b[1A\u001b[2K\u001b[1A\u001b[2K\u001b[32m✔\u001b[0m Loading sequences  \u001b[90m━━━━━━━━━━━━━━━━━━━━\u001b[0m \u001b[32m8.4/8.4  \u001b[0m MiB     \u001b[35m100%\u001b[0m \u001b[33m0:00:00\u001b[0m \u001b[36m0:00:00\u001b[0m\n",
      "\u001b[32m✔\u001b[0m Finding ORFs       \u001b[90m━━━━━━━━━━━━━━━━━━━━\u001b[0m \u001b[32m1/1      \u001b[0m contig  \u001b[35m100%\u001b[0m \u001b[33m0:00:05\u001b[0m \u001b[36m0:00:00\u001b[0m\n",
      "\u001b[32m⠧\u001b[0m Annotating domains \u001b[90m━━━━━━━━━━━━━━━━━━━━\u001b[0m \u001b[32m0/1      \u001b[0m HMMs    \u001b[35m  0%\u001b[0m \u001b[33m0:00:02\u001b[0m \u001b[36m-:--:--\u001b[0m\n",
      "\u001b[2K\u001b[1A\u001b[2K\u001b[1A\u001b[2K\u001b[1A\u001b[2K\u001b[32m✔\u001b[0m Loading sequences  \u001b[90m━━━━━━━━━━━━━━━━━━━━\u001b[0m \u001b[32m8.4/8.4  \u001b[0m MiB     \u001b[35m100%\u001b[0m \u001b[33m0:00:00\u001b[0m \u001b[36m0:00:00\u001b[0m\n",
      "\u001b[32m✔\u001b[0m Finding ORFs       \u001b[90m━━━━━━━━━━━━━━━━━━━━\u001b[0m \u001b[32m1/1      \u001b[0m contig  \u001b[35m100%\u001b[0m \u001b[33m0:00:05\u001b[0m \u001b[36m0:00:00\u001b[0m\n",
      "\u001b[32m⠇\u001b[0m Annotating domains \u001b[90m━━━━━━━━━━━━━━━━━━━━\u001b[0m \u001b[32m0/1      \u001b[0m HMMs    \u001b[35m  0%\u001b[0m \u001b[33m0:00:02\u001b[0m \u001b[36m-:--:--\u001b[0m\n",
      "\u001b[2K\u001b[1A\u001b[2K\u001b[1A\u001b[2K\u001b[1A\u001b[2K\u001b[32m✔\u001b[0m Loading sequences  \u001b[90m━━━━━━━━━━━━━━━━━━━━\u001b[0m \u001b[32m8.4/8.4  \u001b[0m MiB     \u001b[35m100%\u001b[0m \u001b[33m0:00:00\u001b[0m \u001b[36m0:00:00\u001b[0m\n",
      "\u001b[32m✔\u001b[0m Finding ORFs       \u001b[90m━━━━━━━━━━━━━━━━━━━━\u001b[0m \u001b[32m1/1      \u001b[0m contig  \u001b[35m100%\u001b[0m \u001b[33m0:00:05\u001b[0m \u001b[36m0:00:00\u001b[0m\n",
      "\u001b[32m⠏\u001b[0m Annotating domains \u001b[90m━━━━━━━━━━━━━━━━━━━━\u001b[0m \u001b[32m0/1      \u001b[0m HMMs    \u001b[35m  0%\u001b[0m \u001b[33m0:00:02\u001b[0m \u001b[36m-:--:--\u001b[0m\n",
      "\u001b[2K\u001b[1A\u001b[2K\u001b[1A\u001b[2K\u001b[1A\u001b[2K\u001b[32m✔\u001b[0m Loading sequences  \u001b[90m━━━━━━━━━━━━━━━━━━━━\u001b[0m \u001b[32m8.4/8.4  \u001b[0m MiB     \u001b[35m100%\u001b[0m \u001b[33m0:00:00\u001b[0m \u001b[36m0:00:00\u001b[0m\n",
      "\u001b[32m✔\u001b[0m Finding ORFs       \u001b[90m━━━━━━━━━━━━━━━━━━━━\u001b[0m \u001b[32m1/1      \u001b[0m contig  \u001b[35m100%\u001b[0m \u001b[33m0:00:05\u001b[0m \u001b[36m0:00:00\u001b[0m\n",
      "\u001b[32m⠙\u001b[0m Annotating domains \u001b[90m━━━━━━━━━━━━━━━━━━━━\u001b[0m \u001b[32m0/1      \u001b[0m HMMs    \u001b[35m  0%\u001b[0m \u001b[33m0:00:02\u001b[0m \u001b[36m-:--:--\u001b[0m\n",
      "\u001b[2K\u001b[1A\u001b[2K\u001b[1A\u001b[2K\u001b[1A\u001b[2K\u001b[32m✔\u001b[0m Loading sequences  \u001b[90m━━━━━━━━━━━━━━━━━━━━\u001b[0m \u001b[32m8.4/8.4  \u001b[0m MiB     \u001b[35m100%\u001b[0m \u001b[33m0:00:00\u001b[0m \u001b[36m0:00:00\u001b[0m\n",
      "\u001b[32m✔\u001b[0m Finding ORFs       \u001b[90m━━━━━━━━━━━━━━━━━━━━\u001b[0m \u001b[32m1/1      \u001b[0m contig  \u001b[35m100%\u001b[0m \u001b[33m0:00:05\u001b[0m \u001b[36m0:00:00\u001b[0m\n",
      "\u001b[32m⠹\u001b[0m Annotating domains \u001b[90m━━━━━━━━━━━━━━━━━━━━\u001b[0m \u001b[32m0/1      \u001b[0m HMMs    \u001b[35m  0%\u001b[0m \u001b[33m0:00:03\u001b[0m \u001b[36m-:--:--\u001b[0m\n",
      "\u001b[2K\u001b[1A\u001b[2K\u001b[1A\u001b[2K\u001b[1A\u001b[2K\u001b[32m✔\u001b[0m Loading sequences  \u001b[90m━━━━━━━━━━━━━━━━━━━━\u001b[0m \u001b[32m8.4/8.4  \u001b[0m MiB     \u001b[35m100%\u001b[0m \u001b[33m0:00:00\u001b[0m \u001b[36m0:00:00\u001b[0m\n",
      "\u001b[32m✔\u001b[0m Finding ORFs       \u001b[90m━━━━━━━━━━━━━━━━━━━━\u001b[0m \u001b[32m1/1      \u001b[0m contig  \u001b[35m100%\u001b[0m \u001b[33m0:00:05\u001b[0m \u001b[36m0:00:00\u001b[0m\n",
      "\u001b[32m⠼\u001b[0m Annotating domains \u001b[90m━━━━━━━━━━━━━━━━━━━━\u001b[0m \u001b[32m0/1      \u001b[0m HMMs    \u001b[35m  0%\u001b[0m \u001b[33m0:00:03\u001b[0m \u001b[36m-:--:--\u001b[0m\n",
      "\u001b[2K\u001b[1A\u001b[2K\u001b[1A\u001b[2K\u001b[1A\u001b[2K\u001b[32m✔\u001b[0m Loading sequences  \u001b[90m━━━━━━━━━━━━━━━━━━━━\u001b[0m \u001b[32m8.4/8.4  \u001b[0m MiB     \u001b[35m100%\u001b[0m \u001b[33m0:00:00\u001b[0m \u001b[36m0:00:00\u001b[0m\n",
      "\u001b[32m✔\u001b[0m Finding ORFs       \u001b[90m━━━━━━━━━━━━━━━━━━━━\u001b[0m \u001b[32m1/1      \u001b[0m contig  \u001b[35m100%\u001b[0m \u001b[33m0:00:05\u001b[0m \u001b[36m0:00:00\u001b[0m\n",
      "\u001b[32m⠴\u001b[0m Annotating domains \u001b[90m━━━━━━━━━━━━━━━━━━━━\u001b[0m \u001b[32m0/1      \u001b[0m HMMs    \u001b[35m  0%\u001b[0m \u001b[33m0:00:03\u001b[0m \u001b[36m-:--:--\u001b[0m\n",
      "\u001b[2K\u001b[1A\u001b[2K\u001b[1A\u001b[2K\u001b[1A\u001b[2K\u001b[32m✔\u001b[0m Loading sequences  \u001b[90m━━━━━━━━━━━━━━━━━━━━\u001b[0m \u001b[32m8.4/8.4  \u001b[0m MiB     \u001b[35m100%\u001b[0m \u001b[33m0:00:00\u001b[0m \u001b[36m0:00:00\u001b[0m\n",
      "\u001b[32m✔\u001b[0m Finding ORFs       \u001b[90m━━━━━━━━━━━━━━━━━━━━\u001b[0m \u001b[32m1/1      \u001b[0m contig  \u001b[35m100%\u001b[0m \u001b[33m0:00:05\u001b[0m \u001b[36m0:00:00\u001b[0m\n",
      "\u001b[32m⠦\u001b[0m Annotating domains \u001b[90m━━━━━━━━━━━━━━━━━━━━\u001b[0m \u001b[32m0/1      \u001b[0m HMMs    \u001b[35m  0%\u001b[0m \u001b[33m0:00:03\u001b[0m \u001b[36m-:--:--\u001b[0m\n",
      "\u001b[2K\u001b[1A\u001b[2K\u001b[1A\u001b[2K\u001b[1A\u001b[2K\u001b[32m✔\u001b[0m Loading sequences  \u001b[90m━━━━━━━━━━━━━━━━━━━━\u001b[0m \u001b[32m8.4/8.4  \u001b[0m MiB     \u001b[35m100%\u001b[0m \u001b[33m0:00:00\u001b[0m \u001b[36m0:00:00\u001b[0m\n",
      "\u001b[32m✔\u001b[0m Finding ORFs       \u001b[90m━━━━━━━━━━━━━━━━━━━━\u001b[0m \u001b[32m1/1      \u001b[0m contig  \u001b[35m100%\u001b[0m \u001b[33m0:00:05\u001b[0m \u001b[36m0:00:00\u001b[0m\n",
      "\u001b[32m⠇\u001b[0m Annotating domains \u001b[90m━━━━━━━━━━━━━━━━━━━━\u001b[0m \u001b[32m0/1      \u001b[0m HMMs    \u001b[35m  0%\u001b[0m \u001b[33m0:00:03\u001b[0m \u001b[36m-:--:--\u001b[0m\n",
      "\u001b[2K\u001b[1A\u001b[2K\u001b[1A\u001b[2K\u001b[1A\u001b[2K\u001b[32m✔\u001b[0m Loading sequences  \u001b[90m━━━━━━━━━━━━━━━━━━━━\u001b[0m \u001b[32m8.4/8.4  \u001b[0m MiB     \u001b[35m100%\u001b[0m \u001b[33m0:00:00\u001b[0m \u001b[36m0:00:00\u001b[0m\n",
      "\u001b[32m✔\u001b[0m Finding ORFs       \u001b[90m━━━━━━━━━━━━━━━━━━━━\u001b[0m \u001b[32m1/1      \u001b[0m contig  \u001b[35m100%\u001b[0m \u001b[33m0:00:05\u001b[0m \u001b[36m0:00:00\u001b[0m\n",
      "\u001b[32m⠏\u001b[0m Annotating domains \u001b[90m━━━━━━━━━━━━━━━━━━━━\u001b[0m \u001b[32m0/1      \u001b[0m HMMs    \u001b[35m  0%\u001b[0m \u001b[33m0:00:03\u001b[0m \u001b[36m-:--:--\u001b[0m\n",
      "\u001b[2K\u001b[1A\u001b[2K\u001b[1A\u001b[2K\u001b[1A\u001b[2K\u001b[32m✔\u001b[0m Loading sequences  \u001b[90m━━━━━━━━━━━━━━━━━━━━\u001b[0m \u001b[32m8.4/8.4  \u001b[0m MiB     \u001b[35m100%\u001b[0m \u001b[33m0:00:00\u001b[0m \u001b[36m0:00:00\u001b[0m\n",
      "\u001b[32m✔\u001b[0m Finding ORFs       \u001b[90m━━━━━━━━━━━━━━━━━━━━\u001b[0m \u001b[32m1/1      \u001b[0m contig  \u001b[35m100%\u001b[0m \u001b[33m0:00:05\u001b[0m \u001b[36m0:00:00\u001b[0m\n",
      "\u001b[32m⠋\u001b[0m Annotating domains \u001b[90m━━━━━━━━━━━━━━━━━━━━\u001b[0m \u001b[32m0/1      \u001b[0m HMMs    \u001b[35m  0%\u001b[0m \u001b[33m0:00:03\u001b[0m \u001b[36m-:--:--\u001b[0m\n",
      "\u001b[2K\u001b[1A\u001b[2K\u001b[1A\u001b[2K\u001b[1A\u001b[2K\u001b[32m✔\u001b[0m Loading sequences  \u001b[90m━━━━━━━━━━━━━━━━━━━━\u001b[0m \u001b[32m8.4/8.4  \u001b[0m MiB     \u001b[35m100%\u001b[0m \u001b[33m0:00:00\u001b[0m \u001b[36m0:00:00\u001b[0m\n",
      "\u001b[32m✔\u001b[0m Finding ORFs       \u001b[90m━━━━━━━━━━━━━━━━━━━━\u001b[0m \u001b[32m1/1      \u001b[0m contig  \u001b[35m100%\u001b[0m \u001b[33m0:00:05\u001b[0m \u001b[36m0:00:00\u001b[0m\n",
      "\u001b[32m⠹\u001b[0m Annotating domains \u001b[90m━━━━━━━━━━━━━━━━━━━━\u001b[0m \u001b[32m0/1      \u001b[0m HMMs    \u001b[35m  0%\u001b[0m \u001b[33m0:00:03\u001b[0m \u001b[36m-:--:--\u001b[0m\n",
      "\u001b[2K\u001b[1A\u001b[2K\u001b[1A\u001b[2K\u001b[1A\u001b[2K\u001b[32m✔\u001b[0m Loading sequences  \u001b[90m━━━━━━━━━━━━━━━━━━━━\u001b[0m \u001b[32m8.4/8.4  \u001b[0m MiB     \u001b[35m100%\u001b[0m \u001b[33m0:00:00\u001b[0m \u001b[36m0:00:00\u001b[0m\n",
      "\u001b[32m✔\u001b[0m Finding ORFs       \u001b[90m━━━━━━━━━━━━━━━━━━━━\u001b[0m \u001b[32m1/1      \u001b[0m contig  \u001b[35m100%\u001b[0m \u001b[33m0:00:05\u001b[0m \u001b[36m0:00:00\u001b[0m\n",
      "\u001b[32m⠸\u001b[0m Annotating domains \u001b[90m━━━━━━━━━━━━━━━━━━━━\u001b[0m \u001b[32m0/1      \u001b[0m HMMs    \u001b[35m  0%\u001b[0m \u001b[33m0:00:03\u001b[0m \u001b[36m-:--:--\u001b[0m\n",
      "\u001b[2K\u001b[1A\u001b[2K\u001b[1A\u001b[2K\u001b[1A\u001b[2K\u001b[32m✔\u001b[0m Loading sequences  \u001b[90m━━━━━━━━━━━━━━━━━━━━\u001b[0m \u001b[32m8.4/8.4  \u001b[0m MiB     \u001b[35m100%\u001b[0m \u001b[33m0:00:00\u001b[0m \u001b[36m0:00:00\u001b[0m\n",
      "\u001b[32m✔\u001b[0m Finding ORFs       \u001b[90m━━━━━━━━━━━━━━━━━━━━\u001b[0m \u001b[32m1/1      \u001b[0m contig  \u001b[35m100%\u001b[0m \u001b[33m0:00:05\u001b[0m \u001b[36m0:00:00\u001b[0m\n",
      "\u001b[32m⠼\u001b[0m Annotating domains \u001b[90m━━━━━━━━━━━━━━━━━━━━\u001b[0m \u001b[32m0/1      \u001b[0m HMMs    \u001b[35m  0%\u001b[0m \u001b[33m0:00:04\u001b[0m \u001b[36m-:--:--\u001b[0m\n",
      "\u001b[2K\u001b[1A\u001b[2K\u001b[1A\u001b[2K\u001b[1A\u001b[2K\u001b[32m✔\u001b[0m Loading sequences  \u001b[90m━━━━━━━━━━━━━━━━━━━━\u001b[0m \u001b[32m8.4/8.4  \u001b[0m MiB     \u001b[35m100%\u001b[0m \u001b[33m0:00:00\u001b[0m \u001b[36m0:00:00\u001b[0m\n",
      "\u001b[32m✔\u001b[0m Finding ORFs       \u001b[90m━━━━━━━━━━━━━━━━━━━━\u001b[0m \u001b[32m1/1      \u001b[0m contig  \u001b[35m100%\u001b[0m \u001b[33m0:00:05\u001b[0m \u001b[36m0:00:00\u001b[0m\n",
      "\u001b[32m⠦\u001b[0m Annotating domains \u001b[90m━━━━━━━━━━━━━━━━━━━━\u001b[0m \u001b[32m0/1      \u001b[0m HMMs    \u001b[35m  0%\u001b[0m \u001b[33m0:00:04\u001b[0m \u001b[36m-:--:--\u001b[0m\n",
      "\u001b[2K\u001b[1A\u001b[2K\u001b[1A\u001b[2K\u001b[1A\u001b[2K\u001b[32m✔\u001b[0m Loading sequences  \u001b[90m━━━━━━━━━━━━━━━━━━━━\u001b[0m \u001b[32m8.4/8.4  \u001b[0m MiB     \u001b[35m100%\u001b[0m \u001b[33m0:00:00\u001b[0m \u001b[36m0:00:00\u001b[0m\n",
      "\u001b[32m✔\u001b[0m Finding ORFs       \u001b[90m━━━━━━━━━━━━━━━━━━━━\u001b[0m \u001b[32m1/1      \u001b[0m contig  \u001b[35m100%\u001b[0m \u001b[33m0:00:05\u001b[0m \u001b[36m0:00:00\u001b[0m\n",
      "\u001b[32m⠧\u001b[0m Annotating domains \u001b[90m━━━━━━━━━━━━━━━━━━━━\u001b[0m \u001b[32m0/1      \u001b[0m HMMs    \u001b[35m  0%\u001b[0m \u001b[33m0:00:04\u001b[0m \u001b[36m-:--:--\u001b[0m\n",
      "\u001b[2K\u001b[1A\u001b[2K\u001b[1A\u001b[2K\u001b[1A\u001b[2K\u001b[32m✔\u001b[0m Loading sequences  \u001b[90m━━━━━━━━━━━━━━━━━━━━\u001b[0m \u001b[32m8.4/8.4  \u001b[0m MiB     \u001b[35m100%\u001b[0m \u001b[33m0:00:00\u001b[0m \u001b[36m0:00:00\u001b[0m\n",
      "\u001b[32m✔\u001b[0m Finding ORFs       \u001b[90m━━━━━━━━━━━━━━━━━━━━\u001b[0m \u001b[32m1/1      \u001b[0m contig  \u001b[35m100%\u001b[0m \u001b[33m0:00:05\u001b[0m \u001b[36m0:00:00\u001b[0m\n",
      "\u001b[32m⠏\u001b[0m Annotating domains \u001b[90m━━━━━━━━━━━━━━━━━━━━\u001b[0m \u001b[32m0/1      \u001b[0m HMMs    \u001b[35m  0%\u001b[0m \u001b[33m0:00:04\u001b[0m \u001b[36m-:--:--\u001b[0m\n",
      "\u001b[2K\u001b[1A\u001b[2K\u001b[1A\u001b[2K\u001b[1A\u001b[2K\u001b[32m✔\u001b[0m Loading sequences  \u001b[90m━━━━━━━━━━━━━━━━━━━━\u001b[0m \u001b[32m8.4/8.4  \u001b[0m MiB     \u001b[35m100%\u001b[0m \u001b[33m0:00:00\u001b[0m \u001b[36m0:00:00\u001b[0m\n",
      "\u001b[32m✔\u001b[0m Finding ORFs       \u001b[90m━━━━━━━━━━━━━━━━━━━━\u001b[0m \u001b[32m1/1      \u001b[0m contig  \u001b[35m100%\u001b[0m \u001b[33m0:00:05\u001b[0m \u001b[36m0:00:00\u001b[0m\n",
      "\u001b[32m⠋\u001b[0m Annotating domains \u001b[90m━━━━━━━━━━━━━━━━━━━━\u001b[0m \u001b[32m0/1      \u001b[0m HMMs    \u001b[35m  0%\u001b[0m \u001b[33m0:00:04\u001b[0m \u001b[36m-:--:--\u001b[0m\n",
      "\u001b[2K\u001b[1A\u001b[2K\u001b[1A\u001b[2K\u001b[1A\u001b[2K\u001b[32m✔\u001b[0m Loading sequences  \u001b[90m━━━━━━━━━━━━━━━━━━━━\u001b[0m \u001b[32m8.4/8.4  \u001b[0m MiB     \u001b[35m100%\u001b[0m \u001b[33m0:00:00\u001b[0m \u001b[36m0:00:00\u001b[0m\n",
      "\u001b[32m✔\u001b[0m Finding ORFs       \u001b[90m━━━━━━━━━━━━━━━━━━━━\u001b[0m \u001b[32m1/1      \u001b[0m contig  \u001b[35m100%\u001b[0m \u001b[33m0:00:05\u001b[0m \u001b[36m0:00:00\u001b[0m\n",
      "\u001b[32m⠙\u001b[0m Annotating domains \u001b[90m━━━━━━━━━━━━━━━━━━━━\u001b[0m \u001b[32m0/1      \u001b[0m HMMs    \u001b[35m  0%\u001b[0m \u001b[33m0:00:04\u001b[0m \u001b[36m-:--:--\u001b[0m\n",
      "\u001b[2K\u001b[1A\u001b[2K\u001b[1A\u001b[2K\u001b[1A\u001b[2K\u001b[32m✔\u001b[0m Loading sequences  \u001b[90m━━━━━━━━━━━━━━━━━━━━\u001b[0m \u001b[32m8.4/8.4  \u001b[0m MiB     \u001b[35m100%\u001b[0m \u001b[33m0:00:00\u001b[0m \u001b[36m0:00:00\u001b[0m\n",
      "\u001b[32m✔\u001b[0m Finding ORFs       \u001b[90m━━━━━━━━━━━━━━━━━━━━\u001b[0m \u001b[32m1/1      \u001b[0m contig  \u001b[35m100%\u001b[0m \u001b[33m0:00:05\u001b[0m \u001b[36m0:00:00\u001b[0m\n",
      "\u001b[32m⠸\u001b[0m Annotating domains \u001b[90m━━━━━━━━━━━━━━━━━━━━\u001b[0m \u001b[32m0/1      \u001b[0m HMMs    \u001b[35m  0%\u001b[0m \u001b[33m0:00:04\u001b[0m \u001b[36m-:--:--\u001b[0m\n",
      "\u001b[2K\u001b[1A\u001b[2K\u001b[1A\u001b[2K\u001b[1A\u001b[2K\u001b[32m✔\u001b[0m Loading sequences  \u001b[90m━━━━━━━━━━━━━━━━━━━━\u001b[0m \u001b[32m8.4/8.4  \u001b[0m MiB     \u001b[35m100%\u001b[0m \u001b[33m0:00:00\u001b[0m \u001b[36m0:00:00\u001b[0m\n",
      "\u001b[32m✔\u001b[0m Finding ORFs       \u001b[90m━━━━━━━━━━━━━━━━━━━━\u001b[0m \u001b[32m1/1      \u001b[0m contig  \u001b[35m100%\u001b[0m \u001b[33m0:00:05\u001b[0m \u001b[36m0:00:00\u001b[0m\n",
      "\u001b[32m⠼\u001b[0m Annotating domains \u001b[90m━━━━━━━━━━━━━━━━━━━━\u001b[0m \u001b[32m0/1      \u001b[0m HMMs    \u001b[35m  0%\u001b[0m \u001b[33m0:00:04\u001b[0m \u001b[36m-:--:--\u001b[0m\n",
      "\u001b[2K\u001b[1A\u001b[2K\u001b[1A\u001b[2K\u001b[1A\u001b[2K\u001b[32m✔\u001b[0m Loading sequences  \u001b[90m━━━━━━━━━━━━━━━━━━━━\u001b[0m \u001b[32m8.4/8.4  \u001b[0m MiB     \u001b[35m100%\u001b[0m \u001b[33m0:00:00\u001b[0m \u001b[36m0:00:00\u001b[0m\n",
      "\u001b[32m✔\u001b[0m Finding ORFs       \u001b[90m━━━━━━━━━━━━━━━━━━━━\u001b[0m \u001b[32m1/1      \u001b[0m contig  \u001b[35m100%\u001b[0m \u001b[33m0:00:05\u001b[0m \u001b[36m0:00:00\u001b[0m\n",
      "\u001b[32m⠦\u001b[0m Annotating domains \u001b[90m━━━━━━━━━━━━━━━━━━━━\u001b[0m \u001b[32m0/1      \u001b[0m HMMs    \u001b[35m  0%\u001b[0m \u001b[33m0:00:04\u001b[0m \u001b[36m-:--:--\u001b[0m\n",
      "\u001b[2K\u001b[1A\u001b[2K\u001b[1A\u001b[2K\u001b[1A\u001b[2K\u001b[32m✔\u001b[0m Loading sequences  \u001b[90m━━━━━━━━━━━━━━━━━━━━\u001b[0m \u001b[32m8.4/8.4  \u001b[0m MiB     \u001b[35m100%\u001b[0m \u001b[33m0:00:00\u001b[0m \u001b[36m0:00:00\u001b[0m\n",
      "\u001b[32m✔\u001b[0m Finding ORFs       \u001b[90m━━━━━━━━━━━━━━━━━━━━\u001b[0m \u001b[32m1/1      \u001b[0m contig  \u001b[35m100%\u001b[0m \u001b[33m0:00:05\u001b[0m \u001b[36m0:00:00\u001b[0m\n",
      "\u001b[32m⠧\u001b[0m Annotating domains \u001b[90m━━━━━━━━━━━━━━━━━━━━\u001b[0m \u001b[32m0/1      \u001b[0m HMMs    \u001b[35m  0%\u001b[0m \u001b[33m0:00:05\u001b[0m \u001b[36m-:--:--\u001b[0m\n",
      "\u001b[2K\u001b[1A\u001b[2K\u001b[1A\u001b[2K\u001b[1A\u001b[2K\u001b[32m✔\u001b[0m Loading sequences  \u001b[90m━━━━━━━━━━━━━━━━━━━━\u001b[0m \u001b[32m8.4/8.4  \u001b[0m MiB     \u001b[35m100%\u001b[0m \u001b[33m0:00:00\u001b[0m \u001b[36m0:00:00\u001b[0m\n",
      "\u001b[32m✔\u001b[0m Finding ORFs       \u001b[90m━━━━━━━━━━━━━━━━━━━━\u001b[0m \u001b[32m1/1      \u001b[0m contig  \u001b[35m100%\u001b[0m \u001b[33m0:00:05\u001b[0m \u001b[36m0:00:00\u001b[0m\n",
      "\u001b[32m⠏\u001b[0m Annotating domains \u001b[90m━━━━━━━━━━━━━━━━━━━━\u001b[0m \u001b[32m0/1      \u001b[0m HMMs    \u001b[35m  0%\u001b[0m \u001b[33m0:00:05\u001b[0m \u001b[36m-:--:--\u001b[0m\n",
      "\u001b[2K\u001b[1A\u001b[2K\u001b[1A\u001b[2K\u001b[1A\u001b[2K\u001b[32m✔\u001b[0m Loading sequences  \u001b[90m━━━━━━━━━━━━━━━━━━━━\u001b[0m \u001b[32m8.4/8.4  \u001b[0m MiB     \u001b[35m100%\u001b[0m \u001b[33m0:00:00\u001b[0m \u001b[36m0:00:00\u001b[0m\n",
      "\u001b[32m✔\u001b[0m Finding ORFs       \u001b[90m━━━━━━━━━━━━━━━━━━━━\u001b[0m \u001b[32m1/1      \u001b[0m contig  \u001b[35m100%\u001b[0m \u001b[33m0:00:05\u001b[0m \u001b[36m0:00:00\u001b[0m\n",
      "\u001b[32m⠋\u001b[0m Annotating domains \u001b[90m━━━━━━━━━━━━━━━━━━━━\u001b[0m \u001b[32m0/1      \u001b[0m HMMs    \u001b[35m  0%\u001b[0m \u001b[33m0:00:05\u001b[0m \u001b[36m-:--:--\u001b[0m\n",
      "\u001b[2K\u001b[1A\u001b[2K\u001b[1A\u001b[2K\u001b[1A\u001b[2K\u001b[32m✔\u001b[0m Loading sequences  \u001b[90m━━━━━━━━━━━━━━━━━━━━\u001b[0m \u001b[32m8.4/8.4  \u001b[0m MiB     \u001b[35m100%\u001b[0m \u001b[33m0:00:00\u001b[0m \u001b[36m0:00:00\u001b[0m\n",
      "\u001b[32m✔\u001b[0m Finding ORFs       \u001b[90m━━━━━━━━━━━━━━━━━━━━\u001b[0m \u001b[32m1/1      \u001b[0m contig  \u001b[35m100%\u001b[0m \u001b[33m0:00:05\u001b[0m \u001b[36m0:00:00\u001b[0m\n",
      "\u001b[32m⠙\u001b[0m Annotating domains \u001b[90m━━━━━━━━━━━━━━━━━━━━\u001b[0m \u001b[32m0/1      \u001b[0m HMMs    \u001b[35m  0%\u001b[0m \u001b[33m0:00:05\u001b[0m \u001b[36m-:--:--\u001b[0m\n",
      "\u001b[2K\u001b[1A\u001b[2K\u001b[1A\u001b[2K\u001b[1A\u001b[2K\u001b[32m✔\u001b[0m Loading sequences  \u001b[90m━━━━━━━━━━━━━━━━━━━━\u001b[0m \u001b[32m8.4/8.4  \u001b[0m MiB     \u001b[35m100%\u001b[0m \u001b[33m0:00:00\u001b[0m \u001b[36m0:00:00\u001b[0m\n",
      "\u001b[32m✔\u001b[0m Finding ORFs       \u001b[90m━━━━━━━━━━━━━━━━━━━━\u001b[0m \u001b[32m1/1      \u001b[0m contig  \u001b[35m100%\u001b[0m \u001b[33m0:00:05\u001b[0m \u001b[36m0:00:00\u001b[0m\n",
      "\u001b[32m⠸\u001b[0m Annotating domains \u001b[90m━━━━━━━━━━━━━━━━━━━━\u001b[0m \u001b[32m0/1      \u001b[0m HMMs    \u001b[35m  0%\u001b[0m \u001b[33m0:00:05\u001b[0m \u001b[36m-:--:--\u001b[0m\n",
      "\u001b[2K\u001b[1A\u001b[2K\u001b[1A\u001b[2K\u001b[1A\u001b[2K\u001b[32m✔\u001b[0m Loading sequences  \u001b[90m━━━━━━━━━━━━━━━━━━━━\u001b[0m \u001b[32m8.4/8.4  \u001b[0m MiB     \u001b[35m100%\u001b[0m \u001b[33m0:00:00\u001b[0m \u001b[36m0:00:00\u001b[0m\n",
      "\u001b[32m✔\u001b[0m Finding ORFs       \u001b[90m━━━━━━━━━━━━━━━━━━━━\u001b[0m \u001b[32m1/1      \u001b[0m contig  \u001b[35m100%\u001b[0m \u001b[33m0:00:05\u001b[0m \u001b[36m0:00:00\u001b[0m\n",
      "\u001b[32m⠼\u001b[0m Annotating domains \u001b[90m━━━━━━━━━━━━━━━━━━━━\u001b[0m \u001b[32m0/1      \u001b[0m HMMs    \u001b[35m  0%\u001b[0m \u001b[33m0:00:05\u001b[0m \u001b[36m-:--:--\u001b[0m\n",
      "\u001b[2K\u001b[1A\u001b[2K\u001b[1A\u001b[2K\u001b[1A\u001b[2K\u001b[32m✔\u001b[0m Loading sequences  \u001b[90m━━━━━━━━━━━━━━━━━━━━\u001b[0m \u001b[32m8.4/8.4  \u001b[0m MiB     \u001b[35m100%\u001b[0m \u001b[33m0:00:00\u001b[0m \u001b[36m0:00:00\u001b[0m\n",
      "\u001b[32m✔\u001b[0m Finding ORFs       \u001b[90m━━━━━━━━━━━━━━━━━━━━\u001b[0m \u001b[32m1/1      \u001b[0m contig  \u001b[35m100%\u001b[0m \u001b[33m0:00:05\u001b[0m \u001b[36m0:00:00\u001b[0m\n",
      "\u001b[32m⠦\u001b[0m Annotating domains \u001b[90m━━━━━━━━━━━━━━━━━━━━\u001b[0m \u001b[32m0/1      \u001b[0m HMMs    \u001b[35m  0%\u001b[0m \u001b[33m0:00:05\u001b[0m \u001b[36m-:--:--\u001b[0m\n",
      "\u001b[2K\u001b[1A\u001b[2K\u001b[1A\u001b[2K\u001b[1A\u001b[2K\u001b[32m✔\u001b[0m Loading sequences  \u001b[90m━━━━━━━━━━━━━━━━━━━━\u001b[0m \u001b[32m8.4/8.4  \u001b[0m MiB     \u001b[35m100%\u001b[0m \u001b[33m0:00:00\u001b[0m \u001b[36m0:00:00\u001b[0m\n",
      "\u001b[32m✔\u001b[0m Finding ORFs       \u001b[90m━━━━━━━━━━━━━━━━━━━━\u001b[0m \u001b[32m1/1      \u001b[0m contig  \u001b[35m100%\u001b[0m \u001b[33m0:00:05\u001b[0m \u001b[36m0:00:00\u001b[0m\n",
      "\u001b[32m⠧\u001b[0m Annotating domains \u001b[90m━━━━━━━━━━━━━━━━━━━━\u001b[0m \u001b[32m0/1      \u001b[0m HMMs    \u001b[35m  0%\u001b[0m \u001b[33m0:00:05\u001b[0m \u001b[36m-:--:--\u001b[0m\n",
      "\u001b[2K\u001b[1A\u001b[2K\u001b[1A\u001b[2K\u001b[1A\u001b[2K\u001b[32m✔\u001b[0m Loading sequences  \u001b[90m━━━━━━━━━━━━━━━━━━━━\u001b[0m \u001b[32m8.4/8.4  \u001b[0m MiB     \u001b[35m100%\u001b[0m \u001b[33m0:00:00\u001b[0m \u001b[36m0:00:00\u001b[0m\n",
      "\u001b[32m✔\u001b[0m Finding ORFs       \u001b[90m━━━━━━━━━━━━━━━━━━━━\u001b[0m \u001b[32m1/1      \u001b[0m contig  \u001b[35m100%\u001b[0m \u001b[33m0:00:05\u001b[0m \u001b[36m0:00:00\u001b[0m\n",
      "\u001b[32m⠏\u001b[0m Annotating domains \u001b[90m━━━━━━━━━━━━━━━━━━━━\u001b[0m \u001b[32m0/1      \u001b[0m HMMs    \u001b[35m  0%\u001b[0m \u001b[33m0:00:05\u001b[0m \u001b[36m-:--:--\u001b[0m\n",
      "\u001b[2K\u001b[1A\u001b[2K\u001b[1A\u001b[2K\u001b[1A\u001b[2K\u001b[32m✔\u001b[0m Loading sequences  \u001b[90m━━━━━━━━━━━━━━━━━━━━\u001b[0m \u001b[32m8.4/8.4  \u001b[0m MiB     \u001b[35m100%\u001b[0m \u001b[33m0:00:00\u001b[0m \u001b[36m0:00:00\u001b[0m\n",
      "\u001b[32m✔\u001b[0m Finding ORFs       \u001b[90m━━━━━━━━━━━━━━━━━━━━\u001b[0m \u001b[32m1/1      \u001b[0m contig  \u001b[35m100%\u001b[0m \u001b[33m0:00:05\u001b[0m \u001b[36m0:00:00\u001b[0m\n",
      "\u001b[32m⠋\u001b[0m Annotating domains \u001b[90m━━━━━━━━━━━━━━━━━━━━\u001b[0m \u001b[32m0/1      \u001b[0m HMMs    \u001b[35m  0%\u001b[0m \u001b[33m0:00:06\u001b[0m \u001b[36m-:--:--\u001b[0m\n",
      "\u001b[2K\u001b[1A\u001b[2K\u001b[1A\u001b[2K\u001b[1A\u001b[2K\u001b[32m✔\u001b[0m Loading sequences  \u001b[90m━━━━━━━━━━━━━━━━━━━━\u001b[0m \u001b[32m8.4/8.4  \u001b[0m MiB     \u001b[35m100%\u001b[0m \u001b[33m0:00:00\u001b[0m \u001b[36m0:00:00\u001b[0m\n",
      "\u001b[32m✔\u001b[0m Finding ORFs       \u001b[90m━━━━━━━━━━━━━━━━━━━━\u001b[0m \u001b[32m1/1      \u001b[0m contig  \u001b[35m100%\u001b[0m \u001b[33m0:00:05\u001b[0m \u001b[36m0:00:00\u001b[0m\n",
      "\u001b[32m⠙\u001b[0m Annotating domains \u001b[90m━━━━━━━━━━━━━━━━━━━━\u001b[0m \u001b[32m0/1      \u001b[0m HMMs    \u001b[35m  0%\u001b[0m \u001b[33m0:00:06\u001b[0m \u001b[36m-:--:--\u001b[0m\n",
      "\u001b[2K\u001b[1A\u001b[2K\u001b[1A\u001b[2K\u001b[1A\u001b[2K\u001b[32m✔\u001b[0m Loading sequences  \u001b[90m━━━━━━━━━━━━━━━━━━━━\u001b[0m \u001b[32m8.4/8.4  \u001b[0m MiB     \u001b[35m100%\u001b[0m \u001b[33m0:00:00\u001b[0m \u001b[36m0:00:00\u001b[0m\n",
      "\u001b[32m✔\u001b[0m Finding ORFs       \u001b[90m━━━━━━━━━━━━━━━━━━━━\u001b[0m \u001b[32m1/1      \u001b[0m contig  \u001b[35m100%\u001b[0m \u001b[33m0:00:05\u001b[0m \u001b[36m0:00:00\u001b[0m\n",
      "\u001b[32m⠸\u001b[0m Annotating domains \u001b[90m━━━━━━━━━━━━━━━━━━━━\u001b[0m \u001b[32m0/1      \u001b[0m HMMs    \u001b[35m  0%\u001b[0m \u001b[33m0:00:06\u001b[0m \u001b[36m-:--:--\u001b[0m\n",
      "\u001b[2K\u001b[1A\u001b[2K\u001b[1A\u001b[2K\u001b[1A\u001b[2K\u001b[32m✔\u001b[0m Loading sequences  \u001b[90m━━━━━━━━━━━━━━━━━━━━\u001b[0m \u001b[32m8.4/8.4  \u001b[0m MiB     \u001b[35m100%\u001b[0m \u001b[33m0:00:00\u001b[0m \u001b[36m0:00:00\u001b[0m\n",
      "\u001b[32m✔\u001b[0m Finding ORFs       \u001b[90m━━━━━━━━━━━━━━━━━━━━\u001b[0m \u001b[32m1/1      \u001b[0m contig  \u001b[35m100%\u001b[0m \u001b[33m0:00:05\u001b[0m \u001b[36m0:00:00\u001b[0m\n",
      "\u001b[32m⠼\u001b[0m Annotating domains \u001b[90m━━━━━━━━━━━━━━━━━━━━\u001b[0m \u001b[32m0/1      \u001b[0m HMMs    \u001b[35m  0%\u001b[0m \u001b[33m0:00:06\u001b[0m \u001b[36m-:--:--\u001b[0m\n",
      "\u001b[2K\u001b[1A\u001b[2K\u001b[1A\u001b[2K\u001b[1A\u001b[2K\u001b[32m✔\u001b[0m Loading sequences  \u001b[90m━━━━━━━━━━━━━━━━━━━━\u001b[0m \u001b[32m8.4/8.4  \u001b[0m MiB     \u001b[35m100%\u001b[0m \u001b[33m0:00:00\u001b[0m \u001b[36m0:00:00\u001b[0m\n",
      "\u001b[32m✔\u001b[0m Finding ORFs       \u001b[90m━━━━━━━━━━━━━━━━━━━━\u001b[0m \u001b[32m1/1      \u001b[0m contig  \u001b[35m100%\u001b[0m \u001b[33m0:00:05\u001b[0m \u001b[36m0:00:00\u001b[0m\n",
      "\u001b[32m⠦\u001b[0m Annotating domains \u001b[90m━━━━━━━━━━━━━━━━━━━━\u001b[0m \u001b[32m0/1      \u001b[0m HMMs    \u001b[35m  0%\u001b[0m \u001b[33m0:00:06\u001b[0m \u001b[36m-:--:--\u001b[0m\n",
      "\u001b[2K\u001b[1A\u001b[2K\u001b[1A\u001b[2K\u001b[1A\u001b[2K\u001b[32m✔\u001b[0m Loading sequences  \u001b[90m━━━━━━━━━━━━━━━━━━━━\u001b[0m \u001b[32m8.4/8.4  \u001b[0m MiB     \u001b[35m100%\u001b[0m \u001b[33m0:00:00\u001b[0m \u001b[36m0:00:00\u001b[0m\n",
      "\u001b[32m✔\u001b[0m Finding ORFs       \u001b[90m━━━━━━━━━━━━━━━━━━━━\u001b[0m \u001b[32m1/1      \u001b[0m contig  \u001b[35m100%\u001b[0m \u001b[33m0:00:05\u001b[0m \u001b[36m0:00:00\u001b[0m\n",
      "\u001b[32m⠧\u001b[0m Annotating domains \u001b[90m━━━━━━━━━━━━━━━━━━━━\u001b[0m \u001b[32m0/1      \u001b[0m HMMs    \u001b[35m  0%\u001b[0m \u001b[33m0:00:06\u001b[0m \u001b[36m-:--:--\u001b[0m\n",
      "\u001b[2K\u001b[1A\u001b[2K\u001b[1A\u001b[2K\u001b[1A\u001b[2K\u001b[32m✔\u001b[0m Loading sequences  \u001b[90m━━━━━━━━━━━━━━━━━━━━\u001b[0m \u001b[32m8.4/8.4  \u001b[0m MiB     \u001b[35m100%\u001b[0m \u001b[33m0:00:00\u001b[0m \u001b[36m0:00:00\u001b[0m\n",
      "\u001b[32m✔\u001b[0m Finding ORFs       \u001b[90m━━━━━━━━━━━━━━━━━━━━\u001b[0m \u001b[32m1/1      \u001b[0m contig  \u001b[35m100%\u001b[0m \u001b[33m0:00:05\u001b[0m \u001b[36m0:00:00\u001b[0m\n",
      "\u001b[32m⠇\u001b[0m Annotating domains \u001b[90m━━━━━━━━━━━━━━━━━━━━\u001b[0m \u001b[32m0/1      \u001b[0m HMMs    \u001b[35m  0%\u001b[0m \u001b[33m0:00:06\u001b[0m \u001b[36m-:--:--\u001b[0m\n",
      "\u001b[2K\u001b[1A\u001b[2K\u001b[1A\u001b[2K\u001b[1A\u001b[2K\u001b[32m✔\u001b[0m Loading sequences  \u001b[90m━━━━━━━━━━━━━━━━━━━━\u001b[0m \u001b[32m8.4/8.4  \u001b[0m MiB     \u001b[35m100%\u001b[0m \u001b[33m0:00:00\u001b[0m \u001b[36m0:00:00\u001b[0m\n",
      "\u001b[32m✔\u001b[0m Finding ORFs       \u001b[90m━━━━━━━━━━━━━━━━━━━━\u001b[0m \u001b[32m1/1      \u001b[0m contig  \u001b[35m100%\u001b[0m \u001b[33m0:00:05\u001b[0m \u001b[36m0:00:00\u001b[0m\n",
      "\u001b[32m⠋\u001b[0m Annotating domains \u001b[90m━━━━━━━━━━━━━━━━━━━━\u001b[0m \u001b[32m0/1      \u001b[0m HMMs    \u001b[35m  0%\u001b[0m \u001b[33m0:00:06\u001b[0m \u001b[36m-:--:--\u001b[0m\n",
      "\u001b[2K\u001b[1A\u001b[2K\u001b[1A\u001b[2K\u001b[1A\u001b[2K\u001b[32m✔\u001b[0m Loading sequences  \u001b[90m━━━━━━━━━━━━━━━━━━━━\u001b[0m \u001b[32m8.4/8.4  \u001b[0m MiB     \u001b[35m100%\u001b[0m \u001b[33m0:00:00\u001b[0m \u001b[36m0:00:00\u001b[0m\n",
      "\u001b[32m✔\u001b[0m Finding ORFs       \u001b[90m━━━━━━━━━━━━━━━━━━━━\u001b[0m \u001b[32m1/1      \u001b[0m contig  \u001b[35m100%\u001b[0m \u001b[33m0:00:05\u001b[0m \u001b[36m0:00:00\u001b[0m\n",
      "\u001b[32m⠙\u001b[0m Annotating domains \u001b[90m━━━━━━━━━━━━━━━━━━━━\u001b[0m \u001b[32m0/1      \u001b[0m HMMs    \u001b[35m  0%\u001b[0m \u001b[33m0:00:06\u001b[0m \u001b[36m-:--:--\u001b[0m\n",
      "\u001b[2K\u001b[1A\u001b[2K\u001b[1A\u001b[2K\u001b[1A\u001b[2K\u001b[32m✔\u001b[0m Loading sequences  \u001b[90m━━━━━━━━━━━━━━━━━━━━\u001b[0m \u001b[32m8.4/8.4  \u001b[0m MiB     \u001b[35m100%\u001b[0m \u001b[33m0:00:00\u001b[0m \u001b[36m0:00:00\u001b[0m\n",
      "\u001b[32m✔\u001b[0m Finding ORFs       \u001b[90m━━━━━━━━━━━━━━━━━━━━\u001b[0m \u001b[32m1/1      \u001b[0m contig  \u001b[35m100%\u001b[0m \u001b[33m0:00:05\u001b[0m \u001b[36m0:00:00\u001b[0m\n",
      "\u001b[32m⠹\u001b[0m Annotating domains \u001b[90m━━━━━━━━━━━━━━━━━━━━\u001b[0m \u001b[32m0/1      \u001b[0m HMMs    \u001b[35m  0%\u001b[0m \u001b[33m0:00:07\u001b[0m \u001b[36m-:--:--\u001b[0m\n",
      "\u001b[2K\u001b[1A\u001b[2K\u001b[1A\u001b[2K\u001b[1A\u001b[2K\u001b[32m✔\u001b[0m Loading sequences  \u001b[90m━━━━━━━━━━━━━━━━━━━━\u001b[0m \u001b[32m8.4/8.4  \u001b[0m MiB     \u001b[35m100%\u001b[0m \u001b[33m0:00:00\u001b[0m \u001b[36m0:00:00\u001b[0m\n",
      "\u001b[32m✔\u001b[0m Finding ORFs       \u001b[90m━━━━━━━━━━━━━━━━━━━━\u001b[0m \u001b[32m1/1      \u001b[0m contig  \u001b[35m100%\u001b[0m \u001b[33m0:00:05\u001b[0m \u001b[36m0:00:00\u001b[0m\n",
      "\u001b[32m⠼\u001b[0m Annotating domains \u001b[90m━━━━━━━━━━━━━━━━━━━━\u001b[0m \u001b[32m0/1      \u001b[0m HMMs    \u001b[35m  0%\u001b[0m \u001b[33m0:00:07\u001b[0m \u001b[36m-:--:--\u001b[0m\n",
      "\u001b[2K\u001b[1A\u001b[2K\u001b[1A\u001b[2K\u001b[1A\u001b[2K\u001b[32m✔\u001b[0m Loading sequences  \u001b[90m━━━━━━━━━━━━━━━━━━━━\u001b[0m \u001b[32m8.4/8.4  \u001b[0m MiB     \u001b[35m100%\u001b[0m \u001b[33m0:00:00\u001b[0m \u001b[36m0:00:00\u001b[0m\n",
      "\u001b[32m✔\u001b[0m Finding ORFs       \u001b[90m━━━━━━━━━━━━━━━━━━━━\u001b[0m \u001b[32m1/1      \u001b[0m contig  \u001b[35m100%\u001b[0m \u001b[33m0:00:05\u001b[0m \u001b[36m0:00:00\u001b[0m\n",
      "\u001b[32m⠴\u001b[0m Annotating domains \u001b[90m━━━━━━━━━━━━━━━━━━━━\u001b[0m \u001b[32m0/1      \u001b[0m HMMs    \u001b[35m  0%\u001b[0m \u001b[33m0:00:07\u001b[0m \u001b[36m-:--:--\u001b[0m\n",
      "\u001b[2K\u001b[1A\u001b[2K\u001b[1A\u001b[2K\u001b[1A\u001b[2K\u001b[32m✔\u001b[0m Loading sequences  \u001b[90m━━━━━━━━━━━━━━━━━━━━\u001b[0m \u001b[32m8.4/8.4  \u001b[0m MiB     \u001b[35m100%\u001b[0m \u001b[33m0:00:00\u001b[0m \u001b[36m0:00:00\u001b[0m\n",
      "\u001b[32m✔\u001b[0m Finding ORFs       \u001b[90m━━━━━━━━━━━━━━━━━━━━\u001b[0m \u001b[32m1/1      \u001b[0m contig  \u001b[35m100%\u001b[0m \u001b[33m0:00:05\u001b[0m \u001b[36m0:00:00\u001b[0m\n",
      "\u001b[32m⠧\u001b[0m Annotating domains \u001b[90m━━━━━━━━━━━━━━━━━━━━\u001b[0m \u001b[32m0/1      \u001b[0m HMMs    \u001b[35m  0%\u001b[0m \u001b[33m0:00:07\u001b[0m \u001b[36m-:--:--\u001b[0m\n",
      "\u001b[2K\u001b[1A\u001b[2K\u001b[1A\u001b[2K\u001b[1A\u001b[2K\u001b[32m✔\u001b[0m Loading sequences  \u001b[90m━━━━━━━━━━━━━━━━━━━━\u001b[0m \u001b[32m8.4/8.4  \u001b[0m MiB     \u001b[35m100%\u001b[0m \u001b[33m0:00:00\u001b[0m \u001b[36m0:00:00\u001b[0m\n",
      "\u001b[32m✔\u001b[0m Finding ORFs       \u001b[90m━━━━━━━━━━━━━━━━━━━━\u001b[0m \u001b[32m1/1      \u001b[0m contig  \u001b[35m100%\u001b[0m \u001b[33m0:00:05\u001b[0m \u001b[36m0:00:00\u001b[0m\n",
      "\u001b[32m⠇\u001b[0m Annotating domains \u001b[90m━━━━━━━━━━━━━━━━━━━━\u001b[0m \u001b[32m0/1      \u001b[0m HMMs    \u001b[35m  0%\u001b[0m \u001b[33m0:00:07\u001b[0m \u001b[36m-:--:--\u001b[0m\n",
      "\u001b[2K\u001b[1A\u001b[2K\u001b[1A\u001b[2K\u001b[1A\u001b[2K\u001b[32m✔\u001b[0m Loading sequences  \u001b[90m━━━━━━━━━━━━━━━━━━━━\u001b[0m \u001b[32m8.4/8.4  \u001b[0m MiB     \u001b[35m100%\u001b[0m \u001b[33m0:00:00\u001b[0m \u001b[36m0:00:00\u001b[0m\n",
      "\u001b[32m✔\u001b[0m Finding ORFs       \u001b[90m━━━━━━━━━━━━━━━━━━━━\u001b[0m \u001b[32m1/1      \u001b[0m contig  \u001b[35m100%\u001b[0m \u001b[33m0:00:05\u001b[0m \u001b[36m0:00:00\u001b[0m\n",
      "\u001b[32m⠏\u001b[0m Annotating domains \u001b[90m━━━━━━━━━━━━━━━━━━━━\u001b[0m \u001b[32m0/1      \u001b[0m HMMs    \u001b[35m  0%\u001b[0m \u001b[33m0:00:07\u001b[0m \u001b[36m-:--:--\u001b[0m\n",
      "\u001b[2K\u001b[1A\u001b[2K\u001b[1A\u001b[2K\u001b[1A\u001b[2K\u001b[32m✔\u001b[0m Loading sequences  \u001b[90m━━━━━━━━━━━━━━━━━━━━\u001b[0m \u001b[32m8.4/8.4  \u001b[0m MiB     \u001b[35m100%\u001b[0m \u001b[33m0:00:00\u001b[0m \u001b[36m0:00:00\u001b[0m\n",
      "\u001b[32m✔\u001b[0m Finding ORFs       \u001b[90m━━━━━━━━━━━━━━━━━━━━\u001b[0m \u001b[32m1/1      \u001b[0m contig  \u001b[35m100%\u001b[0m \u001b[33m0:00:05\u001b[0m \u001b[36m0:00:00\u001b[0m\n",
      "\u001b[32m⠙\u001b[0m Annotating domains \u001b[90m━━━━━━━━━━━━━━━━━━━━\u001b[0m \u001b[32m0/1      \u001b[0m HMMs    \u001b[35m  0%\u001b[0m \u001b[33m0:00:07\u001b[0m \u001b[36m-:--:--\u001b[0m\n",
      "\u001b[2K\u001b[1A\u001b[2K\u001b[1A\u001b[2K\u001b[1A\u001b[2K\u001b[32m✔\u001b[0m Loading sequences  \u001b[90m━━━━━━━━━━━━━━━━━━━━\u001b[0m \u001b[32m8.4/8.4  \u001b[0m MiB     \u001b[35m100%\u001b[0m \u001b[33m0:00:00\u001b[0m \u001b[36m0:00:00\u001b[0m\n",
      "\u001b[32m✔\u001b[0m Finding ORFs       \u001b[90m━━━━━━━━━━━━━━━━━━━━\u001b[0m \u001b[32m1/1      \u001b[0m contig  \u001b[35m100%\u001b[0m \u001b[33m0:00:05\u001b[0m \u001b[36m0:00:00\u001b[0m\n",
      "\u001b[32m⠹\u001b[0m Annotating domains \u001b[90m━━━━━━━━━━━━━━━━━━━━\u001b[0m \u001b[32m0/1      \u001b[0m HMMs    \u001b[35m  0%\u001b[0m \u001b[33m0:00:07\u001b[0m \u001b[36m-:--:--\u001b[0m\n",
      "\u001b[2K\u001b[1A\u001b[2K\u001b[1A\u001b[2K\u001b[1A\u001b[2K\u001b[32m✔\u001b[0m Loading sequences  \u001b[90m━━━━━━━━━━━━━━━━━━━━\u001b[0m \u001b[32m8.4/8.4  \u001b[0m MiB     \u001b[35m100%\u001b[0m \u001b[33m0:00:00\u001b[0m \u001b[36m0:00:00\u001b[0m\n",
      "\u001b[32m✔\u001b[0m Finding ORFs       \u001b[90m━━━━━━━━━━━━━━━━━━━━\u001b[0m \u001b[32m1/1      \u001b[0m contig  \u001b[35m100%\u001b[0m \u001b[33m0:00:05\u001b[0m \u001b[36m0:00:00\u001b[0m\n",
      "\u001b[32m⠼\u001b[0m Annotating domains \u001b[90m━━━━━━━━━━━━━━━━━━━━\u001b[0m \u001b[32m0/1      \u001b[0m HMMs    \u001b[35m  0%\u001b[0m \u001b[33m0:00:07\u001b[0m \u001b[36m-:--:--\u001b[0m\n",
      "\u001b[2K\u001b[1A\u001b[2K\u001b[1A\u001b[2K\u001b[1A\u001b[2K\u001b[32m✔\u001b[0m Loading sequences  \u001b[90m━━━━━━━━━━━━━━━━━━━━\u001b[0m \u001b[32m8.4/8.4  \u001b[0m MiB     \u001b[35m100%\u001b[0m \u001b[33m0:00:00\u001b[0m \u001b[36m0:00:00\u001b[0m\n",
      "\u001b[32m✔\u001b[0m Finding ORFs       \u001b[90m━━━━━━━━━━━━━━━━━━━━\u001b[0m \u001b[32m1/1      \u001b[0m contig  \u001b[35m100%\u001b[0m \u001b[33m0:00:05\u001b[0m \u001b[36m0:00:00\u001b[0m\n",
      "\u001b[32m⠴\u001b[0m Annotating domains \u001b[90m━━━━━━━━━━━━━━━━━━━━\u001b[0m \u001b[32m0/1      \u001b[0m HMMs    \u001b[35m  0%\u001b[0m \u001b[33m0:00:08\u001b[0m \u001b[36m-:--:--\u001b[0m\n",
      "\u001b[2K\u001b[1A\u001b[2K\u001b[1A\u001b[2K\u001b[1A\u001b[2K\u001b[32m✔\u001b[0m Loading sequences  \u001b[90m━━━━━━━━━━━━━━━━━━━━\u001b[0m \u001b[32m8.4/8.4  \u001b[0m MiB     \u001b[35m100%\u001b[0m \u001b[33m0:00:00\u001b[0m \u001b[36m0:00:00\u001b[0m\n",
      "\u001b[32m✔\u001b[0m Finding ORFs       \u001b[90m━━━━━━━━━━━━━━━━━━━━\u001b[0m \u001b[32m1/1      \u001b[0m contig  \u001b[35m100%\u001b[0m \u001b[33m0:00:05\u001b[0m \u001b[36m0:00:00\u001b[0m\n",
      "\u001b[32m⠦\u001b[0m Annotating domains \u001b[90m━━━━━━━━━━━━━━━━━━━━\u001b[0m \u001b[32m0/1      \u001b[0m HMMs    \u001b[35m  0%\u001b[0m \u001b[33m0:00:08\u001b[0m \u001b[36m-:--:--\u001b[0m\n",
      "\u001b[2K\u001b[1A\u001b[2K\u001b[1A\u001b[2K\u001b[1A\u001b[2K\u001b[32m✔\u001b[0m Loading sequences  \u001b[90m━━━━━━━━━━━━━━━━━━━━\u001b[0m \u001b[32m8.4/8.4  \u001b[0m MiB     \u001b[35m100%\u001b[0m \u001b[33m0:00:00\u001b[0m \u001b[36m0:00:00\u001b[0m\n",
      "\u001b[32m✔\u001b[0m Finding ORFs       \u001b[90m━━━━━━━━━━━━━━━━━━━━\u001b[0m \u001b[32m1/1      \u001b[0m contig  \u001b[35m100%\u001b[0m \u001b[33m0:00:05\u001b[0m \u001b[36m0:00:00\u001b[0m\n",
      "\u001b[32m⠇\u001b[0m Annotating domains \u001b[90m━━━━━━━━━━━━━━━━━━━━\u001b[0m \u001b[32m0/1      \u001b[0m HMMs    \u001b[35m  0%\u001b[0m \u001b[33m0:00:08\u001b[0m \u001b[36m-:--:--\u001b[0m\n",
      "\u001b[2K\u001b[1A\u001b[2K\u001b[1A\u001b[2K\u001b[1A\u001b[2K\u001b[32m✔\u001b[0m Loading sequences  \u001b[90m━━━━━━━━━━━━━━━━━━━━\u001b[0m \u001b[32m8.4/8.4  \u001b[0m MiB     \u001b[35m100%\u001b[0m \u001b[33m0:00:00\u001b[0m \u001b[36m0:00:00\u001b[0m\n",
      "\u001b[32m✔\u001b[0m Finding ORFs       \u001b[90m━━━━━━━━━━━━━━━━━━━━\u001b[0m \u001b[32m1/1      \u001b[0m contig  \u001b[35m100%\u001b[0m \u001b[33m0:00:05\u001b[0m \u001b[36m0:00:00\u001b[0m\n",
      "\u001b[32m⠏\u001b[0m Annotating domains \u001b[90m━━━━━━━━━━━━━━━━━━━━\u001b[0m \u001b[32m0/1      \u001b[0m HMMs    \u001b[35m  0%\u001b[0m \u001b[33m0:00:08\u001b[0m \u001b[36m-:--:--\u001b[0m\n",
      "\u001b[2K\u001b[1A\u001b[2K\u001b[1A\u001b[2K\u001b[1A\u001b[2K\u001b[32m✔\u001b[0m Loading sequences  \u001b[90m━━━━━━━━━━━━━━━━━━━━\u001b[0m \u001b[32m8.4/8.4  \u001b[0m MiB     \u001b[35m100%\u001b[0m \u001b[33m0:00:00\u001b[0m \u001b[36m0:00:00\u001b[0m\n",
      "\u001b[32m✔\u001b[0m Finding ORFs       \u001b[90m━━━━━━━━━━━━━━━━━━━━\u001b[0m \u001b[32m1/1      \u001b[0m contig  \u001b[35m100%\u001b[0m \u001b[33m0:00:05\u001b[0m \u001b[36m0:00:00\u001b[0m\n",
      "\u001b[32m⠋\u001b[0m Annotating domains \u001b[90m━━━━━━━━━━━━━━━━━━━━\u001b[0m \u001b[32m0/1      \u001b[0m HMMs    \u001b[35m  0%\u001b[0m \u001b[33m0:00:08\u001b[0m \u001b[36m-:--:--\u001b[0m\n",
      "\u001b[2K\u001b[1A\u001b[2K\u001b[1A\u001b[2K\u001b[1A\u001b[2K\u001b[32m✔\u001b[0m Loading sequences  \u001b[90m━━━━━━━━━━━━━━━━━━━━\u001b[0m \u001b[32m8.4/8.4  \u001b[0m MiB     \u001b[35m100%\u001b[0m \u001b[33m0:00:00\u001b[0m \u001b[36m0:00:00\u001b[0m\n",
      "\u001b[32m✔\u001b[0m Finding ORFs       \u001b[90m━━━━━━━━━━━━━━━━━━━━\u001b[0m \u001b[32m1/1      \u001b[0m contig  \u001b[35m100%\u001b[0m \u001b[33m0:00:05\u001b[0m \u001b[36m0:00:00\u001b[0m\n",
      "\u001b[32m⠹\u001b[0m Annotating domains \u001b[90m━━━━━━━━━━━━━━━━━━━━\u001b[0m \u001b[32m0/1      \u001b[0m HMMs    \u001b[35m  0%\u001b[0m \u001b[33m0:00:08\u001b[0m \u001b[36m-:--:--\u001b[0m\n",
      "\u001b[2K\u001b[1A\u001b[2K\u001b[1A\u001b[2K\u001b[1A\u001b[2K\u001b[32m✔\u001b[0m Loading sequences  \u001b[90m━━━━━━━━━━━━━━━━━━━━\u001b[0m \u001b[32m8.4/8.4  \u001b[0m MiB     \u001b[35m100%\u001b[0m \u001b[33m0:00:00\u001b[0m \u001b[36m0:00:00\u001b[0m\n",
      "\u001b[32m✔\u001b[0m Finding ORFs       \u001b[90m━━━━━━━━━━━━━━━━━━━━\u001b[0m \u001b[32m1/1      \u001b[0m contig  \u001b[35m100%\u001b[0m \u001b[33m0:00:05\u001b[0m \u001b[36m0:00:00\u001b[0m\n",
      "\u001b[32m⠸\u001b[0m Annotating domains \u001b[90m━━━━━━━━━━━━━━━━━━━━\u001b[0m \u001b[32m0/1      \u001b[0m HMMs    \u001b[35m  0%\u001b[0m \u001b[33m0:00:08\u001b[0m \u001b[36m-:--:--\u001b[0m\n",
      "\u001b[2K\u001b[1A\u001b[2K\u001b[1A\u001b[2K\u001b[1A\u001b[2K\u001b[32m✔\u001b[0m Loading sequences  \u001b[90m━━━━━━━━━━━━━━━━━━━━\u001b[0m \u001b[32m8.4/8.4  \u001b[0m MiB     \u001b[35m100%\u001b[0m \u001b[33m0:00:00\u001b[0m \u001b[36m0:00:00\u001b[0m\n",
      "\u001b[32m✔\u001b[0m Finding ORFs       \u001b[90m━━━━━━━━━━━━━━━━━━━━\u001b[0m \u001b[32m1/1      \u001b[0m contig  \u001b[35m100%\u001b[0m \u001b[33m0:00:05\u001b[0m \u001b[36m0:00:00\u001b[0m\n",
      "\u001b[32m⠴\u001b[0m Annotating domains \u001b[90m━━━━━━━━━━━━━━━━━━━━\u001b[0m \u001b[32m0/1      \u001b[0m HMMs    \u001b[35m  0%\u001b[0m \u001b[33m0:00:08\u001b[0m \u001b[36m-:--:--\u001b[0m\n",
      "\u001b[2K\u001b[1A\u001b[2K\u001b[1A\u001b[2K\u001b[1A\u001b[2K\u001b[32m✔\u001b[0m Loading sequences  \u001b[90m━━━━━━━━━━━━━━━━━━━━\u001b[0m \u001b[32m8.4/8.4  \u001b[0m MiB     \u001b[35m100%\u001b[0m \u001b[33m0:00:00\u001b[0m \u001b[36m0:00:00\u001b[0m\n",
      "\u001b[32m✔\u001b[0m Finding ORFs       \u001b[90m━━━━━━━━━━━━━━━━━━━━\u001b[0m \u001b[32m1/1      \u001b[0m contig  \u001b[35m100%\u001b[0m \u001b[33m0:00:05\u001b[0m \u001b[36m0:00:00\u001b[0m\n",
      "\u001b[32m⠦\u001b[0m Annotating domains \u001b[90m━━━━━━━━━━━━━━━━━━━━\u001b[0m \u001b[32m0/1      \u001b[0m HMMs    \u001b[35m  0%\u001b[0m \u001b[33m0:00:08\u001b[0m \u001b[36m-:--:--\u001b[0m\n",
      "\u001b[2K\u001b[1A\u001b[2K\u001b[1A\u001b[2K\u001b[1A\u001b[2K\u001b[32m✔\u001b[0m Loading sequences  \u001b[90m━━━━━━━━━━━━━━━━━━━━\u001b[0m \u001b[32m8.4/8.4  \u001b[0m MiB     \u001b[35m100%\u001b[0m \u001b[33m0:00:00\u001b[0m \u001b[36m0:00:00\u001b[0m\n",
      "\u001b[32m✔\u001b[0m Finding ORFs       \u001b[90m━━━━━━━━━━━━━━━━━━━━\u001b[0m \u001b[32m1/1      \u001b[0m contig  \u001b[35m100%\u001b[0m \u001b[33m0:00:05\u001b[0m \u001b[36m0:00:00\u001b[0m\n",
      "\u001b[32m⠧\u001b[0m Annotating domains \u001b[90m━━━━━━━━━━━━━━━━━━━━\u001b[0m \u001b[32m0/1      \u001b[0m HMMs    \u001b[35m  0%\u001b[0m \u001b[33m0:00:09\u001b[0m \u001b[36m-:--:--\u001b[0m\n",
      "\u001b[2K\u001b[1A\u001b[2K\u001b[1A\u001b[2K\u001b[1A\u001b[2K\u001b[32m✔\u001b[0m Loading sequences  \u001b[90m━━━━━━━━━━━━━━━━━━━━\u001b[0m \u001b[32m8.4/8.4  \u001b[0m MiB     \u001b[35m100%\u001b[0m \u001b[33m0:00:00\u001b[0m \u001b[36m0:00:00\u001b[0m\n",
      "\u001b[32m✔\u001b[0m Finding ORFs       \u001b[90m━━━━━━━━━━━━━━━━━━━━\u001b[0m \u001b[32m1/1      \u001b[0m contig  \u001b[35m100%\u001b[0m \u001b[33m0:00:05\u001b[0m \u001b[36m0:00:00\u001b[0m\n",
      "\u001b[32m⠏\u001b[0m Annotating domains \u001b[90m━━━━━━━━━━━━━━━━━━━━\u001b[0m \u001b[32m0/1      \u001b[0m HMMs    \u001b[35m  0%\u001b[0m \u001b[33m0:00:09\u001b[0m \u001b[36m-:--:--\u001b[0m\n",
      "\u001b[2K\u001b[1A\u001b[2K\u001b[1A\u001b[2K\u001b[1A\u001b[2K\u001b[32m✔\u001b[0m Loading sequences  \u001b[90m━━━━━━━━━━━━━━━━━━━━\u001b[0m \u001b[32m8.4/8.4  \u001b[0m MiB     \u001b[35m100%\u001b[0m \u001b[33m0:00:00\u001b[0m \u001b[36m0:00:00\u001b[0m\n",
      "\u001b[32m✔\u001b[0m Finding ORFs       \u001b[90m━━━━━━━━━━━━━━━━━━━━\u001b[0m \u001b[32m1/1      \u001b[0m contig  \u001b[35m100%\u001b[0m \u001b[33m0:00:05\u001b[0m \u001b[36m0:00:00\u001b[0m\n",
      "\u001b[32m⠋\u001b[0m Annotating domains \u001b[90m━━━━━━━━━━━━━━━━━━━━\u001b[0m \u001b[32m0/1      \u001b[0m HMMs    \u001b[35m  0%\u001b[0m \u001b[33m0:00:09\u001b[0m \u001b[36m-:--:--\u001b[0m\n",
      "\u001b[2K\u001b[1A\u001b[2K\u001b[1A\u001b[2K\u001b[1A\u001b[2K\u001b[32m✔\u001b[0m Loading sequences  \u001b[90m━━━━━━━━━━━━━━━━━━━━\u001b[0m \u001b[32m8.4/8.4  \u001b[0m MiB     \u001b[35m100%\u001b[0m \u001b[33m0:00:00\u001b[0m \u001b[36m0:00:00\u001b[0m\n",
      "\u001b[32m✔\u001b[0m Finding ORFs       \u001b[90m━━━━━━━━━━━━━━━━━━━━\u001b[0m \u001b[32m1/1      \u001b[0m contig  \u001b[35m100%\u001b[0m \u001b[33m0:00:05\u001b[0m \u001b[36m0:00:00\u001b[0m\n",
      "\u001b[32m⠹\u001b[0m Annotating domains \u001b[90m━━━━━━━━━━━━━━━━━━━━\u001b[0m \u001b[32m0/1      \u001b[0m HMMs    \u001b[35m  0%\u001b[0m \u001b[33m0:00:09\u001b[0m \u001b[36m-:--:--\u001b[0m\n",
      "\u001b[2K\u001b[1A\u001b[2K\u001b[1A\u001b[2K\u001b[1A\u001b[2K\u001b[32m✔\u001b[0m Loading sequences  \u001b[90m━━━━━━━━━━━━━━━━━━━━\u001b[0m \u001b[32m8.4/8.4  \u001b[0m MiB     \u001b[35m100%\u001b[0m \u001b[33m0:00:00\u001b[0m \u001b[36m0:00:00\u001b[0m\n",
      "\u001b[32m✔\u001b[0m Finding ORFs       \u001b[90m━━━━━━━━━━━━━━━━━━━━\u001b[0m \u001b[32m1/1      \u001b[0m contig  \u001b[35m100%\u001b[0m \u001b[33m0:00:05\u001b[0m \u001b[36m0:00:00\u001b[0m\n",
      "\u001b[32m⠸\u001b[0m Annotating domains \u001b[90m━━━━━━━━━━━━━━━━━━━━\u001b[0m \u001b[32m0/1      \u001b[0m HMMs    \u001b[35m  0%\u001b[0m \u001b[33m0:00:09\u001b[0m \u001b[36m-:--:--\u001b[0m\n",
      "\u001b[2K\u001b[1A\u001b[2K\u001b[1A\u001b[2K\u001b[1A\u001b[2K\u001b[32m✔\u001b[0m Loading sequences  \u001b[90m━━━━━━━━━━━━━━━━━━━━\u001b[0m \u001b[32m8.4/8.4  \u001b[0m MiB     \u001b[35m100%\u001b[0m \u001b[33m0:00:00\u001b[0m \u001b[36m0:00:00\u001b[0m\n",
      "\u001b[32m✔\u001b[0m Finding ORFs       \u001b[90m━━━━━━━━━━━━━━━━━━━━\u001b[0m \u001b[32m1/1      \u001b[0m contig  \u001b[35m100%\u001b[0m \u001b[33m0:00:05\u001b[0m \u001b[36m0:00:00\u001b[0m\n",
      "\u001b[32m⠼\u001b[0m Annotating domains \u001b[90m━━━━━━━━━━━━━━━━━━━━\u001b[0m \u001b[32m0/1      \u001b[0m HMMs    \u001b[35m  0%\u001b[0m \u001b[33m0:00:09\u001b[0m \u001b[36m-:--:--\u001b[0m\n",
      "\u001b[2K\u001b[1A\u001b[2K\u001b[1A\u001b[2K\u001b[1A\u001b[2K\u001b[32m✔\u001b[0m Loading sequences  \u001b[90m━━━━━━━━━━━━━━━━━━━━\u001b[0m \u001b[32m8.4/8.4  \u001b[0m MiB     \u001b[35m100%\u001b[0m \u001b[33m0:00:00\u001b[0m \u001b[36m0:00:00\u001b[0m\n",
      "\u001b[32m✔\u001b[0m Finding ORFs       \u001b[90m━━━━━━━━━━━━━━━━━━━━\u001b[0m \u001b[32m1/1      \u001b[0m contig  \u001b[35m100%\u001b[0m \u001b[33m0:00:05\u001b[0m \u001b[36m0:00:00\u001b[0m\n",
      "\u001b[32m⠦\u001b[0m Annotating domains \u001b[90m━━━━━━━━━━━━━━━━━━━━\u001b[0m \u001b[32m0/1      \u001b[0m HMMs    \u001b[35m  0%\u001b[0m \u001b[33m0:00:09\u001b[0m \u001b[36m-:--:--\u001b[0m\n",
      "\u001b[2K\u001b[1A\u001b[2K\u001b[1A\u001b[2K\u001b[1A\u001b[2K\u001b[32m✔\u001b[0m Loading sequences  \u001b[90m━━━━━━━━━━━━━━━━━━━━\u001b[0m \u001b[32m8.4/8.4  \u001b[0m MiB     \u001b[35m100%\u001b[0m \u001b[33m0:00:00\u001b[0m \u001b[36m0:00:00\u001b[0m\n",
      "\u001b[32m✔\u001b[0m Finding ORFs       \u001b[90m━━━━━━━━━━━━━━━━━━━━\u001b[0m \u001b[32m1/1      \u001b[0m contig  \u001b[35m100%\u001b[0m \u001b[33m0:00:05\u001b[0m \u001b[36m0:00:00\u001b[0m\n",
      "\u001b[32m⠧\u001b[0m Annotating domains \u001b[90m━━━━━━━━━━━━━━━━━━━━\u001b[0m \u001b[32m0/1      \u001b[0m HMMs    \u001b[35m  0%\u001b[0m \u001b[33m0:00:09\u001b[0m \u001b[36m-:--:--\u001b[0m\n",
      "\u001b[2K\u001b[1A\u001b[2K\u001b[1A\u001b[2K\u001b[1A\u001b[2K\u001b[32m✔\u001b[0m Loading sequences  \u001b[90m━━━━━━━━━━━━━━━━━━━━\u001b[0m \u001b[32m8.4/8.4  \u001b[0m MiB     \u001b[35m100%\u001b[0m \u001b[33m0:00:00\u001b[0m \u001b[36m0:00:00\u001b[0m\n",
      "\u001b[32m✔\u001b[0m Finding ORFs       \u001b[90m━━━━━━━━━━━━━━━━━━━━\u001b[0m \u001b[32m1/1      \u001b[0m contig  \u001b[35m100%\u001b[0m \u001b[33m0:00:05\u001b[0m \u001b[36m0:00:00\u001b[0m\n",
      "\u001b[32m⠏\u001b[0m Annotating domains \u001b[90m━━━━━━━━━━━━━━━━━━━━\u001b[0m \u001b[32m0/1      \u001b[0m HMMs    \u001b[35m  0%\u001b[0m \u001b[33m0:00:09\u001b[0m \u001b[36m-:--:--\u001b[0m\n",
      "\u001b[2K\u001b[1A\u001b[2K\u001b[1A\u001b[2K\u001b[1A\u001b[2K\u001b[32m✔\u001b[0m Loading sequences  \u001b[90m━━━━━━━━━━━━━━━━━━━━\u001b[0m \u001b[32m8.4/8.4  \u001b[0m MiB     \u001b[35m100%\u001b[0m \u001b[33m0:00:00\u001b[0m \u001b[36m0:00:00\u001b[0m\n",
      "\u001b[32m✔\u001b[0m Finding ORFs       \u001b[90m━━━━━━━━━━━━━━━━━━━━\u001b[0m \u001b[32m1/1      \u001b[0m contig  \u001b[35m100%\u001b[0m \u001b[33m0:00:05\u001b[0m \u001b[36m0:00:00\u001b[0m\n",
      "\u001b[32m⠋\u001b[0m Annotating domains \u001b[90m━━━━━━━━━━━━━━━━━━━━\u001b[0m \u001b[32m0/1      \u001b[0m HMMs    \u001b[35m  0%\u001b[0m \u001b[33m0:00:10\u001b[0m \u001b[36m-:--:--\u001b[0m\n",
      "\u001b[2K\u001b[1A\u001b[2K\u001b[1A\u001b[2K\u001b[1A\u001b[2K\u001b[32m✔\u001b[0m Loading sequences  \u001b[90m━━━━━━━━━━━━━━━━━━━━\u001b[0m \u001b[32m8.4/8.4  \u001b[0m MiB     \u001b[35m100%\u001b[0m \u001b[33m0:00:00\u001b[0m \u001b[36m0:00:00\u001b[0m\n",
      "\u001b[32m✔\u001b[0m Finding ORFs       \u001b[90m━━━━━━━━━━━━━━━━━━━━\u001b[0m \u001b[32m1/1      \u001b[0m contig  \u001b[35m100%\u001b[0m \u001b[33m0:00:05\u001b[0m \u001b[36m0:00:00\u001b[0m\n",
      "\u001b[32m⠙\u001b[0m Annotating domains \u001b[90m━━━━━━━━━━━━━━━━━━━━\u001b[0m \u001b[32m0/1      \u001b[0m HMMs    \u001b[35m  0%\u001b[0m \u001b[33m0:00:10\u001b[0m \u001b[36m-:--:--\u001b[0m\n",
      "\u001b[2K\u001b[1A\u001b[2K\u001b[1A\u001b[2K\u001b[1A\u001b[2K\u001b[32m✔\u001b[0m Loading sequences  \u001b[90m━━━━━━━━━━━━━━━━━━━━\u001b[0m \u001b[32m8.4/8.4  \u001b[0m MiB     \u001b[35m100%\u001b[0m \u001b[33m0:00:00\u001b[0m \u001b[36m0:00:00\u001b[0m\n",
      "\u001b[32m✔\u001b[0m Finding ORFs       \u001b[90m━━━━━━━━━━━━━━━━━━━━\u001b[0m \u001b[32m1/1      \u001b[0m contig  \u001b[35m100%\u001b[0m \u001b[33m0:00:05\u001b[0m \u001b[36m0:00:00\u001b[0m\n",
      "\u001b[32m⠸\u001b[0m Annotating domains \u001b[90m━━━━━━━━━━━━━━━━━━━━\u001b[0m \u001b[32m0/1      \u001b[0m HMMs    \u001b[35m  0%\u001b[0m \u001b[33m0:00:10\u001b[0m \u001b[36m-:--:--\u001b[0m\n",
      "\u001b[2K\u001b[1A\u001b[2K\u001b[1A\u001b[2K\u001b[1A\u001b[2K\u001b[32m✔\u001b[0m Loading sequences  \u001b[90m━━━━━━━━━━━━━━━━━━━━\u001b[0m \u001b[32m8.4/8.4  \u001b[0m MiB     \u001b[35m100%\u001b[0m \u001b[33m0:00:00\u001b[0m \u001b[36m0:00:00\u001b[0m\n",
      "\u001b[32m✔\u001b[0m Finding ORFs       \u001b[90m━━━━━━━━━━━━━━━━━━━━\u001b[0m \u001b[32m1/1      \u001b[0m contig  \u001b[35m100%\u001b[0m \u001b[33m0:00:05\u001b[0m \u001b[36m0:00:00\u001b[0m\n",
      "\u001b[32m⠼\u001b[0m Annotating domains \u001b[90m━━━━━━━━━━━━━━━━━━━━\u001b[0m \u001b[32m0/1      \u001b[0m HMMs    \u001b[35m  0%\u001b[0m \u001b[33m0:00:10\u001b[0m \u001b[36m-:--:--\u001b[0m\n",
      "\u001b[2K\u001b[1A\u001b[2K\u001b[1A\u001b[2K\u001b[1A\u001b[2K\u001b[32m✔\u001b[0m Loading sequences  \u001b[90m━━━━━━━━━━━━━━━━━━━━\u001b[0m \u001b[32m8.4/8.4  \u001b[0m MiB     \u001b[35m100%\u001b[0m \u001b[33m0:00:00\u001b[0m \u001b[36m0:00:00\u001b[0m\n",
      "\u001b[32m✔\u001b[0m Finding ORFs       \u001b[90m━━━━━━━━━━━━━━━━━━━━\u001b[0m \u001b[32m1/1      \u001b[0m contig  \u001b[35m100%\u001b[0m \u001b[33m0:00:05\u001b[0m \u001b[36m0:00:00\u001b[0m\n",
      "\u001b[32m⠦\u001b[0m Annotating domains \u001b[90m━━━━━━━━━━━━━━━━━━━━\u001b[0m \u001b[32m0/1      \u001b[0m HMMs    \u001b[35m  0%\u001b[0m \u001b[33m0:00:10\u001b[0m \u001b[36m-:--:--\u001b[0m\n",
      "\u001b[2K\u001b[1A\u001b[2K\u001b[1A\u001b[2K\u001b[1A\u001b[2K\u001b[32m✔\u001b[0m Loading sequences  \u001b[90m━━━━━━━━━━━━━━━━━━━━\u001b[0m \u001b[32m8.4/8.4  \u001b[0m MiB     \u001b[35m100%\u001b[0m \u001b[33m0:00:00\u001b[0m \u001b[36m0:00:00\u001b[0m\n",
      "\u001b[32m✔\u001b[0m Finding ORFs       \u001b[90m━━━━━━━━━━━━━━━━━━━━\u001b[0m \u001b[32m1/1      \u001b[0m contig  \u001b[35m100%\u001b[0m \u001b[33m0:00:05\u001b[0m \u001b[36m0:00:00\u001b[0m\n",
      "\u001b[32m⠧\u001b[0m Annotating domains \u001b[90m━━━━━━━━━━━━━━━━━━━━\u001b[0m \u001b[32m0/1      \u001b[0m HMMs    \u001b[35m  0%\u001b[0m \u001b[33m0:00:10\u001b[0m \u001b[36m-:--:--\u001b[0m\n",
      "\u001b[2K\u001b[1A\u001b[2K\u001b[1A\u001b[2K\u001b[1A\u001b[2K\u001b[32m✔\u001b[0m Loading sequences  \u001b[90m━━━━━━━━━━━━━━━━━━━━\u001b[0m \u001b[32m8.4/8.4  \u001b[0m MiB     \u001b[35m100%\u001b[0m \u001b[33m0:00:00\u001b[0m \u001b[36m0:00:00\u001b[0m\n",
      "\u001b[32m✔\u001b[0m Finding ORFs       \u001b[90m━━━━━━━━━━━━━━━━━━━━\u001b[0m \u001b[32m1/1      \u001b[0m contig  \u001b[35m100%\u001b[0m \u001b[33m0:00:05\u001b[0m \u001b[36m0:00:00\u001b[0m\n",
      "\u001b[32m⠇\u001b[0m Annotating domains \u001b[90m━━━━━━━━━━━━━━━━━━━━\u001b[0m \u001b[32m0/1      \u001b[0m HMMs    \u001b[35m  0%\u001b[0m \u001b[33m0:00:10\u001b[0m \u001b[36m-:--:--\u001b[0m\n",
      "\u001b[2K\u001b[1A\u001b[2K\u001b[1A\u001b[2K\u001b[1A\u001b[2K\u001b[32m✔\u001b[0m Loading sequences  \u001b[90m━━━━━━━━━━━━━━━━━━━━\u001b[0m \u001b[32m8.4/8.4  \u001b[0m MiB     \u001b[35m100%\u001b[0m \u001b[33m0:00:00\u001b[0m \u001b[36m0:00:00\u001b[0m\n",
      "\u001b[32m✔\u001b[0m Finding ORFs       \u001b[90m━━━━━━━━━━━━━━━━━━━━\u001b[0m \u001b[32m1/1      \u001b[0m contig  \u001b[35m100%\u001b[0m \u001b[33m0:00:05\u001b[0m \u001b[36m0:00:00\u001b[0m\n",
      "\u001b[32m⠋\u001b[0m Annotating domains \u001b[90m━━━━━━━━━━━━━━━━━━━━\u001b[0m \u001b[32m0/1      \u001b[0m HMMs    \u001b[35m  0%\u001b[0m \u001b[33m0:00:10\u001b[0m \u001b[36m-:--:--\u001b[0m\n",
      "\u001b[2K\u001b[1A\u001b[2K\u001b[1A\u001b[2K\u001b[1A\u001b[2K\u001b[32m✔\u001b[0m Loading sequences  \u001b[90m━━━━━━━━━━━━━━━━━━━━\u001b[0m \u001b[32m8.4/8.4  \u001b[0m MiB     \u001b[35m100%\u001b[0m \u001b[33m0:00:00\u001b[0m \u001b[36m0:00:00\u001b[0m\n",
      "\u001b[32m✔\u001b[0m Finding ORFs       \u001b[90m━━━━━━━━━━━━━━━━━━━━\u001b[0m \u001b[32m1/1      \u001b[0m contig  \u001b[35m100%\u001b[0m \u001b[33m0:00:05\u001b[0m \u001b[36m0:00:00\u001b[0m\n",
      "\u001b[32m⠙\u001b[0m Annotating domains \u001b[90m━━━━━━━━━━━━━━━━━━━━\u001b[0m \u001b[32m0/1      \u001b[0m HMMs    \u001b[35m  0%\u001b[0m \u001b[33m0:00:10\u001b[0m \u001b[36m-:--:--\u001b[0m\n",
      "\u001b[2K\u001b[1A\u001b[2K\u001b[1A\u001b[2K\u001b[1A\u001b[2K\u001b[32m✔\u001b[0m Loading sequences  \u001b[90m━━━━━━━━━━━━━━━━━━━━\u001b[0m \u001b[32m8.4/8.4  \u001b[0m MiB     \u001b[35m100%\u001b[0m \u001b[33m0:00:00\u001b[0m \u001b[36m0:00:00\u001b[0m\n",
      "\u001b[32m✔\u001b[0m Finding ORFs       \u001b[90m━━━━━━━━━━━━━━━━━━━━\u001b[0m \u001b[32m1/1      \u001b[0m contig  \u001b[35m100%\u001b[0m \u001b[33m0:00:05\u001b[0m \u001b[36m0:00:00\u001b[0m\n",
      "\u001b[32m⠸\u001b[0m Annotating domains \u001b[90m━━━━━━━━━━━━━━━━━━━━\u001b[0m \u001b[32m0/1      \u001b[0m HMMs    \u001b[35m  0%\u001b[0m \u001b[33m0:00:11\u001b[0m \u001b[36m-:--:--\u001b[0m\n",
      "\u001b[2K\u001b[1A\u001b[2K\u001b[1A\u001b[2K\u001b[1A\u001b[2K\u001b[32m✔\u001b[0m Loading sequences  \u001b[90m━━━━━━━━━━━━━━━━━━━━\u001b[0m \u001b[32m8.4/8.4  \u001b[0m MiB     \u001b[35m100%\u001b[0m \u001b[33m0:00:00\u001b[0m \u001b[36m0:00:00\u001b[0m\n",
      "\u001b[32m✔\u001b[0m Finding ORFs       \u001b[90m━━━━━━━━━━━━━━━━━━━━\u001b[0m \u001b[32m1/1      \u001b[0m contig  \u001b[35m100%\u001b[0m \u001b[33m0:00:05\u001b[0m \u001b[36m0:00:00\u001b[0m\n",
      "\u001b[32m⠼\u001b[0m Annotating domains \u001b[90m━━━━━━━━━━━━━━━━━━━━\u001b[0m \u001b[32m0/1      \u001b[0m HMMs    \u001b[35m  0%\u001b[0m \u001b[33m0:00:11\u001b[0m \u001b[36m-:--:--\u001b[0m\n",
      "\u001b[2K\u001b[1A\u001b[2K\u001b[1A\u001b[2K\u001b[1A\u001b[2K\u001b[32m✔\u001b[0m Loading sequences  \u001b[90m━━━━━━━━━━━━━━━━━━━━\u001b[0m \u001b[32m8.4/8.4  \u001b[0m MiB     \u001b[35m100%\u001b[0m \u001b[33m0:00:00\u001b[0m \u001b[36m0:00:00\u001b[0m\n",
      "\u001b[32m✔\u001b[0m Finding ORFs       \u001b[90m━━━━━━━━━━━━━━━━━━━━\u001b[0m \u001b[32m1/1      \u001b[0m contig  \u001b[35m100%\u001b[0m \u001b[33m0:00:05\u001b[0m \u001b[36m0:00:00\u001b[0m\n",
      "\u001b[32m⠴\u001b[0m Annotating domains \u001b[90m━━━━━━━━━━━━━━━━━━━━\u001b[0m \u001b[32m0/1      \u001b[0m HMMs    \u001b[35m  0%\u001b[0m \u001b[33m0:00:11\u001b[0m \u001b[36m-:--:--\u001b[0m\n",
      "\u001b[2K\u001b[1A\u001b[2K\u001b[1A\u001b[2K\u001b[1A\u001b[2K\u001b[32m✔\u001b[0m Loading sequences  \u001b[90m━━━━━━━━━━━━━━━━━━━━\u001b[0m \u001b[32m8.4/8.4  \u001b[0m MiB     \u001b[35m100%\u001b[0m \u001b[33m0:00:00\u001b[0m \u001b[36m0:00:00\u001b[0m\n",
      "\u001b[32m✔\u001b[0m Finding ORFs       \u001b[90m━━━━━━━━━━━━━━━━━━━━\u001b[0m \u001b[32m1/1      \u001b[0m contig  \u001b[35m100%\u001b[0m \u001b[33m0:00:05\u001b[0m \u001b[36m0:00:00\u001b[0m\n",
      "\u001b[32m⠧\u001b[0m Annotating domains \u001b[90m━━━━━━━━━━━━━━━━━━━━\u001b[0m \u001b[32m0/1      \u001b[0m HMMs    \u001b[35m  0%\u001b[0m \u001b[33m0:00:11\u001b[0m \u001b[36m-:--:--\u001b[0m\n",
      "\u001b[2K\u001b[1A\u001b[2K\u001b[1A\u001b[2K\u001b[1A\u001b[2K\u001b[32m✔\u001b[0m Loading sequences  \u001b[90m━━━━━━━━━━━━━━━━━━━━\u001b[0m \u001b[32m8.4/8.4  \u001b[0m MiB     \u001b[35m100%\u001b[0m \u001b[33m0:00:00\u001b[0m \u001b[36m0:00:00\u001b[0m\n",
      "\u001b[32m✔\u001b[0m Finding ORFs       \u001b[90m━━━━━━━━━━━━━━━━━━━━\u001b[0m \u001b[32m1/1      \u001b[0m contig  \u001b[35m100%\u001b[0m \u001b[33m0:00:05\u001b[0m \u001b[36m0:00:00\u001b[0m\n",
      "\u001b[32m⠇\u001b[0m Annotating domains \u001b[90m━━━━━━━━━━━━━━━━━━━━\u001b[0m \u001b[32m0/1      \u001b[0m HMMs    \u001b[35m  0%\u001b[0m \u001b[33m0:00:11\u001b[0m \u001b[36m-:--:--\u001b[0m\n",
      "\u001b[2K\u001b[1A\u001b[2K\u001b[1A\u001b[2K\u001b[1A\u001b[2K\u001b[32m✔\u001b[0m Loading sequences  \u001b[90m━━━━━━━━━━━━━━━━━━━━\u001b[0m \u001b[32m8.4/8.4  \u001b[0m MiB     \u001b[35m100%\u001b[0m \u001b[33m0:00:00\u001b[0m \u001b[36m0:00:00\u001b[0m\n",
      "\u001b[32m✔\u001b[0m Finding ORFs       \u001b[90m━━━━━━━━━━━━━━━━━━━━\u001b[0m \u001b[32m1/1      \u001b[0m contig  \u001b[35m100%\u001b[0m \u001b[33m0:00:05\u001b[0m \u001b[36m0:00:00\u001b[0m\n",
      "\u001b[32m✔\u001b[0m Annotating domains \u001b[90m━━━━━━━━━━━━━━━━━━━━\u001b[0m \u001b[32m1/1      \u001b[0m HMMs    \u001b[35m100%\u001b[0m \u001b[33m0:00:11\u001b[0m \u001b[36m0:00:00\u001b[0m\n",
      "\u001b[2K\u001b[1A\u001b[2K\u001b[1A\u001b[2K\u001b[1A\u001b[2K\u001b[32m✔\u001b[0m Loading sequences  \u001b[90m━━━━━━━━━━━━━━━━━━━━━━━\u001b[0m \u001b[32m8.4/8.4\u001b[0m MiB    \u001b[35m100%\u001b[0m \u001b[33m0:00:00\u001b[0m \u001b[36m0:00:00\u001b[0m\n",
      "\u001b[32m✔\u001b[0m Finding ORFs       \u001b[90m━━━━━━━━━━━━━━━━━━━━━━━\u001b[0m \u001b[32m1/1    \u001b[0m contig \u001b[35m100%\u001b[0m \u001b[33m0:00:05\u001b[0m \u001b[36m0:00:00\u001b[0m\n",
      "\u001b[2K\u001b[1A\u001b[2K\u001b[1A\u001b[2K\u001b[32m✔\u001b[0m Loading sequences  \u001b[90m━━━━━━━━━━━━━━━━━━━━━━━\u001b[0m \u001b[32m8.4/8.4\u001b[0m MiB    \u001b[35m100%\u001b[0m \u001b[33m0:00:00\u001b[0m \u001b[36m0:00:00\u001b[0m\n",
      "\u001b[32m✔\u001b[0m Finding ORFs       \u001b[90m━━━━━━━━━━━━━━━━━━━━━━━\u001b[0m \u001b[32m1/1    \u001b[0m contig \u001b[35m100%\u001b[0m \u001b[33m0:00:05\u001b[0m \u001b[36m0:00:00\u001b[0m\n",
      "\u001b[2K\u001b[1A\u001b[2K\u001b[1A\u001b[2K\u001b[32m✔\u001b[0m Loading sequences  \u001b[90m━━━━━━━━━━━━━━━━━━━━━━━\u001b[0m \u001b[32m8.4/8.4\u001b[0m MiB    \u001b[35m100%\u001b[0m \u001b[33m0:00:00\u001b[0m \u001b[36m0:00:00\u001b[0m\n",
      "\u001b[32m✔\u001b[0m Finding ORFs       \u001b[90m━━━━━━━━━━━━━━━━━━━━━━━\u001b[0m \u001b[32m1/1    \u001b[0m contig \u001b[35m100%\u001b[0m \u001b[33m0:00:05\u001b[0m \u001b[36m0:00:00\u001b[0m\n",
      "\u001b[2K\u001b[1A\u001b[2K\u001b[1A\u001b[2K\u001b[32m✔\u001b[0m Loading sequences  \u001b[90m━━━━━━━━━━━━━━━━━━━━━━━\u001b[0m \u001b[32m8.4/8.4\u001b[0m MiB    \u001b[35m100%\u001b[0m \u001b[33m0:00:00\u001b[0m \u001b[36m0:00:00\u001b[0m\n",
      "\u001b[32m✔\u001b[0m Finding ORFs       \u001b[90m━━━━━━━━━━━━━━━━━━━━━━━\u001b[0m \u001b[32m1/1    \u001b[0m contig \u001b[35m100%\u001b[0m \u001b[33m0:00:05\u001b[0m \u001b[36m0:00:00\u001b[0m\n",
      "\u001b[2K\u001b[1A\u001b[2K\u001b[1A\u001b[2K\u001b[32m✔\u001b[0m Loading sequences  \u001b[90m━━━━━━━━━━━━━━━━━━━━━━━\u001b[0m \u001b[32m8.4/8.4\u001b[0m MiB    \u001b[35m100%\u001b[0m \u001b[33m0:00:00\u001b[0m \u001b[36m0:00:00\u001b[0m\n",
      "\u001b[32m✔\u001b[0m Finding ORFs       \u001b[90m━━━━━━━━━━━━━━━━━━━━━━━\u001b[0m \u001b[32m1/1    \u001b[0m contig \u001b[35m100%\u001b[0m \u001b[33m0:00:05\u001b[0m \u001b[36m0:00:00\u001b[0m\n",
      "\u001b[2K\u001b[1A\u001b[2K\u001b[1A\u001b[2K\u001b[32m✔\u001b[0m Loading sequences  \u001b[90m━━━━━━━━━━━━━━━━━━━━━━━\u001b[0m \u001b[32m8.4/8.4\u001b[0m MiB    \u001b[35m100%\u001b[0m \u001b[33m0:00:00\u001b[0m \u001b[36m0:00:00\u001b[0m\n",
      "\u001b[32m✔\u001b[0m Finding ORFs       \u001b[90m━━━━━━━━━━━━━━━━━━━━━━━\u001b[0m \u001b[32m1/1    \u001b[0m contig \u001b[35m100%\u001b[0m \u001b[33m0:00:05\u001b[0m \u001b[36m0:00:00\u001b[0m\n",
      "\u001b[2K\u001b[1A\u001b[2K\u001b[1A\u001b[2K\u001b[32m✔\u001b[0m Loading sequences  \u001b[90m━━━━━━━━━━━━━━━━━━━━━━━\u001b[0m \u001b[32m8.4/8.4\u001b[0m MiB    \u001b[35m100%\u001b[0m \u001b[33m0:00:00\u001b[0m \u001b[36m0:00:00\u001b[0m\n",
      "\u001b[32m✔\u001b[0m Finding ORFs       \u001b[90m━━━━━━━━━━━━━━━━━━━━━━━\u001b[0m \u001b[32m1/1    \u001b[0m contig \u001b[35m100%\u001b[0m \u001b[33m0:00:05\u001b[0m \u001b[36m0:00:00\u001b[0m\n",
      "\u001b[2K\u001b[1A\u001b[2K\u001b[1A\u001b[2K\u001b[32m✔\u001b[0m Loading sequences  \u001b[90m━━━━━━━━━━━━━━━━━━━━━━━\u001b[0m \u001b[32m8.4/8.4\u001b[0m MiB    \u001b[35m100%\u001b[0m \u001b[33m0:00:00\u001b[0m \u001b[36m0:00:00\u001b[0m\n",
      "\u001b[32m✔\u001b[0m Finding ORFs       \u001b[90m━━━━━━━━━━━━━━━━━━━━━━━\u001b[0m \u001b[32m1/1    \u001b[0m contig \u001b[35m100%\u001b[0m \u001b[33m0:00:05\u001b[0m \u001b[36m0:00:00\u001b[0m\n",
      "\u001b[2K\u001b[1A\u001b[2K\u001b[1A\u001b[2K\u001b[32m✔\u001b[0m Loading sequences  \u001b[90m━━━━━━━━━━━━━━━━━━━━━━━\u001b[0m \u001b[32m8.4/8.4\u001b[0m MiB    \u001b[35m100%\u001b[0m \u001b[33m0:00:00\u001b[0m \u001b[36m0:00:00\u001b[0m\n",
      "\u001b[32m✔\u001b[0m Finding ORFs       \u001b[90m━━━━━━━━━━━━━━━━━━━━━━━\u001b[0m \u001b[32m1/1    \u001b[0m contig \u001b[35m100%\u001b[0m \u001b[33m0:00:05\u001b[0m \u001b[36m0:00:00\u001b[0m\n",
      "\u001b[2K\u001b[1A\u001b[2K\u001b[1A\u001b[2K\u001b[32m✔\u001b[0m Loading sequences  \u001b[90m━━━━━━━━━━━━━━━━━━━━━━━\u001b[0m \u001b[32m8.4/8.4\u001b[0m MiB    \u001b[35m100%\u001b[0m \u001b[33m0:00:00\u001b[0m \u001b[36m0:00:00\u001b[0m\n",
      "\u001b[32m✔\u001b[0m Finding ORFs       \u001b[90m━━━━━━━━━━━━━━━━━━━━━━━\u001b[0m \u001b[32m1/1    \u001b[0m contig \u001b[35m100%\u001b[0m \u001b[33m0:00:05\u001b[0m \u001b[36m0:00:00\u001b[0m\n",
      "\u001b[2K\u001b[1A\u001b[2K\u001b[1A\u001b[2K\u001b[32m✔\u001b[0m Loading sequences  \u001b[90m━━━━━━━━━━━━━━━━━━━━━━━\u001b[0m \u001b[32m8.4/8.4\u001b[0m MiB    \u001b[35m100%\u001b[0m \u001b[33m0:00:00\u001b[0m \u001b[36m0:00:00\u001b[0m\n",
      "\u001b[32m✔\u001b[0m Finding ORFs       \u001b[90m━━━━━━━━━━━━━━━━━━━━━━━\u001b[0m \u001b[32m1/1    \u001b[0m contig \u001b[35m100%\u001b[0m \u001b[33m0:00:05\u001b[0m \u001b[36m0:00:00\u001b[0m\n",
      "\u001b[2K\u001b[1A\u001b[2K\u001b[1A\u001b[2K\u001b[32m✔\u001b[0m Loading sequences  \u001b[90m━━━━━━━━━━━━━━━━━━━━━━━\u001b[0m \u001b[32m8.4/8.4\u001b[0m MiB    \u001b[35m100%\u001b[0m \u001b[33m0:00:00\u001b[0m \u001b[36m0:00:00\u001b[0m\n",
      "\u001b[32m✔\u001b[0m Finding ORFs       \u001b[90m━━━━━━━━━━━━━━━━━━━━━━━\u001b[0m \u001b[32m1/1    \u001b[0m contig \u001b[35m100%\u001b[0m \u001b[33m0:00:05\u001b[0m \u001b[36m0:00:00\u001b[0m\n",
      "\u001b[2K\u001b[1A\u001b[2K\u001b[1A\u001b[2K\u001b[32m✔\u001b[0m Loading sequences  \u001b[90m━━━━━━━━━━━━━━━━━━━━━━━\u001b[0m \u001b[32m8.4/8.4\u001b[0m MiB    \u001b[35m100%\u001b[0m \u001b[33m0:00:00\u001b[0m \u001b[36m0:00:00\u001b[0m\n",
      "\u001b[32m✔\u001b[0m Finding ORFs       \u001b[90m━━━━━━━━━━━━━━━━━━━━━━━\u001b[0m \u001b[32m1/1    \u001b[0m contig \u001b[35m100%\u001b[0m \u001b[33m0:00:05\u001b[0m \u001b[36m0:00:00\u001b[0m\n",
      "\u001b[2K\u001b[1A\u001b[2K\u001b[1A\u001b[2K\u001b[32m✔\u001b[0m Loading sequences  \u001b[90m━━━━━━━━━━━━━━━━━━━━━━━\u001b[0m \u001b[32m8.4/8.4\u001b[0m MiB    \u001b[35m100%\u001b[0m \u001b[33m0:00:00\u001b[0m \u001b[36m0:00:00\u001b[0m\n",
      "\u001b[32m✔\u001b[0m Finding ORFs       \u001b[90m━━━━━━━━━━━━━━━━━━━━━━━\u001b[0m \u001b[32m1/1    \u001b[0m contig \u001b[35m100%\u001b[0m \u001b[33m0:00:05\u001b[0m \u001b[36m0:00:00\u001b[0m\n",
      "\u001b[2K\u001b[1A\u001b[2K\u001b[1A\u001b[2K\u001b[32m✔\u001b[0m Loading sequences  \u001b[90m━━━━━━━━━━━━━━━━━━━━━━━\u001b[0m \u001b[32m8.4/8.4\u001b[0m MiB    \u001b[35m100%\u001b[0m \u001b[33m0:00:00\u001b[0m \u001b[36m0:00:00\u001b[0m\n",
      "\u001b[32m✔\u001b[0m Finding ORFs       \u001b[90m━━━━━━━━━━━━━━━━━━━━━━━\u001b[0m \u001b[32m1/1    \u001b[0m contig \u001b[35m100%\u001b[0m \u001b[33m0:00:05\u001b[0m \u001b[36m0:00:00\u001b[0m\n",
      "\u001b[2K\u001b[1A\u001b[2K\u001b[1A\u001b[2K\u001b[32m✔\u001b[0m Loading sequences  \u001b[90m━━━━━━━━━━━━━━━━━━━━━━━\u001b[0m \u001b[32m8.4/8.4\u001b[0m MiB    \u001b[35m100%\u001b[0m \u001b[33m0:00:00\u001b[0m \u001b[36m0:00:00\u001b[0m\n",
      "\u001b[32m✔\u001b[0m Finding ORFs       \u001b[90m━━━━━━━━━━━━━━━━━━━━━━━\u001b[0m \u001b[32m1/1    \u001b[0m contig \u001b[35m100%\u001b[0m \u001b[33m0:00:05\u001b[0m \u001b[36m0:00:00\u001b[0m\n",
      "\u001b[2K\u001b[1A\u001b[2K\u001b[1A\u001b[2K\u001b[32m✔\u001b[0m Loading sequences    \u001b[90m━━━━━━━━━━━━━━━━━━━━\u001b[0m \u001b[32m8.4/8.4\u001b[0m MiB     \u001b[35m100%\u001b[0m \u001b[33m0:00:00\u001b[0m \u001b[36m0:00:00\u001b[0m\n",
      "\u001b[32m✔\u001b[0m Finding ORFs         \u001b[90m━━━━━━━━━━━━━━━━━━━━\u001b[0m \u001b[32m1/1    \u001b[0m contig  \u001b[35m100%\u001b[0m \u001b[33m0:00:05\u001b[0m \u001b[36m0:00:00\u001b[0m\n",
      "\u001b[32m✔\u001b[0m Annotating domains   \u001b[90m━━━━━━━━━━━━━━━━━━━━\u001b[0m \u001b[32m1/1    \u001b[0m HMMs    \u001b[35m100%\u001b[0m \u001b[33m0:00:11\u001b[0m \u001b[36m0:00:00\u001b[0m\n",
      "\u001b[2K\u001b[1A\u001b[2K\u001b[1A\u001b[2K\u001b[1A\u001b[2K\u001b[32m✔\u001b[0m Loading sequences    \u001b[90m━━━━━━━━━━━━━━━━━━━━\u001b[0m \u001b[32m8.4/8.4\u001b[0m MiB     \u001b[35m100%\u001b[0m \u001b[33m0:00:00\u001b[0m \u001b[36m0:00:00\u001b[0m\u001b[91m━\u001b[0m\u001b[91m━\u001b[0m\u001b[91m━\u001b[0m\u001b[91m━\u001b[0m\u001b[35m━\u001b[0m\u001b[90m━\u001b[0m\u001b[90m━\u001b[0m \u001b[32m0/?    \u001b[0m batches \u001b[35m  0%\u001b[0m \u001b[33m0:00:00\u001b[0m \u001b[36m       \u001b[0m\n",
      "\u001b[32m✔\u001b[0m Finding ORFs         \u001b[90m━━━━━━━━━━━━━━━━━━━━\u001b[0m \u001b[32m1/1    \u001b[0m contig  \u001b[35m100%\u001b[0m \u001b[33m0:00:05\u001b[0m \u001b[36m0:00:00\u001b[0m\n",
      "\u001b[32m✔\u001b[0m Annotating domains   \u001b[90m━━━━━━━━━━━━━━━━━━━━\u001b[0m \u001b[32m1/1    \u001b[0m HMMs    \u001b[35m100%\u001b[0m \u001b[33m0:00:11\u001b[0m \u001b[36m0:00:00\u001b[0m\n",
      "\u001b[2K\u001b[1A\u001b[2K\u001b[1A\u001b[2K\u001b[1A\u001b[2K\u001b[32m✔\u001b[0m Loading sequences    \u001b[90m━━━━━━━━━━━━━━━━━━\u001b[0m \u001b[32m8.4/8.4  \u001b[0m MiB     \u001b[35m100%\u001b[0m \u001b[33m0:00:00\u001b[0m \u001b[36m0:00:00\u001b[0m\u001b[91m━\u001b[0m\u001b[91m━\u001b[0m\u001b[91m━\u001b[0m\u001b[91m━\u001b[0m\u001b[35m━\u001b[0m\u001b[90m━\u001b[0m\u001b[90m━\u001b[0m \u001b[32m0/?    \u001b[0m batches \u001b[35m  0%\u001b[0m \u001b[33m0:00:00\u001b[0m \u001b[36m       \u001b[0m\n",
      "\u001b[32m✔\u001b[0m Finding ORFs         \u001b[90m━━━━━━━━━━━━━━━━━━\u001b[0m \u001b[32m1/1      \u001b[0m contig  \u001b[35m100%\u001b[0m \u001b[33m0:00:05\u001b[0m \u001b[36m0:00:00\u001b[0m\n",
      "\u001b[32m✔\u001b[0m Annotating domains   \u001b[90m━━━━━━━━━━━━━━━━━━\u001b[0m \u001b[32m1/1      \u001b[0m HMMs    \u001b[35m100%\u001b[0m \u001b[33m0:00:11\u001b[0m \u001b[36m0:00:00\u001b[0m\n",
      "\u001b[2K\u001b[1A\u001b[2K\u001b[1A\u001b[2K\u001b[1A\u001b[2K\u001b[32m✔\u001b[0m Loading sequences    \u001b[90m━━━━━━━━━━━━━━━━━━\u001b[0m \u001b[32m8.4/8.4  \u001b[0m MiB     \u001b[35m100%\u001b[0m \u001b[33m0:00:00\u001b[0m \u001b[36m0:00:00\u001b[0m\n",
      "\u001b[32m✔\u001b[0m Finding ORFs         \u001b[90m━━━━━━━━━━━━━━━━━━\u001b[0m \u001b[32m1/1      \u001b[0m contig  \u001b[35m100%\u001b[0m \u001b[33m0:00:05\u001b[0m \u001b[36m0:00:00\u001b[0m\n",
      "\u001b[32m✔\u001b[0m Annotating domains   \u001b[90m━━━━━━━━━━━━━━━━━━\u001b[0m \u001b[32m1/1      \u001b[0m HMMs    \u001b[35m100%\u001b[0m \u001b[33m0:00:11\u001b[0m \u001b[36m0:00:00\u001b[0m\n",
      "\u001b[2K\u001b[1A\u001b[2K\u001b[1A\u001b[2K\u001b[1A\u001b[2K\u001b[32m✔\u001b[0m Loading sequences    \u001b[90m━━━━━━━━━━━━━━━━━━\u001b[0m \u001b[32m8.4/8.4  \u001b[0m MiB     \u001b[35m100%\u001b[0m \u001b[33m0:00:00\u001b[0m \u001b[36m0:00:00\u001b[0m\n",
      "\u001b[32m✔\u001b[0m Finding ORFs         \u001b[90m━━━━━━━━━━━━━━━━━━\u001b[0m \u001b[32m1/1      \u001b[0m contig  \u001b[35m100%\u001b[0m \u001b[33m0:00:05\u001b[0m \u001b[36m0:00:00\u001b[0m\n",
      "\u001b[32m✔\u001b[0m Annotating domains   \u001b[90m━━━━━━━━━━━━━━━━━━\u001b[0m \u001b[32m1/1      \u001b[0m HMMs    \u001b[35m100%\u001b[0m \u001b[33m0:00:11\u001b[0m \u001b[36m0:00:00\u001b[0m\n",
      "\u001b[2K\u001b[1A\u001b[2K\u001b[1A\u001b[2K\u001b[1A\u001b[2K\u001b[32m✔\u001b[0m Loading sequences    \u001b[90m━━━━━━━━━━━━━━━━━━\u001b[0m \u001b[32m8.4/8.4  \u001b[0m MiB     \u001b[35m100%\u001b[0m \u001b[33m0:00:00\u001b[0m \u001b[36m0:00:00\u001b[0m\n",
      "\u001b[32m✔\u001b[0m Finding ORFs         \u001b[90m━━━━━━━━━━━━━━━━━━\u001b[0m \u001b[32m1/1      \u001b[0m contig  \u001b[35m100%\u001b[0m \u001b[33m0:00:05\u001b[0m \u001b[36m0:00:00\u001b[0m\n",
      "\u001b[32m✔\u001b[0m Annotating domains   \u001b[90m━━━━━━━━━━━━━━━━━━\u001b[0m \u001b[32m1/1      \u001b[0m HMMs    \u001b[35m100%\u001b[0m \u001b[33m0:00:11\u001b[0m \u001b[36m0:00:00\u001b[0m\n",
      "\u001b[2K\u001b[1A\u001b[2K\u001b[1A\u001b[2K\u001b[1A\u001b[2K\u001b[32m✔\u001b[0m Loading sequences    \u001b[90m━━━━━━━━━━━━━━━━━━\u001b[0m \u001b[32m8.4/8.4  \u001b[0m MiB     \u001b[35m100%\u001b[0m \u001b[33m0:00:00\u001b[0m \u001b[36m0:00:00\u001b[0m\n",
      "\u001b[32m✔\u001b[0m Finding ORFs         \u001b[90m━━━━━━━━━━━━━━━━━━\u001b[0m \u001b[32m1/1      \u001b[0m contig  \u001b[35m100%\u001b[0m \u001b[33m0:00:05\u001b[0m \u001b[36m0:00:00\u001b[0m\n",
      "\u001b[32m✔\u001b[0m Annotating domains   \u001b[90m━━━━━━━━━━━━━━━━━━\u001b[0m \u001b[32m1/1      \u001b[0m HMMs    \u001b[35m100%\u001b[0m \u001b[33m0:00:11\u001b[0m \u001b[36m0:00:00\u001b[0m\n",
      "\u001b[2K\u001b[1A\u001b[2K\u001b[1A\u001b[2K\u001b[1A\u001b[2K\u001b[32m✔\u001b[0m Loading sequences    \u001b[90m━━━━━━━━━━━━━━━━━━\u001b[0m \u001b[32m8.4/8.4  \u001b[0m MiB     \u001b[35m100%\u001b[0m \u001b[33m0:00:00\u001b[0m \u001b[36m0:00:00\u001b[0m\n",
      "\u001b[32m✔\u001b[0m Finding ORFs         \u001b[90m━━━━━━━━━━━━━━━━━━\u001b[0m \u001b[32m1/1      \u001b[0m contig  \u001b[35m100%\u001b[0m \u001b[33m0:00:05\u001b[0m \u001b[36m0:00:00\u001b[0m\n",
      "\u001b[32m✔\u001b[0m Annotating domains   \u001b[90m━━━━━━━━━━━━━━━━━━\u001b[0m \u001b[32m1/1      \u001b[0m HMMs    \u001b[35m100%\u001b[0m \u001b[33m0:00:11\u001b[0m \u001b[36m0:00:00\u001b[0m\n",
      "\u001b[2K\u001b[1A\u001b[2K\u001b[1A\u001b[2K\u001b[1A\u001b[2K\u001b[32m✔\u001b[0m Loading sequences    \u001b[90m━━━━━━━━━━━━━━━━━━\u001b[0m \u001b[32m8.4/8.4  \u001b[0m MiB     \u001b[35m100%\u001b[0m \u001b[33m0:00:00\u001b[0m \u001b[36m0:00:00\u001b[0m\n",
      "\u001b[32m✔\u001b[0m Finding ORFs         \u001b[90m━━━━━━━━━━━━━━━━━━\u001b[0m \u001b[32m1/1      \u001b[0m contig  \u001b[35m100%\u001b[0m \u001b[33m0:00:05\u001b[0m \u001b[36m0:00:00\u001b[0m\n",
      "\u001b[32m✔\u001b[0m Annotating domains   \u001b[90m━━━━━━━━━━━━━━━━━━\u001b[0m \u001b[32m1/1      \u001b[0m HMMs    \u001b[35m100%\u001b[0m \u001b[33m0:00:11\u001b[0m \u001b[36m0:00:00\u001b[0m\n",
      "\u001b[2K\u001b[1A\u001b[2K\u001b[1A\u001b[2K\u001b[1A\u001b[2K\u001b[32m✔\u001b[0m Loading sequences    \u001b[90m━━━━━━━━━━━━━━━━━━\u001b[0m \u001b[32m8.4/8.4  \u001b[0m MiB     \u001b[35m100%\u001b[0m \u001b[33m0:00:00\u001b[0m \u001b[36m0:00:00\u001b[0m\n",
      "\u001b[32m✔\u001b[0m Finding ORFs         \u001b[90m━━━━━━━━━━━━━━━━━━\u001b[0m \u001b[32m1/1      \u001b[0m contig  \u001b[35m100%\u001b[0m \u001b[33m0:00:05\u001b[0m \u001b[36m0:00:00\u001b[0m\n",
      "\u001b[32m✔\u001b[0m Annotating domains   \u001b[90m━━━━━━━━━━━━━━━━━━\u001b[0m \u001b[32m1/1      \u001b[0m HMMs    \u001b[35m100%\u001b[0m \u001b[33m0:00:11\u001b[0m \u001b[36m0:00:00\u001b[0m\n",
      "\u001b[2K\u001b[1A\u001b[2K\u001b[1A\u001b[2K\u001b[1A\u001b[2K\u001b[32m✔\u001b[0m Loading sequences    \u001b[90m━━━━━━━━━━━━━━━━━━\u001b[0m \u001b[32m8.4/8.4  \u001b[0m MiB     \u001b[35m100%\u001b[0m \u001b[33m0:00:00\u001b[0m \u001b[36m0:00:00\u001b[0m\n",
      "\u001b[32m✔\u001b[0m Finding ORFs         \u001b[90m━━━━━━━━━━━━━━━━━━\u001b[0m \u001b[32m1/1      \u001b[0m contig  \u001b[35m100%\u001b[0m \u001b[33m0:00:05\u001b[0m \u001b[36m0:00:00\u001b[0m\n",
      "\u001b[32m✔\u001b[0m Annotating domains   \u001b[90m━━━━━━━━━━━━━━━━━━\u001b[0m \u001b[32m1/1      \u001b[0m HMMs    \u001b[35m100%\u001b[0m \u001b[33m0:00:11\u001b[0m \u001b[36m0:00:00\u001b[0m\n",
      "\u001b[2K\u001b[1A\u001b[2K\u001b[1A\u001b[2K\u001b[1A\u001b[2K\u001b[32m✔\u001b[0m Loading sequences    \u001b[90m━━━━━━━━━━━━━━━━━━\u001b[0m \u001b[32m8.4/8.4  \u001b[0m MiB     \u001b[35m100%\u001b[0m \u001b[33m0:00:00\u001b[0m \u001b[36m0:00:00\u001b[0m\n",
      "\u001b[32m✔\u001b[0m Finding ORFs         \u001b[90m━━━━━━━━━━━━━━━━━━\u001b[0m \u001b[32m1/1      \u001b[0m contig  \u001b[35m100%\u001b[0m \u001b[33m0:00:05\u001b[0m \u001b[36m0:00:00\u001b[0m\n",
      "\u001b[32m✔\u001b[0m Annotating domains   \u001b[90m━━━━━━━━━━━━━━━━━━\u001b[0m \u001b[32m1/1      \u001b[0m HMMs    \u001b[35m100%\u001b[0m \u001b[33m0:00:11\u001b[0m \u001b[36m0:00:00\u001b[0m\n",
      "\u001b[32m✔\u001b[0m Predicting marginals \u001b[90m━━━━━━━━━━━━━━━━━━\u001b[0m \u001b[32m7739/7739\u001b[0m batches \u001b[35m100%\u001b[0m \u001b[33m0:00:00\u001b[0m \u001b[36m0:00:00\u001b[0m\n",
      "\u001b[2K\u001b[1A\u001b[2K\u001b[1A\u001b[2K\u001b[1A\u001b[2K\u001b[1A\u001b[2K\u001b[32m✔\u001b[0m Loading sequences    \u001b[90m━━━━━━━━━━━━━━━━━━\u001b[0m \u001b[32m8.4/8.4  \u001b[0m MiB     \u001b[35m100%\u001b[0m \u001b[33m0:00:00\u001b[0m \u001b[36m0:00:00\u001b[0m\n",
      "\u001b[32m✔\u001b[0m Finding ORFs         \u001b[90m━━━━━━━━━━━━━━━━━━\u001b[0m \u001b[32m1/1      \u001b[0m contig  \u001b[35m100%\u001b[0m \u001b[33m0:00:05\u001b[0m \u001b[36m0:00:00\u001b[0m\n",
      "\u001b[32m✔\u001b[0m Annotating domains   \u001b[90m━━━━━━━━━━━━━━━━━━\u001b[0m \u001b[32m1/1      \u001b[0m HMMs    \u001b[35m100%\u001b[0m \u001b[33m0:00:11\u001b[0m \u001b[36m0:00:00\u001b[0m\n",
      "\u001b[32m✔\u001b[0m Predicting marginals \u001b[90m━━━━━━━━━━━━━━━━━━\u001b[0m \u001b[32m7739/7739\u001b[0m batches \u001b[35m100%\u001b[0m \u001b[33m0:00:00\u001b[0m \u001b[36m0:00:00\u001b[0m\n",
      "\u001b[2K\u001b[1A\u001b[2K\u001b[1A\u001b[2K\u001b[1A\u001b[2K\u001b[1A\u001b[2K\u001b[32m✔\u001b[0m Loading sequences    \u001b[90m━━━━━━━━━━━━━━━━━━\u001b[0m \u001b[32m8.4/8.4  \u001b[0m MiB     \u001b[35m100%\u001b[0m \u001b[33m0:00:00\u001b[0m \u001b[36m0:00:00\u001b[0m\n",
      "\u001b[32m✔\u001b[0m Finding ORFs         \u001b[90m━━━━━━━━━━━━━━━━━━\u001b[0m \u001b[32m1/1      \u001b[0m contig  \u001b[35m100%\u001b[0m \u001b[33m0:00:05\u001b[0m \u001b[36m0:00:00\u001b[0m\n",
      "\u001b[32m✔\u001b[0m Annotating domains   \u001b[90m━━━━━━━━━━━━━━━━━━\u001b[0m \u001b[32m1/1      \u001b[0m HMMs    \u001b[35m100%\u001b[0m \u001b[33m0:00:11\u001b[0m \u001b[36m0:00:00\u001b[0m\n",
      "\u001b[32m✔\u001b[0m Predicting marginals \u001b[90m━━━━━━━━━━━━━━━━━━\u001b[0m \u001b[32m7739/7739\u001b[0m batches \u001b[35m100%\u001b[0m \u001b[33m0:00:00\u001b[0m \u001b[36m0:00:00\u001b[0m\n",
      "\u001b[2K\u001b[1A\u001b[2K\u001b[1A\u001b[2K\u001b[1A\u001b[2K\u001b[1A\u001b[2K\u001b[32m✔\u001b[0m Loading sequences    \u001b[90m━━━━━━━━━━━━━━━━━━\u001b[0m \u001b[32m8.4/8.4  \u001b[0m MiB     \u001b[35m100%\u001b[0m \u001b[33m0:00:00\u001b[0m \u001b[36m0:00:00\u001b[0m\n",
      "\u001b[32m✔\u001b[0m Finding ORFs         \u001b[90m━━━━━━━━━━━━━━━━━━\u001b[0m \u001b[32m1/1      \u001b[0m contig  \u001b[35m100%\u001b[0m \u001b[33m0:00:05\u001b[0m \u001b[36m0:00:00\u001b[0m\n",
      "\u001b[32m✔\u001b[0m Annotating domains   \u001b[90m━━━━━━━━━━━━━━━━━━\u001b[0m \u001b[32m1/1      \u001b[0m HMMs    \u001b[35m100%\u001b[0m \u001b[33m0:00:11\u001b[0m \u001b[36m0:00:00\u001b[0m\n",
      "\u001b[32m✔\u001b[0m Predicting marginals \u001b[90m━━━━━━━━━━━━━━━━━━\u001b[0m \u001b[32m7739/7739\u001b[0m batches \u001b[35m100%\u001b[0m \u001b[33m0:00:00\u001b[0m \u001b[36m0:00:00\u001b[0m\n",
      "\u001b[2K\u001b[1A\u001b[2K\u001b[1A\u001b[2K\u001b[1A\u001b[2K\u001b[1A\u001b[2K\u001b[32m✔\u001b[0m Loading sequences    \u001b[90m━━━━━━━━━━━━━━━━━━\u001b[0m \u001b[32m8.4/8.4  \u001b[0m MiB     \u001b[35m100%\u001b[0m \u001b[33m0:00:00\u001b[0m \u001b[36m0:00:00\u001b[0m\n",
      "\u001b[32m✔\u001b[0m Finding ORFs         \u001b[90m━━━━━━━━━━━━━━━━━━\u001b[0m \u001b[32m1/1      \u001b[0m contig  \u001b[35m100%\u001b[0m \u001b[33m0:00:05\u001b[0m \u001b[36m0:00:00\u001b[0m\n",
      "\u001b[32m✔\u001b[0m Annotating domains   \u001b[90m━━━━━━━━━━━━━━━━━━\u001b[0m \u001b[32m1/1      \u001b[0m HMMs    \u001b[35m100%\u001b[0m \u001b[33m0:00:11\u001b[0m \u001b[36m0:00:00\u001b[0m\n",
      "\u001b[32m✔\u001b[0m Predicting marginals \u001b[90m━━━━━━━━━━━━━━━━━━\u001b[0m \u001b[32m7739/7739\u001b[0m batches \u001b[35m100%\u001b[0m \u001b[33m0:00:00\u001b[0m \u001b[36m0:00:00\u001b[0m\n",
      "\u001b[2K\u001b[1A\u001b[2K\u001b[1A\u001b[2K\u001b[1A\u001b[2K\u001b[1A\u001b[2K\u001b[32m✔\u001b[0m Loading sequences    \u001b[90m━━━━━━━━━━━━━━━━━━\u001b[0m \u001b[32m8.4/8.4  \u001b[0m MiB     \u001b[35m100%\u001b[0m \u001b[33m0:00:00\u001b[0m \u001b[36m0:00:00\u001b[0m\n",
      "\u001b[32m✔\u001b[0m Finding ORFs         \u001b[90m━━━━━━━━━━━━━━━━━━\u001b[0m \u001b[32m1/1      \u001b[0m contig  \u001b[35m100%\u001b[0m \u001b[33m0:00:05\u001b[0m \u001b[36m0:00:00\u001b[0m\n",
      "\u001b[32m✔\u001b[0m Annotating domains   \u001b[90m━━━━━━━━━━━━━━━━━━\u001b[0m \u001b[32m1/1      \u001b[0m HMMs    \u001b[35m100%\u001b[0m \u001b[33m0:00:11\u001b[0m \u001b[36m0:00:00\u001b[0m\n",
      "\u001b[32m✔\u001b[0m Predicting marginals \u001b[90m━━━━━━━━━━━━━━━━━━\u001b[0m \u001b[32m7739/7739\u001b[0m batches \u001b[35m100%\u001b[0m \u001b[33m0:00:00\u001b[0m \u001b[36m0:00:00\u001b[0m\n",
      "\u001b[2K\u001b[1A\u001b[2K\u001b[1A\u001b[2K\u001b[1A\u001b[2K\u001b[1A\u001b[2K\u001b[32m✔\u001b[0m Loading sequences    \u001b[90m━━━━━━━━━━━━━━━━━━\u001b[0m \u001b[32m8.4/8.4  \u001b[0m MiB     \u001b[35m100%\u001b[0m \u001b[33m0:00:00\u001b[0m \u001b[36m0:00:00\u001b[0m\n",
      "\u001b[32m✔\u001b[0m Finding ORFs         \u001b[90m━━━━━━━━━━━━━━━━━━\u001b[0m \u001b[32m1/1      \u001b[0m contig  \u001b[35m100%\u001b[0m \u001b[33m0:00:05\u001b[0m \u001b[36m0:00:00\u001b[0m\n",
      "\u001b[32m✔\u001b[0m Annotating domains   \u001b[90m━━━━━━━━━━━━━━━━━━\u001b[0m \u001b[32m1/1      \u001b[0m HMMs    \u001b[35m100%\u001b[0m \u001b[33m0:00:11\u001b[0m \u001b[36m0:00:00\u001b[0m\n",
      "\u001b[32m✔\u001b[0m Predicting marginals \u001b[90m━━━━━━━━━━━━━━━━━━\u001b[0m \u001b[32m7739/7739\u001b[0m batches \u001b[35m100%\u001b[0m \u001b[33m0:00:00\u001b[0m \u001b[36m0:00:00\u001b[0m\n",
      "\u001b[2K\u001b[1A\u001b[2K\u001b[1A\u001b[2K\u001b[1A\u001b[2K\u001b[1A\u001b[2K\u001b[32m✔\u001b[0m Loading sequences    \u001b[90m━━━━━━━━━━━━━━━━━━\u001b[0m \u001b[32m8.4/8.4  \u001b[0m MiB     \u001b[35m100%\u001b[0m \u001b[33m0:00:00\u001b[0m \u001b[36m0:00:00\u001b[0m\n",
      "\u001b[32m✔\u001b[0m Finding ORFs         \u001b[90m━━━━━━━━━━━━━━━━━━\u001b[0m \u001b[32m1/1      \u001b[0m contig  \u001b[35m100%\u001b[0m \u001b[33m0:00:05\u001b[0m \u001b[36m0:00:00\u001b[0m\n",
      "\u001b[32m✔\u001b[0m Annotating domains   \u001b[90m━━━━━━━━━━━━━━━━━━\u001b[0m \u001b[32m1/1      \u001b[0m HMMs    \u001b[35m100%\u001b[0m \u001b[33m0:00:11\u001b[0m \u001b[36m0:00:00\u001b[0m\n",
      "\u001b[32m✔\u001b[0m Predicting marginals \u001b[90m━━━━━━━━━━━━━━━━━━\u001b[0m \u001b[32m7739/7739\u001b[0m batches \u001b[35m100%\u001b[0m \u001b[33m0:00:00\u001b[0m \u001b[36m0:00:00\u001b[0m\n",
      "\u001b[2K\u001b[1A\u001b[2K\u001b[1A\u001b[2K\u001b[1A\u001b[2K\u001b[1A\u001b[2K\u001b[32m✔\u001b[0m Loading sequences    \u001b[90m━━━━━━━━━━━━━━━━━━\u001b[0m \u001b[32m8.4/8.4  \u001b[0m MiB     \u001b[35m100%\u001b[0m \u001b[33m0:00:00\u001b[0m \u001b[36m0:00:00\u001b[0m\n",
      "\u001b[32m✔\u001b[0m Finding ORFs         \u001b[90m━━━━━━━━━━━━━━━━━━\u001b[0m \u001b[32m1/1      \u001b[0m contig  \u001b[35m100%\u001b[0m \u001b[33m0:00:05\u001b[0m \u001b[36m0:00:00\u001b[0m\n",
      "\u001b[32m✔\u001b[0m Annotating domains   \u001b[90m━━━━━━━━━━━━━━━━━━\u001b[0m \u001b[32m1/1      \u001b[0m HMMs    \u001b[35m100%\u001b[0m \u001b[33m0:00:11\u001b[0m \u001b[36m0:00:00\u001b[0m\n",
      "\u001b[32m✔\u001b[0m Predicting marginals \u001b[90m━━━━━━━━━━━━━━━━━━\u001b[0m \u001b[32m7739/7739\u001b[0m batches \u001b[35m100%\u001b[0m \u001b[33m0:00:00\u001b[0m \u001b[36m0:00:00\u001b[0m\n",
      "\u001b[2K\u001b[1A\u001b[2K\u001b[1A\u001b[2K\u001b[1A\u001b[2K\u001b[1A\u001b[2K\u001b[32m✔\u001b[0m Loading sequences    \u001b[90m━━━━━━━━━━━━━━━━━━\u001b[0m \u001b[32m8.4/8.4  \u001b[0m MiB     \u001b[35m100%\u001b[0m \u001b[33m0:00:00\u001b[0m \u001b[36m0:00:00\u001b[0m\n",
      "\u001b[32m✔\u001b[0m Finding ORFs         \u001b[90m━━━━━━━━━━━━━━━━━━\u001b[0m \u001b[32m1/1      \u001b[0m contig  \u001b[35m100%\u001b[0m \u001b[33m0:00:05\u001b[0m \u001b[36m0:00:00\u001b[0m\n",
      "\u001b[32m✔\u001b[0m Annotating domains   \u001b[90m━━━━━━━━━━━━━━━━━━\u001b[0m \u001b[32m1/1      \u001b[0m HMMs    \u001b[35m100%\u001b[0m \u001b[33m0:00:11\u001b[0m \u001b[36m0:00:00\u001b[0m\n",
      "\u001b[32m✔\u001b[0m Predicting marginals \u001b[90m━━━━━━━━━━━━━━━━━━\u001b[0m \u001b[32m7739/7739\u001b[0m batches \u001b[35m100%\u001b[0m \u001b[33m0:00:00\u001b[0m \u001b[36m0:00:00\u001b[0m\n",
      "\u001b[2K\u001b[1A\u001b[2K\u001b[1A\u001b[2K\u001b[1A\u001b[2K\u001b[1A\u001b[2K\u001b[32m✔\u001b[0m Loading sequences    \u001b[90m━━━━━━━━━━━━━━━━━━\u001b[0m \u001b[32m8.4/8.4  \u001b[0m MiB     \u001b[35m100%\u001b[0m \u001b[33m0:00:00\u001b[0m \u001b[36m0:00:00\u001b[0m\n",
      "\u001b[32m✔\u001b[0m Finding ORFs         \u001b[90m━━━━━━━━━━━━━━━━━━\u001b[0m \u001b[32m1/1      \u001b[0m contig  \u001b[35m100%\u001b[0m \u001b[33m0:00:05\u001b[0m \u001b[36m0:00:00\u001b[0m\n",
      "\u001b[32m✔\u001b[0m Annotating domains   \u001b[90m━━━━━━━━━━━━━━━━━━\u001b[0m \u001b[32m1/1      \u001b[0m HMMs    \u001b[35m100%\u001b[0m \u001b[33m0:00:11\u001b[0m \u001b[36m0:00:00\u001b[0m\n",
      "\u001b[32m✔\u001b[0m Predicting marginals \u001b[90m━━━━━━━━━━━━━━━━━━\u001b[0m \u001b[32m7739/7739\u001b[0m batches \u001b[35m100%\u001b[0m \u001b[33m0:00:00\u001b[0m \u001b[36m0:00:00\u001b[0m\n",
      "\u001b[2K\u001b[1A\u001b[2K\u001b[1A\u001b[2K\u001b[1A\u001b[2K\u001b[1A\u001b[2K\u001b[32m✔\u001b[0m Loading sequences    \u001b[90m━━━━━━━━━━━━━━━━━━\u001b[0m \u001b[32m8.4/8.4  \u001b[0m MiB     \u001b[35m100%\u001b[0m \u001b[33m0:00:00\u001b[0m \u001b[36m0:00:00\u001b[0m\n",
      "\u001b[32m✔\u001b[0m Finding ORFs         \u001b[90m━━━━━━━━━━━━━━━━━━\u001b[0m \u001b[32m1/1      \u001b[0m contig  \u001b[35m100%\u001b[0m \u001b[33m0:00:05\u001b[0m \u001b[36m0:00:00\u001b[0m\n",
      "\u001b[32m✔\u001b[0m Annotating domains   \u001b[90m━━━━━━━━━━━━━━━━━━\u001b[0m \u001b[32m1/1      \u001b[0m HMMs    \u001b[35m100%\u001b[0m \u001b[33m0:00:11\u001b[0m \u001b[36m0:00:00\u001b[0m\n",
      "\u001b[32m✔\u001b[0m Predicting marginals \u001b[90m━━━━━━━━━━━━━━━━━━\u001b[0m \u001b[32m7739/7739\u001b[0m batches \u001b[35m100%\u001b[0m \u001b[33m0:00:00\u001b[0m \u001b[36m0:00:00\u001b[0m\n",
      "\u001b[2K\u001b[1A\u001b[2K\u001b[1A\u001b[2K\u001b[1A\u001b[2K\u001b[1A\u001b[2K\u001b[32m✔\u001b[0m Loading sequences    \u001b[90m━━━━━━━━━━━━━━━━━\u001b[0m \u001b[32m8.4/8.4  \u001b[0m MiB      \u001b[35m100%\u001b[0m \u001b[33m0:00:00\u001b[0m \u001b[36m0:00:00\u001b[0m\n",
      "\u001b[32m✔\u001b[0m Finding ORFs         \u001b[90m━━━━━━━━━━━━━━━━━\u001b[0m \u001b[32m1/1      \u001b[0m contig   \u001b[35m100%\u001b[0m \u001b[33m0:00:05\u001b[0m \u001b[36m0:00:00\u001b[0m\n",
      "\u001b[32m✔\u001b[0m Annotating domains   \u001b[90m━━━━━━━━━━━━━━━━━\u001b[0m \u001b[32m1/1      \u001b[0m HMMs     \u001b[35m100%\u001b[0m \u001b[33m0:00:11\u001b[0m \u001b[36m0:00:00\u001b[0m\n",
      "\u001b[32m✔\u001b[0m Predicting marginals \u001b[90m━━━━━━━━━━━━━━━━━\u001b[0m \u001b[32m7739/7739\u001b[0m batches  \u001b[35m100%\u001b[0m \u001b[33m0:00:00\u001b[0m \u001b[36m0:00:00\u001b[0m\n",
      "\u001b[32m✔\u001b[0m Extracting clusters  \u001b[90m━━━━━━━━━━━━━━━━━\u001b[0m \u001b[32m1/1      \u001b[0m contig   \u001b[35m100%\u001b[0m \u001b[33m0:00:00\u001b[0m \u001b[36m0:00:00\u001b[0m\n",
      "\u001b[2K\u001b[1A\u001b[2K\u001b[1A\u001b[2K\u001b[1A\u001b[2K\u001b[1A\u001b[2K\u001b[1A\u001b[2K\u001b[1;33m!\u001b[0m Couldn't assign type to \u001b[1;34mNC_003888.3_cluster_1\u001b[0m \u001b[1m(\u001b[0mmaybe \u001b[1;34mRiPP\u001b[0m, \u001b[1;35m22\u001b[0m\u001b[1;35m%\u001b[0m confidence\u001b[1m)\u001b[0m\n",
      "\u001b[32m✔\u001b[0m Loading sequences    \u001b[90m━━━━━━━━━━━━━━━━━\u001b[0m \u001b[32m8.4/8.4  \u001b[0m MiB      \u001b[35m100%\u001b[0m \u001b[33m0:00:00\u001b[0m \u001b[36m0:00:00\u001b[0m\n",
      "\u001b[32m✔\u001b[0m Finding ORFs         \u001b[90m━━━━━━━━━━━━━━━━━\u001b[0m \u001b[32m1/1      \u001b[0m contig   \u001b[35m100%\u001b[0m \u001b[33m0:00:05\u001b[0m \u001b[36m0:00:00\u001b[0m\n",
      "\u001b[32m✔\u001b[0m Annotating domains   \u001b[90m━━━━━━━━━━━━━━━━━\u001b[0m \u001b[32m1/1      \u001b[0m HMMs     \u001b[35m100%\u001b[0m \u001b[33m0:00:11\u001b[0m \u001b[36m0:00:00\u001b[0m\n",
      "\u001b[32m✔\u001b[0m Predicting marginals \u001b[90m━━━━━━━━━━━━━━━━━\u001b[0m \u001b[32m7739/7739\u001b[0m batches  \u001b[35m100%\u001b[0m \u001b[33m0:00:00\u001b[0m \u001b[36m0:00:00\u001b[0m\n",
      "\u001b[32m✔\u001b[0m Extracting clusters  \u001b[90m━━━━━━━━━━━━━━━━━\u001b[0m \u001b[32m1/1      \u001b[0m contig   \u001b[35m100%\u001b[0m \u001b[33m0:00:00\u001b[0m \u001b[36m0:00:00\u001b[0m\n",
      "\u001b[2K\u001b[1A\u001b[2K\u001b[1A\u001b[2K\u001b[1A\u001b[2K\u001b[1A\u001b[2K\u001b[1A\u001b[2K\u001b[32m✔\u001b[0m Loading sequences    \u001b[90m━━━━━━━━━━━━━━━━━\u001b[0m \u001b[32m8.4/8.4  \u001b[0m MiB      \u001b[35m100%\u001b[0m \u001b[33m0:00:00\u001b[0m \u001b[36m0:00:00\u001b[0m\n",
      "\u001b[32m✔\u001b[0m Finding ORFs         \u001b[90m━━━━━━━━━━━━━━━━━\u001b[0m \u001b[32m1/1      \u001b[0m contig   \u001b[35m100%\u001b[0m \u001b[33m0:00:05\u001b[0m \u001b[36m0:00:00\u001b[0m\n",
      "\u001b[32m✔\u001b[0m Annotating domains   \u001b[90m━━━━━━━━━━━━━━━━━\u001b[0m \u001b[32m1/1      \u001b[0m HMMs     \u001b[35m100%\u001b[0m \u001b[33m0:00:11\u001b[0m \u001b[36m0:00:00\u001b[0m\n",
      "\u001b[32m✔\u001b[0m Predicting marginals \u001b[90m━━━━━━━━━━━━━━━━━\u001b[0m \u001b[32m7739/7739\u001b[0m batches  \u001b[35m100%\u001b[0m \u001b[33m0:00:00\u001b[0m \u001b[36m0:00:00\u001b[0m\n",
      "\u001b[32m✔\u001b[0m Extracting clusters  \u001b[90m━━━━━━━━━━━━━━━━━\u001b[0m \u001b[32m1/1      \u001b[0m contig   \u001b[35m100%\u001b[0m \u001b[33m0:00:00\u001b[0m \u001b[36m0:00:00\u001b[0m\n",
      "\u001b[2K\u001b[1A\u001b[2K\u001b[1A\u001b[2K\u001b[1A\u001b[2K\u001b[1A\u001b[2K\u001b[1A\u001b[2K\u001b[32m✔\u001b[0m Loading sequences    \u001b[90m━━━━━━━━━━━━━━━━━\u001b[0m \u001b[32m8.4/8.4  \u001b[0m MiB      \u001b[35m100%\u001b[0m \u001b[33m0:00:00\u001b[0m \u001b[36m0:00:00\u001b[0m\n",
      "\u001b[32m✔\u001b[0m Finding ORFs         \u001b[90m━━━━━━━━━━━━━━━━━\u001b[0m \u001b[32m1/1      \u001b[0m contig   \u001b[35m100%\u001b[0m \u001b[33m0:00:05\u001b[0m \u001b[36m0:00:00\u001b[0m\n",
      "\u001b[32m✔\u001b[0m Annotating domains   \u001b[90m━━━━━━━━━━━━━━━━━\u001b[0m \u001b[32m1/1      \u001b[0m HMMs     \u001b[35m100%\u001b[0m \u001b[33m0:00:11\u001b[0m \u001b[36m0:00:00\u001b[0m\n",
      "\u001b[32m✔\u001b[0m Predicting marginals \u001b[90m━━━━━━━━━━━━━━━━━\u001b[0m \u001b[32m7739/7739\u001b[0m batches  \u001b[35m100%\u001b[0m \u001b[33m0:00:00\u001b[0m \u001b[36m0:00:00\u001b[0m\n",
      "\u001b[32m✔\u001b[0m Extracting clusters  \u001b[90m━━━━━━━━━━━━━━━━━\u001b[0m \u001b[32m1/1      \u001b[0m contig   \u001b[35m100%\u001b[0m \u001b[33m0:00:00\u001b[0m \u001b[36m0:00:00\u001b[0m\n",
      "\u001b[2K\u001b[1A\u001b[2K\u001b[1A\u001b[2K\u001b[1A\u001b[2K\u001b[1A\u001b[2K\u001b[1A\u001b[2K\u001b[32m✔\u001b[0m Loading sequences    \u001b[90m━━━━━━━━━━━━━━━━━\u001b[0m \u001b[32m8.4/8.4  \u001b[0m MiB      \u001b[35m100%\u001b[0m \u001b[33m0:00:00\u001b[0m \u001b[36m0:00:00\u001b[0m\n",
      "\u001b[32m✔\u001b[0m Finding ORFs         \u001b[90m━━━━━━━━━━━━━━━━━\u001b[0m \u001b[32m1/1      \u001b[0m contig   \u001b[35m100%\u001b[0m \u001b[33m0:00:05\u001b[0m \u001b[36m0:00:00\u001b[0m\n",
      "\u001b[32m✔\u001b[0m Annotating domains   \u001b[90m━━━━━━━━━━━━━━━━━\u001b[0m \u001b[32m1/1      \u001b[0m HMMs     \u001b[35m100%\u001b[0m \u001b[33m0:00:11\u001b[0m \u001b[36m0:00:00\u001b[0m\n",
      "\u001b[32m✔\u001b[0m Predicting marginals \u001b[90m━━━━━━━━━━━━━━━━━\u001b[0m \u001b[32m7739/7739\u001b[0m batches  \u001b[35m100%\u001b[0m \u001b[33m0:00:00\u001b[0m \u001b[36m0:00:00\u001b[0m\n",
      "\u001b[32m✔\u001b[0m Extracting clusters  \u001b[90m━━━━━━━━━━━━━━━━━\u001b[0m \u001b[32m1/1      \u001b[0m contig   \u001b[35m100%\u001b[0m \u001b[33m0:00:00\u001b[0m \u001b[36m0:00:00\u001b[0m\n",
      "\u001b[2K\u001b[1A\u001b[2K\u001b[1A\u001b[2K\u001b[1A\u001b[2K\u001b[1A\u001b[2K\u001b[1A\u001b[2K\u001b[1;33m!\u001b[0m Couldn't assign type to \u001b[1;34mNC_003888.3_cluster_7\u001b[0m \u001b[1m(\u001b[0mmaybe \u001b[1;34mTerpene\u001b[0m, \u001b[1;35m19\u001b[0m\u001b[1;35m%\u001b[0m confidence\u001b[1m)\u001b[0m\n",
      "\u001b[32m✔\u001b[0m Loading sequences    \u001b[90m━━━━━━━━━━━━━━━━━\u001b[0m \u001b[32m8.4/8.4  \u001b[0m MiB      \u001b[35m100%\u001b[0m \u001b[33m0:00:00\u001b[0m \u001b[36m0:00:00\u001b[0m\n",
      "\u001b[32m✔\u001b[0m Finding ORFs         \u001b[90m━━━━━━━━━━━━━━━━━\u001b[0m \u001b[32m1/1      \u001b[0m contig   \u001b[35m100%\u001b[0m \u001b[33m0:00:05\u001b[0m \u001b[36m0:00:00\u001b[0m\n",
      "\u001b[32m✔\u001b[0m Annotating domains   \u001b[90m━━━━━━━━━━━━━━━━━\u001b[0m \u001b[32m1/1      \u001b[0m HMMs     \u001b[35m100%\u001b[0m \u001b[33m0:00:11\u001b[0m \u001b[36m0:00:00\u001b[0m\n",
      "\u001b[32m✔\u001b[0m Predicting marginals \u001b[90m━━━━━━━━━━━━━━━━━\u001b[0m \u001b[32m7739/7739\u001b[0m batches  \u001b[35m100%\u001b[0m \u001b[33m0:00:00\u001b[0m \u001b[36m0:00:00\u001b[0m\n",
      "\u001b[32m✔\u001b[0m Extracting clusters  \u001b[90m━━━━━━━━━━━━━━━━━\u001b[0m \u001b[32m1/1      \u001b[0m contig   \u001b[35m100%\u001b[0m \u001b[33m0:00:00\u001b[0m \u001b[36m0:00:00\u001b[0m\n",
      "\u001b[2K\u001b[1A\u001b[2K\u001b[1A\u001b[2K\u001b[1A\u001b[2K\u001b[1A\u001b[2K\u001b[1A\u001b[2K\u001b[1;33m!\u001b[0m Couldn't assign type to \u001b[1;34mNC_003888.3_cluster_8\u001b[0m \u001b[1m(\u001b[0mmaybe \u001b[1;34mPolyketide\u001b[0m, \u001b[1;35m22\u001b[0m\u001b[1;35m%\u001b[0m confidence\u001b[1m)\u001b[0m\n",
      "\u001b[32m✔\u001b[0m Loading sequences    \u001b[90m━━━━━━━━━━━━━━━━━\u001b[0m \u001b[32m8.4/8.4  \u001b[0m MiB      \u001b[35m100%\u001b[0m \u001b[33m0:00:00\u001b[0m \u001b[36m0:00:00\u001b[0m\n",
      "\u001b[32m✔\u001b[0m Finding ORFs         \u001b[90m━━━━━━━━━━━━━━━━━\u001b[0m \u001b[32m1/1      \u001b[0m contig   \u001b[35m100%\u001b[0m \u001b[33m0:00:05\u001b[0m \u001b[36m0:00:00\u001b[0m\n",
      "\u001b[32m✔\u001b[0m Annotating domains   \u001b[90m━━━━━━━━━━━━━━━━━\u001b[0m \u001b[32m1/1      \u001b[0m HMMs     \u001b[35m100%\u001b[0m \u001b[33m0:00:11\u001b[0m \u001b[36m0:00:00\u001b[0m\n",
      "\u001b[32m✔\u001b[0m Predicting marginals \u001b[90m━━━━━━━━━━━━━━━━━\u001b[0m \u001b[32m7739/7739\u001b[0m batches  \u001b[35m100%\u001b[0m \u001b[33m0:00:00\u001b[0m \u001b[36m0:00:00\u001b[0m\n",
      "\u001b[32m✔\u001b[0m Extracting clusters  \u001b[90m━━━━━━━━━━━━━━━━━\u001b[0m \u001b[32m1/1      \u001b[0m contig   \u001b[35m100%\u001b[0m \u001b[33m0:00:00\u001b[0m \u001b[36m0:00:00\u001b[0m\n",
      "\u001b[2K\u001b[1A\u001b[2K\u001b[1A\u001b[2K\u001b[1A\u001b[2K\u001b[1A\u001b[2K\u001b[1A\u001b[2K\u001b[1;33m!\u001b[0m Couldn't assign type to \u001b[1;34mNC_003888.3_cluster_11\u001b[0m \u001b[1m(\u001b[0mmaybe \u001b[1;34mPolyketide\u001b[0m, \u001b[1;35m13\u001b[0m\u001b[1;35m%\u001b[0m confidence\u001b[1m)\u001b[0m\n",
      "\u001b[32m✔\u001b[0m Loading sequences    \u001b[90m━━━━━━━━━━━━━━━━━\u001b[0m \u001b[32m8.4/8.4  \u001b[0m MiB      \u001b[35m100%\u001b[0m \u001b[33m0:00:00\u001b[0m \u001b[36m0:00:00\u001b[0m\n",
      "\u001b[32m✔\u001b[0m Finding ORFs         \u001b[90m━━━━━━━━━━━━━━━━━\u001b[0m \u001b[32m1/1      \u001b[0m contig   \u001b[35m100%\u001b[0m \u001b[33m0:00:05\u001b[0m \u001b[36m0:00:00\u001b[0m\n",
      "\u001b[32m✔\u001b[0m Annotating domains   \u001b[90m━━━━━━━━━━━━━━━━━\u001b[0m \u001b[32m1/1      \u001b[0m HMMs     \u001b[35m100%\u001b[0m \u001b[33m0:00:11\u001b[0m \u001b[36m0:00:00\u001b[0m\n",
      "\u001b[32m✔\u001b[0m Predicting marginals \u001b[90m━━━━━━━━━━━━━━━━━\u001b[0m \u001b[32m7739/7739\u001b[0m batches  \u001b[35m100%\u001b[0m \u001b[33m0:00:00\u001b[0m \u001b[36m0:00:00\u001b[0m\n",
      "\u001b[32m✔\u001b[0m Extracting clusters  \u001b[90m━━━━━━━━━━━━━━━━━\u001b[0m \u001b[32m1/1      \u001b[0m contig   \u001b[35m100%\u001b[0m \u001b[33m0:00:00\u001b[0m \u001b[36m0:00:00\u001b[0m\n",
      "\u001b[2K\u001b[1A\u001b[2K\u001b[1A\u001b[2K\u001b[1A\u001b[2K\u001b[1A\u001b[2K\u001b[1A\u001b[2K\u001b[1;33m!\u001b[0m Couldn't assign type to \u001b[1;34mNC_003888.3_cluster_12\u001b[0m \u001b[1m(\u001b[0mmaybe \u001b[1;34mRiPP\u001b[0m, \u001b[1;35m47\u001b[0m\u001b[1;35m%\u001b[0m confidence\u001b[1m)\u001b[0m\n",
      "\u001b[32m✔\u001b[0m Loading sequences    \u001b[90m━━━━━━━━━━━━━━━━━\u001b[0m \u001b[32m8.4/8.4  \u001b[0m MiB      \u001b[35m100%\u001b[0m \u001b[33m0:00:00\u001b[0m \u001b[36m0:00:00\u001b[0m\n",
      "\u001b[32m✔\u001b[0m Finding ORFs         \u001b[90m━━━━━━━━━━━━━━━━━\u001b[0m \u001b[32m1/1      \u001b[0m contig   \u001b[35m100%\u001b[0m \u001b[33m0:00:05\u001b[0m \u001b[36m0:00:00\u001b[0m\n",
      "\u001b[32m✔\u001b[0m Annotating domains   \u001b[90m━━━━━━━━━━━━━━━━━\u001b[0m \u001b[32m1/1      \u001b[0m HMMs     \u001b[35m100%\u001b[0m \u001b[33m0:00:11\u001b[0m \u001b[36m0:00:00\u001b[0m\n",
      "\u001b[32m✔\u001b[0m Predicting marginals \u001b[90m━━━━━━━━━━━━━━━━━\u001b[0m \u001b[32m7739/7739\u001b[0m batches  \u001b[35m100%\u001b[0m \u001b[33m0:00:00\u001b[0m \u001b[36m0:00:00\u001b[0m\n",
      "\u001b[32m✔\u001b[0m Extracting clusters  \u001b[90m━━━━━━━━━━━━━━━━━\u001b[0m \u001b[32m1/1      \u001b[0m contig   \u001b[35m100%\u001b[0m \u001b[33m0:00:00\u001b[0m \u001b[36m0:00:00\u001b[0m\n",
      "\u001b[2K\u001b[1A\u001b[2K\u001b[1A\u001b[2K\u001b[1A\u001b[2K\u001b[1A\u001b[2K\u001b[1A\u001b[2K\u001b[1;33m!\u001b[0m Couldn't assign type to \u001b[1;34mNC_003888.3_cluster_13\u001b[0m \u001b[1m(\u001b[0mmaybe \u001b[1;34mSaccharide\u001b[0m, \u001b[1;35m33\u001b[0m\u001b[1;35m%\u001b[0m confidence\u001b[1m)\u001b[0m\n",
      "\u001b[32m✔\u001b[0m Loading sequences    \u001b[90m━━━━━━━━━━━━━━━━━\u001b[0m \u001b[32m8.4/8.4  \u001b[0m MiB      \u001b[35m100%\u001b[0m \u001b[33m0:00:00\u001b[0m \u001b[36m0:00:00\u001b[0m\n",
      "\u001b[32m✔\u001b[0m Finding ORFs         \u001b[90m━━━━━━━━━━━━━━━━━\u001b[0m \u001b[32m1/1      \u001b[0m contig   \u001b[35m100%\u001b[0m \u001b[33m0:00:05\u001b[0m \u001b[36m0:00:00\u001b[0m\n",
      "\u001b[32m✔\u001b[0m Annotating domains   \u001b[90m━━━━━━━━━━━━━━━━━\u001b[0m \u001b[32m1/1      \u001b[0m HMMs     \u001b[35m100%\u001b[0m \u001b[33m0:00:11\u001b[0m \u001b[36m0:00:00\u001b[0m\n",
      "\u001b[32m✔\u001b[0m Predicting marginals \u001b[90m━━━━━━━━━━━━━━━━━\u001b[0m \u001b[32m7739/7739\u001b[0m batches  \u001b[35m100%\u001b[0m \u001b[33m0:00:00\u001b[0m \u001b[36m0:00:00\u001b[0m\n",
      "\u001b[32m✔\u001b[0m Extracting clusters  \u001b[90m━━━━━━━━━━━━━━━━━\u001b[0m \u001b[32m1/1      \u001b[0m contig   \u001b[35m100%\u001b[0m \u001b[33m0:00:00\u001b[0m \u001b[36m0:00:00\u001b[0m\n",
      "\u001b[2K\u001b[1A\u001b[2K\u001b[1A\u001b[2K\u001b[1A\u001b[2K\u001b[1A\u001b[2K\u001b[1A\u001b[2K\u001b[1;33m!\u001b[0m Couldn't assign type to \u001b[1;34mNC_003888.3_cluster_14\u001b[0m \u001b[1m(\u001b[0mmaybe \u001b[1;34mPolyketide\u001b[0m, \u001b[1;35m9\u001b[0m\u001b[1;35m%\u001b[0m confidence\u001b[1m)\u001b[0m\n",
      "\u001b[32m✔\u001b[0m Loading sequences    \u001b[90m━━━━━━━━━━━━━━━━━\u001b[0m \u001b[32m8.4/8.4  \u001b[0m MiB      \u001b[35m100%\u001b[0m \u001b[33m0:00:00\u001b[0m \u001b[36m0:00:00\u001b[0m\n",
      "\u001b[32m✔\u001b[0m Finding ORFs         \u001b[90m━━━━━━━━━━━━━━━━━\u001b[0m \u001b[32m1/1      \u001b[0m contig   \u001b[35m100%\u001b[0m \u001b[33m0:00:05\u001b[0m \u001b[36m0:00:00\u001b[0m\n",
      "\u001b[32m✔\u001b[0m Annotating domains   \u001b[90m━━━━━━━━━━━━━━━━━\u001b[0m \u001b[32m1/1      \u001b[0m HMMs     \u001b[35m100%\u001b[0m \u001b[33m0:00:11\u001b[0m \u001b[36m0:00:00\u001b[0m\n",
      "\u001b[32m✔\u001b[0m Predicting marginals \u001b[90m━━━━━━━━━━━━━━━━━\u001b[0m \u001b[32m7739/7739\u001b[0m batches  \u001b[35m100%\u001b[0m \u001b[33m0:00:00\u001b[0m \u001b[36m0:00:00\u001b[0m\n",
      "\u001b[32m✔\u001b[0m Extracting clusters  \u001b[90m━━━━━━━━━━━━━━━━━\u001b[0m \u001b[32m1/1      \u001b[0m contig   \u001b[35m100%\u001b[0m \u001b[33m0:00:00\u001b[0m \u001b[36m0:00:00\u001b[0m\n",
      "\u001b[2K\u001b[1A\u001b[2K\u001b[1A\u001b[2K\u001b[1A\u001b[2K\u001b[1A\u001b[2K\u001b[1A\u001b[2K\u001b[32m✔\u001b[0m Loading sequences    \u001b[90m━━━━━━━━━━━━━━━━━\u001b[0m \u001b[32m8.4/8.4  \u001b[0m MiB      \u001b[35m100%\u001b[0m \u001b[33m0:00:00\u001b[0m \u001b[36m0:00:00\u001b[0m\n",
      "\u001b[32m✔\u001b[0m Finding ORFs         \u001b[90m━━━━━━━━━━━━━━━━━\u001b[0m \u001b[32m1/1      \u001b[0m contig   \u001b[35m100%\u001b[0m \u001b[33m0:00:05\u001b[0m \u001b[36m0:00:00\u001b[0m\n",
      "\u001b[32m✔\u001b[0m Annotating domains   \u001b[90m━━━━━━━━━━━━━━━━━\u001b[0m \u001b[32m1/1      \u001b[0m HMMs     \u001b[35m100%\u001b[0m \u001b[33m0:00:11\u001b[0m \u001b[36m0:00:00\u001b[0m\n",
      "\u001b[32m✔\u001b[0m Predicting marginals \u001b[90m━━━━━━━━━━━━━━━━━\u001b[0m \u001b[32m7739/7739\u001b[0m batches  \u001b[35m100%\u001b[0m \u001b[33m0:00:00\u001b[0m \u001b[36m0:00:00\u001b[0m\n",
      "\u001b[32m✔\u001b[0m Extracting clusters  \u001b[90m━━━━━━━━━━━━━━━━━\u001b[0m \u001b[32m1/1      \u001b[0m contig   \u001b[35m100%\u001b[0m \u001b[33m0:00:00\u001b[0m \u001b[36m0:00:00\u001b[0m\n",
      "\u001b[2K\u001b[1A\u001b[2K\u001b[1A\u001b[2K\u001b[1A\u001b[2K\u001b[1A\u001b[2K\u001b[1A\u001b[2K\u001b[1;33m!\u001b[0m Couldn't assign type to \u001b[1;34mNC_003888.3_cluster_15\u001b[0m \u001b[1m(\u001b[0mmaybe \u001b[1;34mPolyketide\u001b[0m, \u001b[1;35m18\u001b[0m\u001b[1;35m%\u001b[0m confidence\u001b[1m)\u001b[0m\n",
      "\u001b[32m✔\u001b[0m Loading sequences    \u001b[90m━━━━━━━━━━━━━━━━━\u001b[0m \u001b[32m8.4/8.4  \u001b[0m MiB      \u001b[35m100%\u001b[0m \u001b[33m0:00:00\u001b[0m \u001b[36m0:00:00\u001b[0m\n",
      "\u001b[32m✔\u001b[0m Finding ORFs         \u001b[90m━━━━━━━━━━━━━━━━━\u001b[0m \u001b[32m1/1      \u001b[0m contig   \u001b[35m100%\u001b[0m \u001b[33m0:00:05\u001b[0m \u001b[36m0:00:00\u001b[0m\n",
      "\u001b[32m✔\u001b[0m Annotating domains   \u001b[90m━━━━━━━━━━━━━━━━━\u001b[0m \u001b[32m1/1      \u001b[0m HMMs     \u001b[35m100%\u001b[0m \u001b[33m0:00:11\u001b[0m \u001b[36m0:00:00\u001b[0m\n",
      "\u001b[32m✔\u001b[0m Predicting marginals \u001b[90m━━━━━━━━━━━━━━━━━\u001b[0m \u001b[32m7739/7739\u001b[0m batches  \u001b[35m100%\u001b[0m \u001b[33m0:00:00\u001b[0m \u001b[36m0:00:00\u001b[0m\n",
      "\u001b[32m✔\u001b[0m Extracting clusters  \u001b[90m━━━━━━━━━━━━━━━━━\u001b[0m \u001b[32m1/1      \u001b[0m contig   \u001b[35m100%\u001b[0m \u001b[33m0:00:00\u001b[0m \u001b[36m0:00:00\u001b[0m\n",
      "\u001b[2K\u001b[1A\u001b[2K\u001b[1A\u001b[2K\u001b[1A\u001b[2K\u001b[1A\u001b[2K\u001b[1A\u001b[2K\u001b[1;33m!\u001b[0m Couldn't assign type to \u001b[1;34mNC_003888.3_cluster_17\u001b[0m \u001b[1m(\u001b[0mmaybe \u001b[1;34mPolyketide\u001b[0m, \u001b[1;35m27\u001b[0m\u001b[1;35m%\u001b[0m confidence\u001b[1m)\u001b[0m\n",
      "\u001b[32m✔\u001b[0m Loading sequences    \u001b[90m━━━━━━━━━━━━━━━━━\u001b[0m \u001b[32m8.4/8.4  \u001b[0m MiB      \u001b[35m100%\u001b[0m \u001b[33m0:00:00\u001b[0m \u001b[36m0:00:00\u001b[0m\n",
      "\u001b[32m✔\u001b[0m Finding ORFs         \u001b[90m━━━━━━━━━━━━━━━━━\u001b[0m \u001b[32m1/1      \u001b[0m contig   \u001b[35m100%\u001b[0m \u001b[33m0:00:05\u001b[0m \u001b[36m0:00:00\u001b[0m\n",
      "\u001b[32m✔\u001b[0m Annotating domains   \u001b[90m━━━━━━━━━━━━━━━━━\u001b[0m \u001b[32m1/1      \u001b[0m HMMs     \u001b[35m100%\u001b[0m \u001b[33m0:00:11\u001b[0m \u001b[36m0:00:00\u001b[0m\n",
      "\u001b[32m✔\u001b[0m Predicting marginals \u001b[90m━━━━━━━━━━━━━━━━━\u001b[0m \u001b[32m7739/7739\u001b[0m batches  \u001b[35m100%\u001b[0m \u001b[33m0:00:00\u001b[0m \u001b[36m0:00:00\u001b[0m\n",
      "\u001b[32m✔\u001b[0m Extracting clusters  \u001b[90m━━━━━━━━━━━━━━━━━\u001b[0m \u001b[32m1/1      \u001b[0m contig   \u001b[35m100%\u001b[0m \u001b[33m0:00:00\u001b[0m \u001b[36m0:00:00\u001b[0m\n",
      "\u001b[2K\u001b[1A\u001b[2K\u001b[1A\u001b[2K\u001b[1A\u001b[2K\u001b[1A\u001b[2K\u001b[1A\u001b[2K\u001b[1;33m!\u001b[0m Couldn't assign type to \u001b[1;34mNC_003888.3_cluster_18\u001b[0m \u001b[1m(\u001b[0mmaybe \u001b[1;34mPolyketide\u001b[0m, \u001b[1;35m18\u001b[0m\u001b[1;35m%\u001b[0m confidence\u001b[1m)\u001b[0m\n",
      "\u001b[32m✔\u001b[0m Loading sequences    \u001b[90m━━━━━━━━━━━━━━━━━\u001b[0m \u001b[32m8.4/8.4  \u001b[0m MiB      \u001b[35m100%\u001b[0m \u001b[33m0:00:00\u001b[0m \u001b[36m0:00:00\u001b[0m\n",
      "\u001b[32m✔\u001b[0m Finding ORFs         \u001b[90m━━━━━━━━━━━━━━━━━\u001b[0m \u001b[32m1/1      \u001b[0m contig   \u001b[35m100%\u001b[0m \u001b[33m0:00:05\u001b[0m \u001b[36m0:00:00\u001b[0m\n",
      "\u001b[32m✔\u001b[0m Annotating domains   \u001b[90m━━━━━━━━━━━━━━━━━\u001b[0m \u001b[32m1/1      \u001b[0m HMMs     \u001b[35m100%\u001b[0m \u001b[33m0:00:11\u001b[0m \u001b[36m0:00:00\u001b[0m\n",
      "\u001b[32m✔\u001b[0m Predicting marginals \u001b[90m━━━━━━━━━━━━━━━━━\u001b[0m \u001b[32m7739/7739\u001b[0m batches  \u001b[35m100%\u001b[0m \u001b[33m0:00:00\u001b[0m \u001b[36m0:00:00\u001b[0m\n",
      "\u001b[32m✔\u001b[0m Extracting clusters  \u001b[90m━━━━━━━━━━━━━━━━━\u001b[0m \u001b[32m1/1      \u001b[0m contig   \u001b[35m100%\u001b[0m \u001b[33m0:00:00\u001b[0m \u001b[36m0:00:00\u001b[0m\n",
      "\u001b[2K\u001b[1A\u001b[2K\u001b[1A\u001b[2K\u001b[1A\u001b[2K\u001b[1A\u001b[2K\u001b[1A\u001b[2K\u001b[1;33m!\u001b[0m Couldn't assign type to \u001b[1;34mNC_003888.3_cluster_19\u001b[0m \u001b[1m(\u001b[0mmaybe \u001b[1;34mSaccharide\u001b[0m, \u001b[1;35m48\u001b[0m\u001b[1;35m%\u001b[0m confidence\u001b[1m)\u001b[0m\n",
      "\u001b[32m✔\u001b[0m Loading sequences    \u001b[90m━━━━━━━━━━━━━━━━━\u001b[0m \u001b[32m8.4/8.4  \u001b[0m MiB      \u001b[35m100%\u001b[0m \u001b[33m0:00:00\u001b[0m \u001b[36m0:00:00\u001b[0m\n",
      "\u001b[32m✔\u001b[0m Finding ORFs         \u001b[90m━━━━━━━━━━━━━━━━━\u001b[0m \u001b[32m1/1      \u001b[0m contig   \u001b[35m100%\u001b[0m \u001b[33m0:00:05\u001b[0m \u001b[36m0:00:00\u001b[0m\n",
      "\u001b[32m✔\u001b[0m Annotating domains   \u001b[90m━━━━━━━━━━━━━━━━━\u001b[0m \u001b[32m1/1      \u001b[0m HMMs     \u001b[35m100%\u001b[0m \u001b[33m0:00:11\u001b[0m \u001b[36m0:00:00\u001b[0m\n",
      "\u001b[32m✔\u001b[0m Predicting marginals \u001b[90m━━━━━━━━━━━━━━━━━\u001b[0m \u001b[32m7739/7739\u001b[0m batches  \u001b[35m100%\u001b[0m \u001b[33m0:00:00\u001b[0m \u001b[36m0:00:00\u001b[0m\n",
      "\u001b[32m✔\u001b[0m Extracting clusters  \u001b[90m━━━━━━━━━━━━━━━━━\u001b[0m \u001b[32m1/1      \u001b[0m contig   \u001b[35m100%\u001b[0m \u001b[33m0:00:00\u001b[0m \u001b[36m0:00:00\u001b[0m\n",
      "\u001b[2K\u001b[1A\u001b[2K\u001b[1A\u001b[2K\u001b[1A\u001b[2K\u001b[1A\u001b[2K\u001b[1A\u001b[2K\u001b[1;33m!\u001b[0m Couldn't assign type to \u001b[1;34mNC_003888.3_cluster_21\u001b[0m \u001b[1m(\u001b[0mmaybe \u001b[1;34mRiPP\u001b[0m, \u001b[1;35m39\u001b[0m\u001b[1;35m%\u001b[0m confidence\u001b[1m)\u001b[0m\n",
      "\u001b[32m✔\u001b[0m Loading sequences    \u001b[90m━━━━━━━━━━━━━━━━━\u001b[0m \u001b[32m8.4/8.4  \u001b[0m MiB      \u001b[35m100%\u001b[0m \u001b[33m0:00:00\u001b[0m \u001b[36m0:00:00\u001b[0m\n",
      "\u001b[32m✔\u001b[0m Finding ORFs         \u001b[90m━━━━━━━━━━━━━━━━━\u001b[0m \u001b[32m1/1      \u001b[0m contig   \u001b[35m100%\u001b[0m \u001b[33m0:00:05\u001b[0m \u001b[36m0:00:00\u001b[0m\n",
      "\u001b[32m✔\u001b[0m Annotating domains   \u001b[90m━━━━━━━━━━━━━━━━━\u001b[0m \u001b[32m1/1      \u001b[0m HMMs     \u001b[35m100%\u001b[0m \u001b[33m0:00:11\u001b[0m \u001b[36m0:00:00\u001b[0m\n",
      "\u001b[32m✔\u001b[0m Predicting marginals \u001b[90m━━━━━━━━━━━━━━━━━\u001b[0m \u001b[32m7739/7739\u001b[0m batches  \u001b[35m100%\u001b[0m \u001b[33m0:00:00\u001b[0m \u001b[36m0:00:00\u001b[0m\n",
      "\u001b[32m✔\u001b[0m Extracting clusters  \u001b[90m━━━━━━━━━━━━━━━━━\u001b[0m \u001b[32m1/1      \u001b[0m contig   \u001b[35m100%\u001b[0m \u001b[33m0:00:00\u001b[0m \u001b[36m0:00:00\u001b[0m\n",
      "\u001b[2K\u001b[1A\u001b[2K\u001b[1A\u001b[2K\u001b[1A\u001b[2K\u001b[1A\u001b[2K\u001b[1A\u001b[2K\u001b[32m✔\u001b[0m Loading sequences    \u001b[90m━━━━━━━━━━━━━━━━━\u001b[0m \u001b[32m8.4/8.4  \u001b[0m MiB      \u001b[35m100%\u001b[0m \u001b[33m0:00:00\u001b[0m \u001b[36m0:00:00\u001b[0m\n",
      "\u001b[32m✔\u001b[0m Finding ORFs         \u001b[90m━━━━━━━━━━━━━━━━━\u001b[0m \u001b[32m1/1      \u001b[0m contig   \u001b[35m100%\u001b[0m \u001b[33m0:00:05\u001b[0m \u001b[36m0:00:00\u001b[0m\n",
      "\u001b[32m✔\u001b[0m Annotating domains   \u001b[90m━━━━━━━━━━━━━━━━━\u001b[0m \u001b[32m1/1      \u001b[0m HMMs     \u001b[35m100%\u001b[0m \u001b[33m0:00:11\u001b[0m \u001b[36m0:00:00\u001b[0m\n",
      "\u001b[32m✔\u001b[0m Predicting marginals \u001b[90m━━━━━━━━━━━━━━━━━\u001b[0m \u001b[32m7739/7739\u001b[0m batches  \u001b[35m100%\u001b[0m \u001b[33m0:00:00\u001b[0m \u001b[36m0:00:00\u001b[0m\n",
      "\u001b[32m✔\u001b[0m Extracting clusters  \u001b[90m━━━━━━━━━━━━━━━━━\u001b[0m \u001b[32m1/1      \u001b[0m contig   \u001b[35m100%\u001b[0m \u001b[33m0:00:00\u001b[0m \u001b[36m0:00:00\u001b[0m\n",
      "\u001b[2K\u001b[1A\u001b[2K\u001b[1A\u001b[2K\u001b[1A\u001b[2K\u001b[1A\u001b[2K\u001b[1A\u001b[2K\u001b[1;33m!\u001b[0m Couldn't assign type to \u001b[1;34mNC_003888.3_cluster_26\u001b[0m \u001b[1m(\u001b[0mmaybe \u001b[1;34mRiPP\u001b[0m, \u001b[1;35m5\u001b[0m\u001b[1;35m%\u001b[0m confidence\u001b[1m)\u001b[0m\n",
      "\u001b[32m✔\u001b[0m Loading sequences    \u001b[90m━━━━━━━━━━━━━━━━━\u001b[0m \u001b[32m8.4/8.4  \u001b[0m MiB      \u001b[35m100%\u001b[0m \u001b[33m0:00:00\u001b[0m \u001b[36m0:00:00\u001b[0m\n",
      "\u001b[32m✔\u001b[0m Finding ORFs         \u001b[90m━━━━━━━━━━━━━━━━━\u001b[0m \u001b[32m1/1      \u001b[0m contig   \u001b[35m100%\u001b[0m \u001b[33m0:00:05\u001b[0m \u001b[36m0:00:00\u001b[0m\n",
      "\u001b[32m✔\u001b[0m Annotating domains   \u001b[90m━━━━━━━━━━━━━━━━━\u001b[0m \u001b[32m1/1      \u001b[0m HMMs     \u001b[35m100%\u001b[0m \u001b[33m0:00:11\u001b[0m \u001b[36m0:00:00\u001b[0m\n",
      "\u001b[32m✔\u001b[0m Predicting marginals \u001b[90m━━━━━━━━━━━━━━━━━\u001b[0m \u001b[32m7739/7739\u001b[0m batches  \u001b[35m100%\u001b[0m \u001b[33m0:00:00\u001b[0m \u001b[36m0:00:00\u001b[0m\n",
      "\u001b[32m✔\u001b[0m Extracting clusters  \u001b[90m━━━━━━━━━━━━━━━━━\u001b[0m \u001b[32m1/1      \u001b[0m contig   \u001b[35m100%\u001b[0m \u001b[33m0:00:00\u001b[0m \u001b[36m0:00:00\u001b[0m\n",
      "\u001b[2K\u001b[1A\u001b[2K\u001b[1A\u001b[2K\u001b[1A\u001b[2K\u001b[1A\u001b[2K\u001b[1A\u001b[2K\u001b[1;33m!\u001b[0m Couldn't assign type to \u001b[1;34mNC_003888.3_cluster_28\u001b[0m \u001b[1m(\u001b[0mmaybe \u001b[1;34mAlkaloid\u001b[0m, \u001b[1;35m11\u001b[0m\u001b[1;35m%\u001b[0m confidence\u001b[1m)\u001b[0m\n",
      "\u001b[32m✔\u001b[0m Loading sequences    \u001b[90m━━━━━━━━━━━━━━━━━\u001b[0m \u001b[32m8.4/8.4  \u001b[0m MiB      \u001b[35m100%\u001b[0m \u001b[33m0:00:00\u001b[0m \u001b[36m0:00:00\u001b[0m\n",
      "\u001b[32m✔\u001b[0m Finding ORFs         \u001b[90m━━━━━━━━━━━━━━━━━\u001b[0m \u001b[32m1/1      \u001b[0m contig   \u001b[35m100%\u001b[0m \u001b[33m0:00:05\u001b[0m \u001b[36m0:00:00\u001b[0m\n",
      "\u001b[32m✔\u001b[0m Annotating domains   \u001b[90m━━━━━━━━━━━━━━━━━\u001b[0m \u001b[32m1/1      \u001b[0m HMMs     \u001b[35m100%\u001b[0m \u001b[33m0:00:11\u001b[0m \u001b[36m0:00:00\u001b[0m\n",
      "\u001b[32m✔\u001b[0m Predicting marginals \u001b[90m━━━━━━━━━━━━━━━━━\u001b[0m \u001b[32m7739/7739\u001b[0m batches  \u001b[35m100%\u001b[0m \u001b[33m0:00:00\u001b[0m \u001b[36m0:00:00\u001b[0m\n",
      "\u001b[32m✔\u001b[0m Extracting clusters  \u001b[90m━━━━━━━━━━━━━━━━━\u001b[0m \u001b[32m1/1      \u001b[0m contig   \u001b[35m100%\u001b[0m \u001b[33m0:00:00\u001b[0m \u001b[36m0:00:00\u001b[0m\n",
      "\u001b[2K\u001b[1A\u001b[2K\u001b[1A\u001b[2K\u001b[1A\u001b[2K\u001b[1A\u001b[2K\u001b[1A\u001b[2K\u001b[1;33m!\u001b[0m Couldn't assign type to \u001b[1;34mNC_003888.3_cluster_29\u001b[0m \u001b[1m(\u001b[0mmaybe \u001b[1;34mNRP\u001b[0m, \u001b[1;35m30\u001b[0m\u001b[1;35m%\u001b[0m confidence\u001b[1m)\u001b[0m\n",
      "\u001b[32m✔\u001b[0m Loading sequences    \u001b[90m━━━━━━━━━━━━━━━━━\u001b[0m \u001b[32m8.4/8.4  \u001b[0m MiB      \u001b[35m100%\u001b[0m \u001b[33m0:00:00\u001b[0m \u001b[36m0:00:00\u001b[0m\n",
      "\u001b[32m✔\u001b[0m Finding ORFs         \u001b[90m━━━━━━━━━━━━━━━━━\u001b[0m \u001b[32m1/1      \u001b[0m contig   \u001b[35m100%\u001b[0m \u001b[33m0:00:05\u001b[0m \u001b[36m0:00:00\u001b[0m\n",
      "\u001b[32m✔\u001b[0m Annotating domains   \u001b[90m━━━━━━━━━━━━━━━━━\u001b[0m \u001b[32m1/1      \u001b[0m HMMs     \u001b[35m100%\u001b[0m \u001b[33m0:00:11\u001b[0m \u001b[36m0:00:00\u001b[0m\n",
      "\u001b[32m✔\u001b[0m Predicting marginals \u001b[90m━━━━━━━━━━━━━━━━━\u001b[0m \u001b[32m7739/7739\u001b[0m batches  \u001b[35m100%\u001b[0m \u001b[33m0:00:00\u001b[0m \u001b[36m0:00:00\u001b[0m\n",
      "\u001b[32m✔\u001b[0m Extracting clusters  \u001b[90m━━━━━━━━━━━━━━━━━\u001b[0m \u001b[32m1/1      \u001b[0m contig   \u001b[35m100%\u001b[0m \u001b[33m0:00:00\u001b[0m \u001b[36m0:00:00\u001b[0m\n",
      "\u001b[2K\u001b[1A\u001b[2K\u001b[1A\u001b[2K\u001b[1A\u001b[2K\u001b[1A\u001b[2K\u001b[1A\u001b[2K\u001b[1;33m!\u001b[0m Couldn't assign type to \u001b[1;34mNC_003888.3_cluster_31\u001b[0m \u001b[1m(\u001b[0mmaybe \u001b[1;34mPolyketide\u001b[0m, \u001b[1;35m21\u001b[0m\u001b[1;35m%\u001b[0m confidence\u001b[1m)\u001b[0m\n",
      "\u001b[32m✔\u001b[0m Loading sequences    \u001b[90m━━━━━━━━━━━━━━━━━\u001b[0m \u001b[32m8.4/8.4  \u001b[0m MiB      \u001b[35m100%\u001b[0m \u001b[33m0:00:00\u001b[0m \u001b[36m0:00:00\u001b[0m\n",
      "\u001b[32m✔\u001b[0m Finding ORFs         \u001b[90m━━━━━━━━━━━━━━━━━\u001b[0m \u001b[32m1/1      \u001b[0m contig   \u001b[35m100%\u001b[0m \u001b[33m0:00:05\u001b[0m \u001b[36m0:00:00\u001b[0m\n",
      "\u001b[32m✔\u001b[0m Annotating domains   \u001b[90m━━━━━━━━━━━━━━━━━\u001b[0m \u001b[32m1/1      \u001b[0m HMMs     \u001b[35m100%\u001b[0m \u001b[33m0:00:11\u001b[0m \u001b[36m0:00:00\u001b[0m\n",
      "\u001b[32m✔\u001b[0m Predicting marginals \u001b[90m━━━━━━━━━━━━━━━━━\u001b[0m \u001b[32m7739/7739\u001b[0m batches  \u001b[35m100%\u001b[0m \u001b[33m0:00:00\u001b[0m \u001b[36m0:00:00\u001b[0m\n",
      "\u001b[32m✔\u001b[0m Extracting clusters  \u001b[90m━━━━━━━━━━━━━━━━━\u001b[0m \u001b[32m1/1      \u001b[0m contig   \u001b[35m100%\u001b[0m \u001b[33m0:00:00\u001b[0m \u001b[36m0:00:00\u001b[0m\n",
      "\u001b[2K\u001b[1A\u001b[2K\u001b[1A\u001b[2K\u001b[1A\u001b[2K\u001b[1A\u001b[2K\u001b[1A\u001b[2K\u001b[1;33m!\u001b[0m Couldn't assign type to \u001b[1;34mNC_003888.3_cluster_33\u001b[0m \u001b[1m(\u001b[0mmaybe \u001b[1;34mNRP\u001b[0m, \u001b[1;35m25\u001b[0m\u001b[1;35m%\u001b[0m confidence\u001b[1m)\u001b[0m\n",
      "\u001b[32m✔\u001b[0m Loading sequences    \u001b[90m━━━━━━━━━━━━━━━━━\u001b[0m \u001b[32m8.4/8.4  \u001b[0m MiB      \u001b[35m100%\u001b[0m \u001b[33m0:00:00\u001b[0m \u001b[36m0:00:00\u001b[0m\n",
      "\u001b[32m✔\u001b[0m Finding ORFs         \u001b[90m━━━━━━━━━━━━━━━━━\u001b[0m \u001b[32m1/1      \u001b[0m contig   \u001b[35m100%\u001b[0m \u001b[33m0:00:05\u001b[0m \u001b[36m0:00:00\u001b[0m\n",
      "\u001b[32m✔\u001b[0m Annotating domains   \u001b[90m━━━━━━━━━━━━━━━━━\u001b[0m \u001b[32m1/1      \u001b[0m HMMs     \u001b[35m100%\u001b[0m \u001b[33m0:00:11\u001b[0m \u001b[36m0:00:00\u001b[0m\n",
      "\u001b[32m✔\u001b[0m Predicting marginals \u001b[90m━━━━━━━━━━━━━━━━━\u001b[0m \u001b[32m7739/7739\u001b[0m batches  \u001b[35m100%\u001b[0m \u001b[33m0:00:00\u001b[0m \u001b[36m0:00:00\u001b[0m\n",
      "\u001b[32m✔\u001b[0m Extracting clusters  \u001b[90m━━━━━━━━━━━━━━━━━\u001b[0m \u001b[32m1/1      \u001b[0m contig   \u001b[35m100%\u001b[0m \u001b[33m0:00:00\u001b[0m \u001b[36m0:00:00\u001b[0m\n",
      "\u001b[2K\u001b[1A\u001b[2K\u001b[1A\u001b[2K\u001b[1A\u001b[2K\u001b[1A\u001b[2K\u001b[1A\u001b[2K\u001b[1;33m!\u001b[0m Couldn't assign type to \u001b[1;34mNC_003888.3_cluster_35\u001b[0m \u001b[1m(\u001b[0mmaybe \u001b[1;34mPolyketide\u001b[0m, \u001b[1;35m24\u001b[0m\u001b[1;35m%\u001b[0m confidence\u001b[1m)\u001b[0m\n",
      "\u001b[32m✔\u001b[0m Loading sequences    \u001b[90m━━━━━━━━━━━━━━━━━\u001b[0m \u001b[32m8.4/8.4  \u001b[0m MiB      \u001b[35m100%\u001b[0m \u001b[33m0:00:00\u001b[0m \u001b[36m0:00:00\u001b[0m\n",
      "\u001b[32m✔\u001b[0m Finding ORFs         \u001b[90m━━━━━━━━━━━━━━━━━\u001b[0m \u001b[32m1/1      \u001b[0m contig   \u001b[35m100%\u001b[0m \u001b[33m0:00:05\u001b[0m \u001b[36m0:00:00\u001b[0m\n",
      "\u001b[32m✔\u001b[0m Annotating domains   \u001b[90m━━━━━━━━━━━━━━━━━\u001b[0m \u001b[32m1/1      \u001b[0m HMMs     \u001b[35m100%\u001b[0m \u001b[33m0:00:11\u001b[0m \u001b[36m0:00:00\u001b[0m\n",
      "\u001b[32m✔\u001b[0m Predicting marginals \u001b[90m━━━━━━━━━━━━━━━━━\u001b[0m \u001b[32m7739/7739\u001b[0m batches  \u001b[35m100%\u001b[0m \u001b[33m0:00:00\u001b[0m \u001b[36m0:00:00\u001b[0m\n",
      "\u001b[32m✔\u001b[0m Extracting clusters  \u001b[90m━━━━━━━━━━━━━━━━━\u001b[0m \u001b[32m1/1      \u001b[0m contig   \u001b[35m100%\u001b[0m \u001b[33m0:00:00\u001b[0m \u001b[36m0:00:00\u001b[0m\n",
      "\u001b[2K\u001b[1A\u001b[2K\u001b[1A\u001b[2K\u001b[1A\u001b[2K\u001b[1A\u001b[2K\u001b[1A\u001b[2K\u001b[32m✔\u001b[0m Loading sequences    \u001b[90m━━━━━━━━━━━━━━━━━\u001b[0m \u001b[32m8.4/8.4  \u001b[0m MiB      \u001b[35m100%\u001b[0m \u001b[33m0:00:00\u001b[0m \u001b[36m0:00:00\u001b[0m\n",
      "\u001b[32m✔\u001b[0m Finding ORFs         \u001b[90m━━━━━━━━━━━━━━━━━\u001b[0m \u001b[32m1/1      \u001b[0m contig   \u001b[35m100%\u001b[0m \u001b[33m0:00:05\u001b[0m \u001b[36m0:00:00\u001b[0m\n",
      "\u001b[32m✔\u001b[0m Annotating domains   \u001b[90m━━━━━━━━━━━━━━━━━\u001b[0m \u001b[32m1/1      \u001b[0m HMMs     \u001b[35m100%\u001b[0m \u001b[33m0:00:11\u001b[0m \u001b[36m0:00:00\u001b[0m\n",
      "\u001b[32m✔\u001b[0m Predicting marginals \u001b[90m━━━━━━━━━━━━━━━━━\u001b[0m \u001b[32m7739/7739\u001b[0m batches  \u001b[35m100%\u001b[0m \u001b[33m0:00:00\u001b[0m \u001b[36m0:00:00\u001b[0m\n",
      "\u001b[32m✔\u001b[0m Extracting clusters  \u001b[90m━━━━━━━━━━━━━━━━━\u001b[0m \u001b[32m1/1      \u001b[0m contig   \u001b[35m100%\u001b[0m \u001b[33m0:00:00\u001b[0m \u001b[36m0:00:00\u001b[0m\n",
      "\u001b[2K\u001b[1A\u001b[2K\u001b[1A\u001b[2K\u001b[1A\u001b[2K\u001b[1A\u001b[2K\u001b[1A\u001b[2K\u001b[1;33m!\u001b[0m Couldn't assign type to \u001b[1;34mNC_003888.3_cluster_37\u001b[0m \u001b[1m(\u001b[0mmaybe \u001b[1;34mRiPP\u001b[0m, \u001b[1;35m48\u001b[0m\u001b[1;35m%\u001b[0m confidence\u001b[1m)\u001b[0m\n",
      "\u001b[32m✔\u001b[0m Loading sequences    \u001b[90m━━━━━━━━━━━━━━━━━\u001b[0m \u001b[32m8.4/8.4  \u001b[0m MiB      \u001b[35m100%\u001b[0m \u001b[33m0:00:00\u001b[0m \u001b[36m0:00:00\u001b[0m\n",
      "\u001b[32m✔\u001b[0m Finding ORFs         \u001b[90m━━━━━━━━━━━━━━━━━\u001b[0m \u001b[32m1/1      \u001b[0m contig   \u001b[35m100%\u001b[0m \u001b[33m0:00:05\u001b[0m \u001b[36m0:00:00\u001b[0m\n",
      "\u001b[32m✔\u001b[0m Annotating domains   \u001b[90m━━━━━━━━━━━━━━━━━\u001b[0m \u001b[32m1/1      \u001b[0m HMMs     \u001b[35m100%\u001b[0m \u001b[33m0:00:11\u001b[0m \u001b[36m0:00:00\u001b[0m\n",
      "\u001b[32m✔\u001b[0m Predicting marginals \u001b[90m━━━━━━━━━━━━━━━━━\u001b[0m \u001b[32m7739/7739\u001b[0m batches  \u001b[35m100%\u001b[0m \u001b[33m0:00:00\u001b[0m \u001b[36m0:00:00\u001b[0m\n",
      "\u001b[32m✔\u001b[0m Extracting clusters  \u001b[90m━━━━━━━━━━━━━━━━━\u001b[0m \u001b[32m1/1      \u001b[0m contig   \u001b[35m100%\u001b[0m \u001b[33m0:00:00\u001b[0m \u001b[36m0:00:00\u001b[0m\n",
      "\u001b[2K\u001b[1A\u001b[2K\u001b[1A\u001b[2K\u001b[1A\u001b[2K\u001b[1A\u001b[2K\u001b[1A\u001b[2K\u001b[1;33m!\u001b[0m Couldn't assign type to \u001b[1;34mNC_003888.3_cluster_40\u001b[0m \u001b[1m(\u001b[0mmaybe \u001b[1;34mSaccharide\u001b[0m, \u001b[1;35m34\u001b[0m\u001b[1;35m%\u001b[0m confidence\u001b[1m)\u001b[0m\n",
      "\u001b[32m✔\u001b[0m Loading sequences    \u001b[90m━━━━━━━━━━━━━━━━━\u001b[0m \u001b[32m8.4/8.4  \u001b[0m MiB      \u001b[35m100%\u001b[0m \u001b[33m0:00:00\u001b[0m \u001b[36m0:00:00\u001b[0m\n",
      "\u001b[32m✔\u001b[0m Finding ORFs         \u001b[90m━━━━━━━━━━━━━━━━━\u001b[0m \u001b[32m1/1      \u001b[0m contig   \u001b[35m100%\u001b[0m \u001b[33m0:00:05\u001b[0m \u001b[36m0:00:00\u001b[0m\n",
      "\u001b[32m✔\u001b[0m Annotating domains   \u001b[90m━━━━━━━━━━━━━━━━━\u001b[0m \u001b[32m1/1      \u001b[0m HMMs     \u001b[35m100%\u001b[0m \u001b[33m0:00:11\u001b[0m \u001b[36m0:00:00\u001b[0m\n",
      "\u001b[32m✔\u001b[0m Predicting marginals \u001b[90m━━━━━━━━━━━━━━━━━\u001b[0m \u001b[32m7739/7739\u001b[0m batches  \u001b[35m100%\u001b[0m \u001b[33m0:00:00\u001b[0m \u001b[36m0:00:00\u001b[0m\n",
      "\u001b[32m✔\u001b[0m Extracting clusters  \u001b[90m━━━━━━━━━━━━━━━━━\u001b[0m \u001b[32m1/1      \u001b[0m contig   \u001b[35m100%\u001b[0m \u001b[33m0:00:00\u001b[0m \u001b[36m0:00:00\u001b[0m\n",
      "\u001b[2K\u001b[1A\u001b[2K\u001b[1A\u001b[2K\u001b[1A\u001b[2K\u001b[1A\u001b[2K\u001b[1A\u001b[2K\u001b[1;33m!\u001b[0m Couldn't assign type to \u001b[1;34mNC_003888.3_cluster_42\u001b[0m \u001b[1m(\u001b[0mmaybe \u001b[1;34mPolyketide\u001b[0m, \u001b[1;35m39\u001b[0m\u001b[1;35m%\u001b[0m confidence\u001b[1m)\u001b[0m\n",
      "\u001b[32m✔\u001b[0m Loading sequences    \u001b[90m━━━━━━━━━━━━━━━━━\u001b[0m \u001b[32m8.4/8.4  \u001b[0m MiB      \u001b[35m100%\u001b[0m \u001b[33m0:00:00\u001b[0m \u001b[36m0:00:00\u001b[0m\n",
      "\u001b[32m✔\u001b[0m Finding ORFs         \u001b[90m━━━━━━━━━━━━━━━━━\u001b[0m \u001b[32m1/1      \u001b[0m contig   \u001b[35m100%\u001b[0m \u001b[33m0:00:05\u001b[0m \u001b[36m0:00:00\u001b[0m\n",
      "\u001b[32m✔\u001b[0m Annotating domains   \u001b[90m━━━━━━━━━━━━━━━━━\u001b[0m \u001b[32m1/1      \u001b[0m HMMs     \u001b[35m100%\u001b[0m \u001b[33m0:00:11\u001b[0m \u001b[36m0:00:00\u001b[0m\n",
      "\u001b[32m✔\u001b[0m Predicting marginals \u001b[90m━━━━━━━━━━━━━━━━━\u001b[0m \u001b[32m7739/7739\u001b[0m batches  \u001b[35m100%\u001b[0m \u001b[33m0:00:00\u001b[0m \u001b[36m0:00:00\u001b[0m\n",
      "\u001b[32m✔\u001b[0m Extracting clusters  \u001b[90m━━━━━━━━━━━━━━━━━\u001b[0m \u001b[32m1/1      \u001b[0m contig   \u001b[35m100%\u001b[0m \u001b[33m0:00:00\u001b[0m \u001b[36m0:00:00\u001b[0m\n",
      "\u001b[2K\u001b[1A\u001b[2K\u001b[1A\u001b[2K\u001b[1A\u001b[2K\u001b[1A\u001b[2K\u001b[1A\u001b[2K\u001b[1;33m!\u001b[0m Couldn't assign type to \u001b[1;34mNC_003888.3_cluster_44\u001b[0m \u001b[1m(\u001b[0mmaybe \u001b[1;34mPolyketide\u001b[0m, \u001b[1;35m29\u001b[0m\u001b[1;35m%\u001b[0m confidence\u001b[1m)\u001b[0m\n",
      "\u001b[32m✔\u001b[0m Loading sequences    \u001b[90m━━━━━━━━━━━━━━━━━\u001b[0m \u001b[32m8.4/8.4  \u001b[0m MiB      \u001b[35m100%\u001b[0m \u001b[33m0:00:00\u001b[0m \u001b[36m0:00:00\u001b[0m\n",
      "\u001b[32m✔\u001b[0m Finding ORFs         \u001b[90m━━━━━━━━━━━━━━━━━\u001b[0m \u001b[32m1/1      \u001b[0m contig   \u001b[35m100%\u001b[0m \u001b[33m0:00:05\u001b[0m \u001b[36m0:00:00\u001b[0m\n",
      "\u001b[32m✔\u001b[0m Annotating domains   \u001b[90m━━━━━━━━━━━━━━━━━\u001b[0m \u001b[32m1/1      \u001b[0m HMMs     \u001b[35m100%\u001b[0m \u001b[33m0:00:11\u001b[0m \u001b[36m0:00:00\u001b[0m\n",
      "\u001b[32m✔\u001b[0m Predicting marginals \u001b[90m━━━━━━━━━━━━━━━━━\u001b[0m \u001b[32m7739/7739\u001b[0m batches  \u001b[35m100%\u001b[0m \u001b[33m0:00:00\u001b[0m \u001b[36m0:00:00\u001b[0m\n",
      "\u001b[32m✔\u001b[0m Extracting clusters  \u001b[90m━━━━━━━━━━━━━━━━━\u001b[0m \u001b[32m1/1      \u001b[0m contig   \u001b[35m100%\u001b[0m \u001b[33m0:00:00\u001b[0m \u001b[36m0:00:00\u001b[0m\n",
      "\u001b[2K\u001b[1A\u001b[2K\u001b[1A\u001b[2K\u001b[1A\u001b[2K\u001b[1A\u001b[2K\u001b[1A\u001b[2K\u001b[1;33m!\u001b[0m Couldn't assign type to \u001b[1;34mNC_003888.3_cluster_45\u001b[0m \u001b[1m(\u001b[0mmaybe \u001b[1;34mPolyketide\u001b[0m, \u001b[1;35m27\u001b[0m\u001b[1;35m%\u001b[0m confidence\u001b[1m)\u001b[0m\n",
      "\u001b[32m✔\u001b[0m Loading sequences    \u001b[90m━━━━━━━━━━━━━━━━━\u001b[0m \u001b[32m8.4/8.4  \u001b[0m MiB      \u001b[35m100%\u001b[0m \u001b[33m0:00:00\u001b[0m \u001b[36m0:00:00\u001b[0m\n",
      "\u001b[32m✔\u001b[0m Finding ORFs         \u001b[90m━━━━━━━━━━━━━━━━━\u001b[0m \u001b[32m1/1      \u001b[0m contig   \u001b[35m100%\u001b[0m \u001b[33m0:00:05\u001b[0m \u001b[36m0:00:00\u001b[0m\n",
      "\u001b[32m✔\u001b[0m Annotating domains   \u001b[90m━━━━━━━━━━━━━━━━━\u001b[0m \u001b[32m1/1      \u001b[0m HMMs     \u001b[35m100%\u001b[0m \u001b[33m0:00:11\u001b[0m \u001b[36m0:00:00\u001b[0m\n",
      "\u001b[32m✔\u001b[0m Predicting marginals \u001b[90m━━━━━━━━━━━━━━━━━\u001b[0m \u001b[32m7739/7739\u001b[0m batches  \u001b[35m100%\u001b[0m \u001b[33m0:00:00\u001b[0m \u001b[36m0:00:00\u001b[0m\n",
      "\u001b[32m✔\u001b[0m Extracting clusters  \u001b[90m━━━━━━━━━━━━━━━━━\u001b[0m \u001b[32m1/1      \u001b[0m contig   \u001b[35m100%\u001b[0m \u001b[33m0:00:00\u001b[0m \u001b[36m0:00:00\u001b[0m\n",
      "\u001b[2K\u001b[1A\u001b[2K\u001b[1A\u001b[2K\u001b[1A\u001b[2K\u001b[1A\u001b[2K\u001b[1A\u001b[2K\u001b[1;33m!\u001b[0m Couldn't assign type to \u001b[1;34mNC_003888.3_cluster_46\u001b[0m \u001b[1m(\u001b[0mmaybe \u001b[1;34mNRP\u001b[0m, \u001b[1;35m25\u001b[0m\u001b[1;35m%\u001b[0m confidence\u001b[1m)\u001b[0m\n",
      "\u001b[32m✔\u001b[0m Loading sequences    \u001b[90m━━━━━━━━━━━━━━━━━\u001b[0m \u001b[32m8.4/8.4  \u001b[0m MiB      \u001b[35m100%\u001b[0m \u001b[33m0:00:00\u001b[0m \u001b[36m0:00:00\u001b[0m\n",
      "\u001b[32m✔\u001b[0m Finding ORFs         \u001b[90m━━━━━━━━━━━━━━━━━\u001b[0m \u001b[32m1/1      \u001b[0m contig   \u001b[35m100%\u001b[0m \u001b[33m0:00:05\u001b[0m \u001b[36m0:00:00\u001b[0m\n",
      "\u001b[32m✔\u001b[0m Annotating domains   \u001b[90m━━━━━━━━━━━━━━━━━\u001b[0m \u001b[32m1/1      \u001b[0m HMMs     \u001b[35m100%\u001b[0m \u001b[33m0:00:11\u001b[0m \u001b[36m0:00:00\u001b[0m\n",
      "\u001b[32m✔\u001b[0m Predicting marginals \u001b[90m━━━━━━━━━━━━━━━━━\u001b[0m \u001b[32m7739/7739\u001b[0m batches  \u001b[35m100%\u001b[0m \u001b[33m0:00:00\u001b[0m \u001b[36m0:00:00\u001b[0m\n",
      "\u001b[32m✔\u001b[0m Extracting clusters  \u001b[90m━━━━━━━━━━━━━━━━━\u001b[0m \u001b[32m1/1      \u001b[0m contig   \u001b[35m100%\u001b[0m \u001b[33m0:00:00\u001b[0m \u001b[36m0:00:00\u001b[0m\n",
      "\u001b[2K\u001b[1A\u001b[2K\u001b[1A\u001b[2K\u001b[1A\u001b[2K\u001b[1A\u001b[2K\u001b[1A\u001b[2K\u001b[1;33m!\u001b[0m Couldn't assign type to \u001b[1;34mNC_003888.3_cluster_48\u001b[0m \u001b[1m(\u001b[0mmaybe \u001b[1;34mNRP\u001b[0m, \u001b[1;35m18\u001b[0m\u001b[1;35m%\u001b[0m confidence\u001b[1m)\u001b[0m\n",
      "\u001b[32m✔\u001b[0m Loading sequences    \u001b[90m━━━━━━━━━━━━━━━━━\u001b[0m \u001b[32m8.4/8.4  \u001b[0m MiB      \u001b[35m100%\u001b[0m \u001b[33m0:00:00\u001b[0m \u001b[36m0:00:00\u001b[0m\n",
      "\u001b[32m✔\u001b[0m Finding ORFs         \u001b[90m━━━━━━━━━━━━━━━━━\u001b[0m \u001b[32m1/1      \u001b[0m contig   \u001b[35m100%\u001b[0m \u001b[33m0:00:05\u001b[0m \u001b[36m0:00:00\u001b[0m\n",
      "\u001b[32m✔\u001b[0m Annotating domains   \u001b[90m━━━━━━━━━━━━━━━━━\u001b[0m \u001b[32m1/1      \u001b[0m HMMs     \u001b[35m100%\u001b[0m \u001b[33m0:00:11\u001b[0m \u001b[36m0:00:00\u001b[0m\n",
      "\u001b[32m✔\u001b[0m Predicting marginals \u001b[90m━━━━━━━━━━━━━━━━━\u001b[0m \u001b[32m7739/7739\u001b[0m batches  \u001b[35m100%\u001b[0m \u001b[33m0:00:00\u001b[0m \u001b[36m0:00:00\u001b[0m\n",
      "\u001b[32m✔\u001b[0m Extracting clusters  \u001b[90m━━━━━━━━━━━━━━━━━\u001b[0m \u001b[32m1/1      \u001b[0m contig   \u001b[35m100%\u001b[0m \u001b[33m0:00:00\u001b[0m \u001b[36m0:00:00\u001b[0m\n",
      "\u001b[2K\u001b[1A\u001b[2K\u001b[1A\u001b[2K\u001b[1A\u001b[2K\u001b[1A\u001b[2K\u001b[1A\u001b[2K\u001b[1;33m!\u001b[0m Couldn't assign type to \u001b[1;34mNC_003888.3_cluster_49\u001b[0m \u001b[1m(\u001b[0mmaybe \u001b[1;34mPolyketide\u001b[0m, \u001b[1;35m25\u001b[0m\u001b[1;35m%\u001b[0m confidence\u001b[1m)\u001b[0m\n",
      "\u001b[32m✔\u001b[0m Loading sequences    \u001b[90m━━━━━━━━━━━━━━━━━\u001b[0m \u001b[32m8.4/8.4  \u001b[0m MiB      \u001b[35m100%\u001b[0m \u001b[33m0:00:00\u001b[0m \u001b[36m0:00:00\u001b[0m\n",
      "\u001b[32m✔\u001b[0m Finding ORFs         \u001b[90m━━━━━━━━━━━━━━━━━\u001b[0m \u001b[32m1/1      \u001b[0m contig   \u001b[35m100%\u001b[0m \u001b[33m0:00:05\u001b[0m \u001b[36m0:00:00\u001b[0m\n",
      "\u001b[32m✔\u001b[0m Annotating domains   \u001b[90m━━━━━━━━━━━━━━━━━\u001b[0m \u001b[32m1/1      \u001b[0m HMMs     \u001b[35m100%\u001b[0m \u001b[33m0:00:11\u001b[0m \u001b[36m0:00:00\u001b[0m\n",
      "\u001b[32m✔\u001b[0m Predicting marginals \u001b[90m━━━━━━━━━━━━━━━━━\u001b[0m \u001b[32m7739/7739\u001b[0m batches  \u001b[35m100%\u001b[0m \u001b[33m0:00:00\u001b[0m \u001b[36m0:00:00\u001b[0m\n",
      "\u001b[32m✔\u001b[0m Extracting clusters  \u001b[90m━━━━━━━━━━━━━━━━━\u001b[0m \u001b[32m1/1      \u001b[0m contig   \u001b[35m100%\u001b[0m \u001b[33m0:00:00\u001b[0m \u001b[36m0:00:00\u001b[0m\n",
      "\u001b[2K\u001b[1A\u001b[2K\u001b[1A\u001b[2K\u001b[1A\u001b[2K\u001b[1A\u001b[2K\u001b[1A\u001b[2K\u001b[32m✔\u001b[0m Loading sequences    \u001b[90m━━━━━━━━━━━━━━━━━\u001b[0m \u001b[32m8.4/8.4  \u001b[0m MiB      \u001b[35m100%\u001b[0m \u001b[33m0:00:00\u001b[0m \u001b[36m0:00:00\u001b[0m\n",
      "\u001b[32m✔\u001b[0m Finding ORFs         \u001b[90m━━━━━━━━━━━━━━━━━\u001b[0m \u001b[32m1/1      \u001b[0m contig   \u001b[35m100%\u001b[0m \u001b[33m0:00:05\u001b[0m \u001b[36m0:00:00\u001b[0m\n",
      "\u001b[32m✔\u001b[0m Annotating domains   \u001b[90m━━━━━━━━━━━━━━━━━\u001b[0m \u001b[32m1/1      \u001b[0m HMMs     \u001b[35m100%\u001b[0m \u001b[33m0:00:11\u001b[0m \u001b[36m0:00:00\u001b[0m\n",
      "\u001b[32m✔\u001b[0m Predicting marginals \u001b[90m━━━━━━━━━━━━━━━━━\u001b[0m \u001b[32m7739/7739\u001b[0m batches  \u001b[35m100%\u001b[0m \u001b[33m0:00:00\u001b[0m \u001b[36m0:00:00\u001b[0m\n",
      "\u001b[32m✔\u001b[0m Extracting clusters  \u001b[90m━━━━━━━━━━━━━━━━━\u001b[0m \u001b[32m1/1      \u001b[0m contig   \u001b[35m100%\u001b[0m \u001b[33m0:00:00\u001b[0m \u001b[36m0:00:00\u001b[0m\n",
      "\u001b[2K\u001b[1A\u001b[2K\u001b[1A\u001b[2K\u001b[1A\u001b[2K\u001b[1A\u001b[2K\u001b[1A\u001b[2K\u001b[32m✔\u001b[0m Loading sequences    \u001b[90m━━━━━━━━━━━━━━━━━\u001b[0m \u001b[32m8.4/8.4  \u001b[0m MiB      \u001b[35m100%\u001b[0m \u001b[33m0:00:00\u001b[0m \u001b[36m0:00:00\u001b[0m\n",
      "\u001b[32m✔\u001b[0m Finding ORFs         \u001b[90m━━━━━━━━━━━━━━━━━\u001b[0m \u001b[32m1/1      \u001b[0m contig   \u001b[35m100%\u001b[0m \u001b[33m0:00:05\u001b[0m \u001b[36m0:00:00\u001b[0m\n",
      "\u001b[32m✔\u001b[0m Annotating domains   \u001b[90m━━━━━━━━━━━━━━━━━\u001b[0m \u001b[32m1/1      \u001b[0m HMMs     \u001b[35m100%\u001b[0m \u001b[33m0:00:11\u001b[0m \u001b[36m0:00:00\u001b[0m\n",
      "\u001b[32m✔\u001b[0m Predicting marginals \u001b[90m━━━━━━━━━━━━━━━━━\u001b[0m \u001b[32m7739/7739\u001b[0m batches  \u001b[35m100%\u001b[0m \u001b[33m0:00:00\u001b[0m \u001b[36m0:00:00\u001b[0m\n",
      "\u001b[32m✔\u001b[0m Extracting clusters  \u001b[90m━━━━━━━━━━━━━━━━━\u001b[0m \u001b[32m1/1      \u001b[0m contig   \u001b[35m100%\u001b[0m \u001b[33m0:00:00\u001b[0m \u001b[36m0:00:00\u001b[0m\n",
      "\u001b[2K\u001b[1A\u001b[2K\u001b[1A\u001b[2K\u001b[1A\u001b[2K\u001b[1A\u001b[2K\u001b[1A\u001b[2K\u001b[32m✔\u001b[0m Loading sequences    \u001b[90m━━━━━━━━━━━━━━━━━\u001b[0m \u001b[32m8.4/8.4  \u001b[0m MiB      \u001b[35m100%\u001b[0m \u001b[33m0:00:00\u001b[0m \u001b[36m0:00:00\u001b[0m\n",
      "\u001b[32m✔\u001b[0m Finding ORFs         \u001b[90m━━━━━━━━━━━━━━━━━\u001b[0m \u001b[32m1/1      \u001b[0m contig   \u001b[35m100%\u001b[0m \u001b[33m0:00:05\u001b[0m \u001b[36m0:00:00\u001b[0m\n",
      "\u001b[32m✔\u001b[0m Annotating domains   \u001b[90m━━━━━━━━━━━━━━━━━\u001b[0m \u001b[32m1/1      \u001b[0m HMMs     \u001b[35m100%\u001b[0m \u001b[33m0:00:11\u001b[0m \u001b[36m0:00:00\u001b[0m\n",
      "\u001b[32m✔\u001b[0m Predicting marginals \u001b[90m━━━━━━━━━━━━━━━━━\u001b[0m \u001b[32m7739/7739\u001b[0m batches  \u001b[35m100%\u001b[0m \u001b[33m0:00:00\u001b[0m \u001b[36m0:00:00\u001b[0m\n",
      "\u001b[32m✔\u001b[0m Extracting clusters  \u001b[90m━━━━━━━━━━━━━━━━━\u001b[0m \u001b[32m1/1      \u001b[0m contig   \u001b[35m100%\u001b[0m \u001b[33m0:00:00\u001b[0m \u001b[36m0:00:00\u001b[0m\n",
      "\u001b[2K\u001b[1A\u001b[2K\u001b[1A\u001b[2K\u001b[1A\u001b[2K\u001b[1A\u001b[2K\u001b[1A\u001b[2K\u001b[32m✔\u001b[0m Loading sequences    \u001b[90m━━━━━━━━━━━━━━━━━\u001b[0m \u001b[32m8.4/8.4  \u001b[0m MiB      \u001b[35m100%\u001b[0m \u001b[33m0:00:00\u001b[0m \u001b[36m0:00:00\u001b[0m\n",
      "\u001b[32m✔\u001b[0m Finding ORFs         \u001b[90m━━━━━━━━━━━━━━━━━\u001b[0m \u001b[32m1/1      \u001b[0m contig   \u001b[35m100%\u001b[0m \u001b[33m0:00:05\u001b[0m \u001b[36m0:00:00\u001b[0m\n",
      "\u001b[32m✔\u001b[0m Annotating domains   \u001b[90m━━━━━━━━━━━━━━━━━\u001b[0m \u001b[32m1/1      \u001b[0m HMMs     \u001b[35m100%\u001b[0m \u001b[33m0:00:11\u001b[0m \u001b[36m0:00:00\u001b[0m\n",
      "\u001b[32m✔\u001b[0m Predicting marginals \u001b[90m━━━━━━━━━━━━━━━━━\u001b[0m \u001b[32m7739/7739\u001b[0m batches  \u001b[35m100%\u001b[0m \u001b[33m0:00:00\u001b[0m \u001b[36m0:00:00\u001b[0m\n",
      "\u001b[32m✔\u001b[0m Extracting clusters  \u001b[90m━━━━━━━━━━━━━━━━━\u001b[0m \u001b[32m1/1      \u001b[0m contig   \u001b[35m100%\u001b[0m \u001b[33m0:00:00\u001b[0m \u001b[36m0:00:00\u001b[0m\n",
      "\u001b[2K\u001b[1A\u001b[2K\u001b[1A\u001b[2K\u001b[1A\u001b[2K\u001b[1A\u001b[2K\u001b[1A\u001b[2K\u001b[32m✔\u001b[0m Loading sequences    \u001b[90m━━━━━━━━━━━━━━━━━\u001b[0m \u001b[32m8.4/8.4  \u001b[0m MiB      \u001b[35m100%\u001b[0m \u001b[33m0:00:00\u001b[0m \u001b[36m0:00:00\u001b[0m\n",
      "\u001b[32m✔\u001b[0m Finding ORFs         \u001b[90m━━━━━━━━━━━━━━━━━\u001b[0m \u001b[32m1/1      \u001b[0m contig   \u001b[35m100%\u001b[0m \u001b[33m0:00:05\u001b[0m \u001b[36m0:00:00\u001b[0m\n",
      "\u001b[32m✔\u001b[0m Annotating domains   \u001b[90m━━━━━━━━━━━━━━━━━\u001b[0m \u001b[32m1/1      \u001b[0m HMMs     \u001b[35m100%\u001b[0m \u001b[33m0:00:11\u001b[0m \u001b[36m0:00:00\u001b[0m\n",
      "\u001b[32m✔\u001b[0m Predicting marginals \u001b[90m━━━━━━━━━━━━━━━━━\u001b[0m \u001b[32m7739/7739\u001b[0m batches  \u001b[35m100%\u001b[0m \u001b[33m0:00:00\u001b[0m \u001b[36m0:00:00\u001b[0m\n",
      "\u001b[32m✔\u001b[0m Extracting clusters  \u001b[90m━━━━━━━━━━━━━━━━━\u001b[0m \u001b[32m1/1      \u001b[0m contig   \u001b[35m100%\u001b[0m \u001b[33m0:00:00\u001b[0m \u001b[36m0:00:00\u001b[0m\n",
      "\u001b[2K\u001b[1A\u001b[2K\u001b[1A\u001b[2K\u001b[1A\u001b[2K\u001b[1A\u001b[2K\u001b[1A\u001b[2K\u001b[32m✔\u001b[0m Found \u001b[1;36m46\u001b[0m biosynthetic gene clusters\u001b[33m0:00:00\u001b[0m \u001b[36m0:00:00\u001b[0m\n",
      "\u001b[32m✔\u001b[0m Loading sequences    \u001b[90m━━━━━━━━━━━━━━━━━\u001b[0m \u001b[32m8.4/8.4  \u001b[0m MiB      \u001b[35m100%\u001b[0m \u001b[33m0:00:00\u001b[0m \u001b[36m0:00:00\u001b[0m\n",
      "\u001b[32m✔\u001b[0m Finding ORFs         \u001b[90m━━━━━━━━━━━━━━━━━\u001b[0m \u001b[32m1/1      \u001b[0m contig   \u001b[35m100%\u001b[0m \u001b[33m0:00:05\u001b[0m \u001b[36m0:00:00\u001b[0m\n",
      "\u001b[32m✔\u001b[0m Annotating domains   \u001b[90m━━━━━━━━━━━━━━━━━\u001b[0m \u001b[32m1/1      \u001b[0m HMMs     \u001b[35m100%\u001b[0m \u001b[33m0:00:11\u001b[0m \u001b[36m0:00:00\u001b[0m\n",
      "\u001b[32m✔\u001b[0m Predicting marginals \u001b[90m━━━━━━━━━━━━━━━━━\u001b[0m \u001b[32m7739/7739\u001b[0m batches  \u001b[35m100%\u001b[0m \u001b[33m0:00:00\u001b[0m \u001b[36m0:00:00\u001b[0m\n",
      "\u001b[32m✔\u001b[0m Extracting clusters  \u001b[90m━━━━━━━━━━━━━━━━━\u001b[0m \u001b[32m1/1      \u001b[0m contig   \u001b[35m100%\u001b[0m \u001b[33m0:00:00\u001b[0m \u001b[36m0:00:00\u001b[0m\n",
      "\u001b[2K\u001b[1A\u001b[2K\u001b[1A\u001b[2K\u001b[1A\u001b[2K\u001b[1A\u001b[2K\u001b[1A\u001b[2K\u001b[32m✔\u001b[0m Loading sequences    \u001b[90m━━━━━━━━━━━━━━━━━\u001b[0m \u001b[32m8.4/8.4  \u001b[0m MiB      \u001b[35m100%\u001b[0m \u001b[33m0:00:00\u001b[0m \u001b[36m0:00:00\u001b[0m\n",
      "\u001b[32m✔\u001b[0m Finding ORFs         \u001b[90m━━━━━━━━━━━━━━━━━\u001b[0m \u001b[32m1/1      \u001b[0m contig   \u001b[35m100%\u001b[0m \u001b[33m0:00:05\u001b[0m \u001b[36m0:00:00\u001b[0m\n",
      "\u001b[32m✔\u001b[0m Annotating domains   \u001b[90m━━━━━━━━━━━━━━━━━\u001b[0m \u001b[32m1/1      \u001b[0m HMMs     \u001b[35m100%\u001b[0m \u001b[33m0:00:11\u001b[0m \u001b[36m0:00:00\u001b[0m\n",
      "\u001b[32m✔\u001b[0m Predicting marginals \u001b[90m━━━━━━━━━━━━━━━━━\u001b[0m \u001b[32m7739/7739\u001b[0m batches  \u001b[35m100%\u001b[0m \u001b[33m0:00:00\u001b[0m \u001b[36m0:00:00\u001b[0m\n",
      "\u001b[32m✔\u001b[0m Extracting clusters  \u001b[90m━━━━━━━━━━━━━━━━━\u001b[0m \u001b[32m1/1      \u001b[0m contig   \u001b[35m100%\u001b[0m \u001b[33m0:00:00\u001b[0m \u001b[36m0:00:00\u001b[0m\n",
      "\u001b[32m✔\u001b[0m Predicting types     \u001b[90m━━━━━━━━━━━━━━━━━\u001b[0m \u001b[32m46/46    \u001b[0m clusters \u001b[35m100%\u001b[0m \u001b[33m0:00:00\u001b[0m \u001b[36m0:00:00\u001b[0m\n",
      "\u001b[1A\u001b[2K\u001b[1A\u001b[2K\u001b[1A\u001b[2K\u001b[1A\u001b[2K\u001b[1A\u001b[2K\u001b[1A\u001b[2K"
     ]
    }
   ],
   "source": [
    "!gecco run --genome /Users/Erfan/Downloads/Test_Task_HiWi/NC_003888.3.fna "
   ]
  },
  {
   "cell_type": "markdown",
   "metadata": {},
   "source": [
    "GECCO should generate you a sample tab-separated file {sequence}.clusters.tsv with coordinates for all found BGCs (regions of interest)."
   ]
  },
  {
   "cell_type": "markdown",
   "metadata": {},
   "source": [
    "### Extracting the Region From AntiSMASH Output"
   ]
  },
  {
   "cell_type": "markdown",
   "metadata": {},
   "source": [
    "AntiSMASH output format is more complicated. The output JSON is a giant dictionary, but you need only a tiny fraction of this data. In the 'records' field, there is a list of results for each input genome, and since we have only one genome as input, this list contains just one record. Inside, you will find a long list of 'features' identified by antiSMASH, you need only the ones having 'type' equal to 'region' -- that is our regions of interest. Each of them has coordinates in the 'location' field in a format like '[86636:139654]'; you will need to parse them."
   ]
  },
  {
   "cell_type": "code",
   "execution_count": 5,
   "metadata": {},
   "outputs": [
    {
     "name": "stdout",
     "output_type": "stream",
     "text": [
      "Region from 86636 to 139654\n",
      "Region from 166500 to 192038\n",
      "Region from 246525 to 271084\n",
      "Region from 493988 to 552325\n",
      "Region from 791583 to 801799\n",
      "Region from 1257624 to 1298749\n",
      "Region from 1995499 to 2005898\n",
      "Region from 2939305 to 2949875\n",
      "Region from 3024894 to 3054682\n",
      "Region from 3523334 to 3603988\n",
      "Region from 5494800 to 5567424\n",
      "Region from 5671015 to 5692101\n",
      "Region from 5751944 to 5824487\n",
      "Region from 6326586 to 6356533\n",
      "Region from 6429548 to 6476442\n",
      "Region from 6632342 to 6643659\n",
      "Region from 6656218 to 6678399\n",
      "Region from 6833314 to 6864522\n",
      "Region from 6880897 to 6956537\n",
      "Region from 7088263 to 7142447\n",
      "Region from 7409663 to 7432456\n",
      "Region from 7506016 to 7532758\n",
      "Region from 7570411 to 7618555\n",
      "Region from 7682906 to 7709360\n",
      "Region from 7973469 to 8047475\n",
      "Region from 8269636 to 8290764\n",
      "Region from 8475101 to 8549581\n"
     ]
    }
   ],
   "source": [
    "\n",
    "# Load the antiSMASH output JSON file\n",
    "with open('/Users/Erfan/Downloads/Test_Task_HiWi/BGC/data.json') as f:\n",
    "    data = json.load(f)\n",
    "\n",
    "# Access the first (and only) record in the 'records' field\n",
    "record = data['records'][0]\n",
    "\n",
    "# Initialize an empty list to store regions of interest\n",
    "regions_of_interest_antiSMASH = []\n",
    "\n",
    "# Iterate through 'features' in the record\n",
    "for feature in record['features']:\n",
    "    # Check if the 'type' of the feature is 'region'\n",
    "    if feature.get('type') == 'region':\n",
    "        # Extract the 'location' field\n",
    "        location = feature.get('location')\n",
    "        \n",
    "        # Parse the location to extract start and end coordinates\n",
    "        if location and location.startswith('[') and location.endswith(']'):\n",
    "            start, end = map(int, location[1:-1].split(':'))\n",
    "            regions_of_interest_antiSMASH.append({\n",
    "                'start': start,\n",
    "                'end': end\n",
    "            })\n",
    "\n",
    "# Display the extracted regions\n",
    "for region in regions_of_interest_antiSMASH:\n",
    "    print(f\"Region from {region['start']} to {region['end']}\")\n"
   ]
  },
  {
   "cell_type": "markdown",
   "metadata": {},
   "source": [
    "### Extracting the Region From GECCO Output"
   ]
  },
  {
   "cell_type": "code",
   "execution_count": 6,
   "metadata": {},
   "outputs": [
    {
     "data": {
      "text/html": [
       "<div>\n",
       "<style scoped>\n",
       "    .dataframe tbody tr th:only-of-type {\n",
       "        vertical-align: middle;\n",
       "    }\n",
       "\n",
       "    .dataframe tbody tr th {\n",
       "        vertical-align: top;\n",
       "    }\n",
       "\n",
       "    .dataframe thead th {\n",
       "        text-align: right;\n",
       "    }\n",
       "</style>\n",
       "<table border=\"1\" class=\"dataframe\">\n",
       "  <thead>\n",
       "    <tr style=\"text-align: right;\">\n",
       "      <th></th>\n",
       "      <th>sequence_id</th>\n",
       "      <th>cluster_id</th>\n",
       "      <th>start</th>\n",
       "      <th>end</th>\n",
       "      <th>average_p</th>\n",
       "      <th>max_p</th>\n",
       "      <th>type</th>\n",
       "      <th>alkaloid_probability</th>\n",
       "      <th>nrp_probability</th>\n",
       "      <th>polyketide_probability</th>\n",
       "      <th>ripp_probability</th>\n",
       "      <th>saccharide_probability</th>\n",
       "      <th>terpene_probability</th>\n",
       "      <th>proteins</th>\n",
       "      <th>domains</th>\n",
       "    </tr>\n",
       "  </thead>\n",
       "  <tbody>\n",
       "    <tr>\n",
       "      <th>0</th>\n",
       "      <td>NC_003888.3</td>\n",
       "      <td>NC_003888.3_cluster_1</td>\n",
       "      <td>1144</td>\n",
       "      <td>42174</td>\n",
       "      <td>0.955674</td>\n",
       "      <td>0.999175</td>\n",
       "      <td>Unknown</td>\n",
       "      <td>0.056906</td>\n",
       "      <td>0.193690</td>\n",
       "      <td>0.212401</td>\n",
       "      <td>0.216538</td>\n",
       "      <td>0.06</td>\n",
       "      <td>0.092709</td>\n",
       "      <td>NC_003888.3_10;NC_003888.3_11;NC_003888.3_12;N...</td>\n",
       "      <td>PF00201;PF00665;PF00881;PF01047;PF01590;PF0169...</td>\n",
       "    </tr>\n",
       "    <tr>\n",
       "      <th>1</th>\n",
       "      <td>NC_003888.3</td>\n",
       "      <td>NC_003888.3_cluster_2</td>\n",
       "      <td>98463</td>\n",
       "      <td>128290</td>\n",
       "      <td>0.963851</td>\n",
       "      <td>0.999986</td>\n",
       "      <td>Polyketide</td>\n",
       "      <td>0.010000</td>\n",
       "      <td>0.190000</td>\n",
       "      <td>0.850000</td>\n",
       "      <td>0.020000</td>\n",
       "      <td>0.00</td>\n",
       "      <td>0.030000</td>\n",
       "      <td>NC_003888.3_100;NC_003888.3_101;NC_003888.3_10...</td>\n",
       "      <td>PF00005;PF00106;PF00109;PF00109;PF00109;PF0019...</td>\n",
       "    </tr>\n",
       "    <tr>\n",
       "      <th>2</th>\n",
       "      <td>NC_003888.3</td>\n",
       "      <td>NC_003888.3_cluster_3</td>\n",
       "      <td>168705</td>\n",
       "      <td>189886</td>\n",
       "      <td>0.945490</td>\n",
       "      <td>0.999977</td>\n",
       "      <td>Terpene</td>\n",
       "      <td>0.030000</td>\n",
       "      <td>0.100000</td>\n",
       "      <td>0.190000</td>\n",
       "      <td>0.010000</td>\n",
       "      <td>0.03</td>\n",
       "      <td>0.590000</td>\n",
       "      <td>NC_003888.3_148;NC_003888.3_149;NC_003888.3_15...</td>\n",
       "      <td>PF00107;PF00348;PF00355;PF00494;PF00582;PF0058...</td>\n",
       "    </tr>\n",
       "    <tr>\n",
       "      <th>3</th>\n",
       "      <td>NC_003888.3</td>\n",
       "      <td>NC_003888.3_cluster_4</td>\n",
       "      <td>250805</td>\n",
       "      <td>267513</td>\n",
       "      <td>0.936970</td>\n",
       "      <td>0.998160</td>\n",
       "      <td>RiPP</td>\n",
       "      <td>0.002010</td>\n",
       "      <td>0.142577</td>\n",
       "      <td>0.093226</td>\n",
       "      <td>0.641250</td>\n",
       "      <td>0.00</td>\n",
       "      <td>0.026305</td>\n",
       "      <td>NC_003888.3_226;NC_003888.3_227;NC_003888.3_22...</td>\n",
       "      <td>PF00126;PF00528;PF00528;PF00561;PF00975;PF0104...</td>\n",
       "    </tr>\n",
       "    <tr>\n",
       "      <th>4</th>\n",
       "      <td>NC_003888.3</td>\n",
       "      <td>NC_003888.3_cluster_5</td>\n",
       "      <td>494260</td>\n",
       "      <td>544087</td>\n",
       "      <td>0.970834</td>\n",
       "      <td>0.999982</td>\n",
       "      <td>NRP</td>\n",
       "      <td>0.020000</td>\n",
       "      <td>0.690000</td>\n",
       "      <td>0.160000</td>\n",
       "      <td>0.100000</td>\n",
       "      <td>0.05</td>\n",
       "      <td>0.030000</td>\n",
       "      <td>NC_003888.3_435;NC_003888.3_436;NC_003888.3_43...</td>\n",
       "      <td>PF00005;PF00005;PF00005;PF00005;PF00148;PF0027...</td>\n",
       "    </tr>\n",
       "  </tbody>\n",
       "</table>\n",
       "</div>"
      ],
      "text/plain": [
       "   sequence_id             cluster_id   start     end  average_p     max_p  \\\n",
       "0  NC_003888.3  NC_003888.3_cluster_1    1144   42174   0.955674  0.999175   \n",
       "1  NC_003888.3  NC_003888.3_cluster_2   98463  128290   0.963851  0.999986   \n",
       "2  NC_003888.3  NC_003888.3_cluster_3  168705  189886   0.945490  0.999977   \n",
       "3  NC_003888.3  NC_003888.3_cluster_4  250805  267513   0.936970  0.998160   \n",
       "4  NC_003888.3  NC_003888.3_cluster_5  494260  544087   0.970834  0.999982   \n",
       "\n",
       "         type  alkaloid_probability  nrp_probability  polyketide_probability  \\\n",
       "0     Unknown              0.056906         0.193690                0.212401   \n",
       "1  Polyketide              0.010000         0.190000                0.850000   \n",
       "2     Terpene              0.030000         0.100000                0.190000   \n",
       "3        RiPP              0.002010         0.142577                0.093226   \n",
       "4         NRP              0.020000         0.690000                0.160000   \n",
       "\n",
       "   ripp_probability  saccharide_probability  terpene_probability  \\\n",
       "0          0.216538                    0.06             0.092709   \n",
       "1          0.020000                    0.00             0.030000   \n",
       "2          0.010000                    0.03             0.590000   \n",
       "3          0.641250                    0.00             0.026305   \n",
       "4          0.100000                    0.05             0.030000   \n",
       "\n",
       "                                            proteins  \\\n",
       "0  NC_003888.3_10;NC_003888.3_11;NC_003888.3_12;N...   \n",
       "1  NC_003888.3_100;NC_003888.3_101;NC_003888.3_10...   \n",
       "2  NC_003888.3_148;NC_003888.3_149;NC_003888.3_15...   \n",
       "3  NC_003888.3_226;NC_003888.3_227;NC_003888.3_22...   \n",
       "4  NC_003888.3_435;NC_003888.3_436;NC_003888.3_43...   \n",
       "\n",
       "                                             domains  \n",
       "0  PF00201;PF00665;PF00881;PF01047;PF01590;PF0169...  \n",
       "1  PF00005;PF00106;PF00109;PF00109;PF00109;PF0019...  \n",
       "2  PF00107;PF00348;PF00355;PF00494;PF00582;PF0058...  \n",
       "3  PF00126;PF00528;PF00528;PF00561;PF00975;PF0104...  \n",
       "4  PF00005;PF00005;PF00005;PF00005;PF00148;PF0027...  "
      ]
     },
     "execution_count": 6,
     "metadata": {},
     "output_type": "execute_result"
    }
   ],
   "source": [
    "# Load the GECCO output tsv file\n",
    "reader = pd.read_csv('NC_003888.3.clusters.tsv', delimiter='\\t')\n",
    "\n",
    "reader.head(5)"
   ]
  },
  {
   "cell_type": "code",
   "execution_count": 7,
   "metadata": {},
   "outputs": [
    {
     "name": "stdout",
     "output_type": "stream",
     "text": [
      "Region from 1144 to 42174\n",
      "Region from 98463 to 128290\n",
      "Region from 168705 to 189886\n",
      "Region from 250805 to 267513\n",
      "Region from 494260 to 544087\n",
      "Region from 738595 to 745763\n",
      "Region from 1126535 to 1134012\n",
      "Region from 1151870 to 1170556\n",
      "Region from 1275235 to 1282540\n",
      "Region from 1333824 to 1368913\n",
      "Region from 1998468 to 2009392\n",
      "Region from 2609897 to 2639559\n",
      "Region from 2934114 to 2953604\n",
      "Region from 3027514 to 3043370\n",
      "Region from 3122937 to 3144042\n",
      "Region from 3513024 to 3604107\n",
      "Region from 3880083 to 3885819\n",
      "Region from 4001665 to 4028773\n",
      "Region from 4242512 to 4258428\n",
      "Region from 4615154 to 4635156\n",
      "Region from 4895198 to 4899117\n",
      "Region from 5511271 to 5536287\n",
      "Region from 5681016 to 5684465\n",
      "Region from 5776630 to 5797479\n",
      "Region from 6339501 to 6343258\n",
      "Region from 6428862 to 6470874\n",
      "Region from 6541507 to 6551406\n",
      "Region from 6553552 to 6563778\n",
      "Region from 6831346 to 6878175\n",
      "Region from 6889594 to 6949758\n",
      "Region from 6991755 to 7012171\n",
      "Region from 7106284 to 7132084\n",
      "Region from 7170144 to 7174841\n",
      "Region from 7333403 to 7347440\n",
      "Region from 7413412 to 7440215\n",
      "Region from 7510408 to 7529773\n",
      "Region from 7586410 to 7606241\n",
      "Region from 7631006 to 7663855\n",
      "Region from 7675634 to 7707743\n",
      "Region from 7988871 to 7998651\n",
      "Region from 8193260 to 8209387\n",
      "Region from 8254317 to 8269446\n",
      "Region from 8276830 to 8286937\n",
      "Region from 8491153 to 8551953\n",
      "Region from 8585463 to 8590784\n",
      "Region from 8643240 to 8666364\n"
     ]
    }
   ],
   "source": [
    "# List to store regions of interest\n",
    "regions_of_interest_GECCO = []\n",
    "\n",
    "for index, row in reader.iterrows():\n",
    "    region = {\n",
    "        'start': row['start'],\n",
    "        'end': row['end'],\n",
    "    }\n",
    "    regions_of_interest_GECCO.append(region)\n",
    "\n",
    "# Display the extracted regions\n",
    "for region in regions_of_interest_GECCO:\n",
    "    print(f\"Region from {region['start']} to {region['end']}\")\n"
   ]
  },
  {
   "cell_type": "markdown",
   "metadata": {},
   "source": [
    "### Compare the Coordinates Reported by Both Tools"
   ]
  },
  {
   "cell_type": "markdown",
   "metadata": {},
   "source": [
    "For following processing we change the data structure of regions:"
   ]
  },
  {
   "cell_type": "code",
   "execution_count": 51,
   "metadata": {},
   "outputs": [],
   "source": [
    "# Convert to list of tuples\n",
    "gecco_regions = [(region['start'], region['end']) for region in regions_of_interest_GECCO]\n",
    "\n",
    "# Convert to list of tuples\n",
    "antismash_regions = [(region['start'], region['end']) for region in regions_of_interest_antiSMASH]"
   ]
  },
  {
   "cell_type": "code",
   "execution_count": 22,
   "metadata": {},
   "outputs": [
    {
     "name": "stdout",
     "output_type": "stream",
     "text": [
      "Unique Regions found only by GECCO: 22\n",
      "Unique Regions found only by antiSMASH: 3\n",
      "Regions intersecting between GECCO and antiSMASH: 24\n"
     ]
    }
   ],
   "source": [
    "# Function to check if two regions intersect\n",
    "def regions_intersect(region1, region2):\n",
    "    start1, end1 = region1\n",
    "    start2, end2 = region2\n",
    "    return max(start1, start2) <= min(end1, end2)\n",
    "\n",
    "# Count unique and intersecting regions\n",
    "unique_gecco = 0\n",
    "unique_antismash = 0\n",
    "intersecting_regions = 0\n",
    "\n",
    "# Check for intersections\n",
    "for gecco_region in gecco_regions:\n",
    "    found_intersection = False\n",
    "    for antismash_region in antismash_regions:\n",
    "        if regions_intersect(gecco_region, antismash_region):\n",
    "            intersecting_regions += 1\n",
    "            found_intersection = True\n",
    "            break\n",
    "    if not found_intersection:\n",
    "        unique_gecco += 1\n",
    "\n",
    "# Count antiSMASH regions that do not intersect with any GECCO regions\n",
    "for antismash_region in antismash_regions:\n",
    "    found_intersection = False\n",
    "    for gecco_region in gecco_regions:\n",
    "        if regions_intersect(antismash_region, gecco_region):\n",
    "            found_intersection = True\n",
    "            break\n",
    "    if not found_intersection:\n",
    "        unique_antismash += 1\n",
    "\n",
    "# Report the results\n",
    "print(f\"Unique Regions found only by GECCO: {unique_gecco}\")\n",
    "print(f\"Unique Regions found only by antiSMASH: {unique_antismash}\")\n",
    "print(f\"Regions intersecting between GECCO and antiSMASH: {intersecting_regions}\")\n"
   ]
  },
  {
   "cell_type": "markdown",
   "metadata": {},
   "source": [
    "### Visualize the Comparison\n",
    "\n",
    "We will use a dynamic genomic coordinate plot to visualize the regions detected by each tool, and a Venn diagram to show the overlap count.\n"
   ]
  },
  {
   "cell_type": "code",
   "execution_count": 56,
   "metadata": {},
   "outputs": [
    {
     "data": {
      "application/vnd.plotly.v1+json": {
       "config": {
        "plotlyServerURL": "https://plot.ly"
       },
       "data": [
        {
         "hoverinfo": "text",
         "line": {
          "color": "blue",
          "width": 20
         },
         "mode": "lines",
         "name": "GECCO",
         "showlegend": true,
         "text": "GECCO Region: 1144-42174",
         "type": "scatter",
         "x": [
          1144,
          42174
         ],
         "y": [
          0.55,
          0.55
         ]
        },
        {
         "hoverinfo": "text",
         "line": {
          "color": "blue",
          "width": 20
         },
         "mode": "lines",
         "showlegend": false,
         "text": "GECCO Region: 98463-128290",
         "type": "scatter",
         "x": [
          98463,
          128290
         ],
         "y": [
          0.55,
          0.55
         ]
        },
        {
         "hoverinfo": "text",
         "line": {
          "color": "blue",
          "width": 20
         },
         "mode": "lines",
         "showlegend": false,
         "text": "GECCO Region: 168705-189886",
         "type": "scatter",
         "x": [
          168705,
          189886
         ],
         "y": [
          0.55,
          0.55
         ]
        },
        {
         "hoverinfo": "text",
         "line": {
          "color": "blue",
          "width": 20
         },
         "mode": "lines",
         "showlegend": false,
         "text": "GECCO Region: 250805-267513",
         "type": "scatter",
         "x": [
          250805,
          267513
         ],
         "y": [
          0.55,
          0.55
         ]
        },
        {
         "hoverinfo": "text",
         "line": {
          "color": "blue",
          "width": 20
         },
         "mode": "lines",
         "showlegend": false,
         "text": "GECCO Region: 494260-544087",
         "type": "scatter",
         "x": [
          494260,
          544087
         ],
         "y": [
          0.55,
          0.55
         ]
        },
        {
         "hoverinfo": "text",
         "line": {
          "color": "blue",
          "width": 20
         },
         "mode": "lines",
         "showlegend": false,
         "text": "GECCO Region: 738595-745763",
         "type": "scatter",
         "x": [
          738595,
          745763
         ],
         "y": [
          0.55,
          0.55
         ]
        },
        {
         "hoverinfo": "text",
         "line": {
          "color": "blue",
          "width": 20
         },
         "mode": "lines",
         "showlegend": false,
         "text": "GECCO Region: 1126535-1134012",
         "type": "scatter",
         "x": [
          1126535,
          1134012
         ],
         "y": [
          0.55,
          0.55
         ]
        },
        {
         "hoverinfo": "text",
         "line": {
          "color": "blue",
          "width": 20
         },
         "mode": "lines",
         "showlegend": false,
         "text": "GECCO Region: 1151870-1170556",
         "type": "scatter",
         "x": [
          1151870,
          1170556
         ],
         "y": [
          0.55,
          0.55
         ]
        },
        {
         "hoverinfo": "text",
         "line": {
          "color": "blue",
          "width": 20
         },
         "mode": "lines",
         "showlegend": false,
         "text": "GECCO Region: 1275235-1282540",
         "type": "scatter",
         "x": [
          1275235,
          1282540
         ],
         "y": [
          0.55,
          0.55
         ]
        },
        {
         "hoverinfo": "text",
         "line": {
          "color": "blue",
          "width": 20
         },
         "mode": "lines",
         "showlegend": false,
         "text": "GECCO Region: 1333824-1368913",
         "type": "scatter",
         "x": [
          1333824,
          1368913
         ],
         "y": [
          0.55,
          0.55
         ]
        },
        {
         "hoverinfo": "text",
         "line": {
          "color": "blue",
          "width": 20
         },
         "mode": "lines",
         "showlegend": false,
         "text": "GECCO Region: 1998468-2009392",
         "type": "scatter",
         "x": [
          1998468,
          2009392
         ],
         "y": [
          0.55,
          0.55
         ]
        },
        {
         "hoverinfo": "text",
         "line": {
          "color": "blue",
          "width": 20
         },
         "mode": "lines",
         "showlegend": false,
         "text": "GECCO Region: 2609897-2639559",
         "type": "scatter",
         "x": [
          2609897,
          2639559
         ],
         "y": [
          0.55,
          0.55
         ]
        },
        {
         "hoverinfo": "text",
         "line": {
          "color": "blue",
          "width": 20
         },
         "mode": "lines",
         "showlegend": false,
         "text": "GECCO Region: 2934114-2953604",
         "type": "scatter",
         "x": [
          2934114,
          2953604
         ],
         "y": [
          0.55,
          0.55
         ]
        },
        {
         "hoverinfo": "text",
         "line": {
          "color": "blue",
          "width": 20
         },
         "mode": "lines",
         "showlegend": false,
         "text": "GECCO Region: 3027514-3043370",
         "type": "scatter",
         "x": [
          3027514,
          3043370
         ],
         "y": [
          0.55,
          0.55
         ]
        },
        {
         "hoverinfo": "text",
         "line": {
          "color": "blue",
          "width": 20
         },
         "mode": "lines",
         "showlegend": false,
         "text": "GECCO Region: 3122937-3144042",
         "type": "scatter",
         "x": [
          3122937,
          3144042
         ],
         "y": [
          0.55,
          0.55
         ]
        },
        {
         "hoverinfo": "text",
         "line": {
          "color": "blue",
          "width": 20
         },
         "mode": "lines",
         "showlegend": false,
         "text": "GECCO Region: 3513024-3604107",
         "type": "scatter",
         "x": [
          3513024,
          3604107
         ],
         "y": [
          0.55,
          0.55
         ]
        },
        {
         "hoverinfo": "text",
         "line": {
          "color": "blue",
          "width": 20
         },
         "mode": "lines",
         "showlegend": false,
         "text": "GECCO Region: 3880083-3885819",
         "type": "scatter",
         "x": [
          3880083,
          3885819
         ],
         "y": [
          0.55,
          0.55
         ]
        },
        {
         "hoverinfo": "text",
         "line": {
          "color": "blue",
          "width": 20
         },
         "mode": "lines",
         "showlegend": false,
         "text": "GECCO Region: 4001665-4028773",
         "type": "scatter",
         "x": [
          4001665,
          4028773
         ],
         "y": [
          0.55,
          0.55
         ]
        },
        {
         "hoverinfo": "text",
         "line": {
          "color": "blue",
          "width": 20
         },
         "mode": "lines",
         "showlegend": false,
         "text": "GECCO Region: 4242512-4258428",
         "type": "scatter",
         "x": [
          4242512,
          4258428
         ],
         "y": [
          0.55,
          0.55
         ]
        },
        {
         "hoverinfo": "text",
         "line": {
          "color": "blue",
          "width": 20
         },
         "mode": "lines",
         "showlegend": false,
         "text": "GECCO Region: 4615154-4635156",
         "type": "scatter",
         "x": [
          4615154,
          4635156
         ],
         "y": [
          0.55,
          0.55
         ]
        },
        {
         "hoverinfo": "text",
         "line": {
          "color": "blue",
          "width": 20
         },
         "mode": "lines",
         "showlegend": false,
         "text": "GECCO Region: 4895198-4899117",
         "type": "scatter",
         "x": [
          4895198,
          4899117
         ],
         "y": [
          0.55,
          0.55
         ]
        },
        {
         "hoverinfo": "text",
         "line": {
          "color": "blue",
          "width": 20
         },
         "mode": "lines",
         "showlegend": false,
         "text": "GECCO Region: 5511271-5536287",
         "type": "scatter",
         "x": [
          5511271,
          5536287
         ],
         "y": [
          0.55,
          0.55
         ]
        },
        {
         "hoverinfo": "text",
         "line": {
          "color": "blue",
          "width": 20
         },
         "mode": "lines",
         "showlegend": false,
         "text": "GECCO Region: 5681016-5684465",
         "type": "scatter",
         "x": [
          5681016,
          5684465
         ],
         "y": [
          0.55,
          0.55
         ]
        },
        {
         "hoverinfo": "text",
         "line": {
          "color": "blue",
          "width": 20
         },
         "mode": "lines",
         "showlegend": false,
         "text": "GECCO Region: 5776630-5797479",
         "type": "scatter",
         "x": [
          5776630,
          5797479
         ],
         "y": [
          0.55,
          0.55
         ]
        },
        {
         "hoverinfo": "text",
         "line": {
          "color": "blue",
          "width": 20
         },
         "mode": "lines",
         "showlegend": false,
         "text": "GECCO Region: 6339501-6343258",
         "type": "scatter",
         "x": [
          6339501,
          6343258
         ],
         "y": [
          0.55,
          0.55
         ]
        },
        {
         "hoverinfo": "text",
         "line": {
          "color": "blue",
          "width": 20
         },
         "mode": "lines",
         "showlegend": false,
         "text": "GECCO Region: 6428862-6470874",
         "type": "scatter",
         "x": [
          6428862,
          6470874
         ],
         "y": [
          0.55,
          0.55
         ]
        },
        {
         "hoverinfo": "text",
         "line": {
          "color": "blue",
          "width": 20
         },
         "mode": "lines",
         "showlegend": false,
         "text": "GECCO Region: 6541507-6551406",
         "type": "scatter",
         "x": [
          6541507,
          6551406
         ],
         "y": [
          0.55,
          0.55
         ]
        },
        {
         "hoverinfo": "text",
         "line": {
          "color": "blue",
          "width": 20
         },
         "mode": "lines",
         "showlegend": false,
         "text": "GECCO Region: 6553552-6563778",
         "type": "scatter",
         "x": [
          6553552,
          6563778
         ],
         "y": [
          0.55,
          0.55
         ]
        },
        {
         "hoverinfo": "text",
         "line": {
          "color": "blue",
          "width": 20
         },
         "mode": "lines",
         "showlegend": false,
         "text": "GECCO Region: 6831346-6878175",
         "type": "scatter",
         "x": [
          6831346,
          6878175
         ],
         "y": [
          0.55,
          0.55
         ]
        },
        {
         "hoverinfo": "text",
         "line": {
          "color": "blue",
          "width": 20
         },
         "mode": "lines",
         "showlegend": false,
         "text": "GECCO Region: 6889594-6949758",
         "type": "scatter",
         "x": [
          6889594,
          6949758
         ],
         "y": [
          0.55,
          0.55
         ]
        },
        {
         "hoverinfo": "text",
         "line": {
          "color": "blue",
          "width": 20
         },
         "mode": "lines",
         "showlegend": false,
         "text": "GECCO Region: 6991755-7012171",
         "type": "scatter",
         "x": [
          6991755,
          7012171
         ],
         "y": [
          0.55,
          0.55
         ]
        },
        {
         "hoverinfo": "text",
         "line": {
          "color": "blue",
          "width": 20
         },
         "mode": "lines",
         "showlegend": false,
         "text": "GECCO Region: 7106284-7132084",
         "type": "scatter",
         "x": [
          7106284,
          7132084
         ],
         "y": [
          0.55,
          0.55
         ]
        },
        {
         "hoverinfo": "text",
         "line": {
          "color": "blue",
          "width": 20
         },
         "mode": "lines",
         "showlegend": false,
         "text": "GECCO Region: 7170144-7174841",
         "type": "scatter",
         "x": [
          7170144,
          7174841
         ],
         "y": [
          0.55,
          0.55
         ]
        },
        {
         "hoverinfo": "text",
         "line": {
          "color": "blue",
          "width": 20
         },
         "mode": "lines",
         "showlegend": false,
         "text": "GECCO Region: 7333403-7347440",
         "type": "scatter",
         "x": [
          7333403,
          7347440
         ],
         "y": [
          0.55,
          0.55
         ]
        },
        {
         "hoverinfo": "text",
         "line": {
          "color": "blue",
          "width": 20
         },
         "mode": "lines",
         "showlegend": false,
         "text": "GECCO Region: 7413412-7440215",
         "type": "scatter",
         "x": [
          7413412,
          7440215
         ],
         "y": [
          0.55,
          0.55
         ]
        },
        {
         "hoverinfo": "text",
         "line": {
          "color": "blue",
          "width": 20
         },
         "mode": "lines",
         "showlegend": false,
         "text": "GECCO Region: 7510408-7529773",
         "type": "scatter",
         "x": [
          7510408,
          7529773
         ],
         "y": [
          0.55,
          0.55
         ]
        },
        {
         "hoverinfo": "text",
         "line": {
          "color": "blue",
          "width": 20
         },
         "mode": "lines",
         "showlegend": false,
         "text": "GECCO Region: 7586410-7606241",
         "type": "scatter",
         "x": [
          7586410,
          7606241
         ],
         "y": [
          0.55,
          0.55
         ]
        },
        {
         "hoverinfo": "text",
         "line": {
          "color": "blue",
          "width": 20
         },
         "mode": "lines",
         "showlegend": false,
         "text": "GECCO Region: 7631006-7663855",
         "type": "scatter",
         "x": [
          7631006,
          7663855
         ],
         "y": [
          0.55,
          0.55
         ]
        },
        {
         "hoverinfo": "text",
         "line": {
          "color": "blue",
          "width": 20
         },
         "mode": "lines",
         "showlegend": false,
         "text": "GECCO Region: 7675634-7707743",
         "type": "scatter",
         "x": [
          7675634,
          7707743
         ],
         "y": [
          0.55,
          0.55
         ]
        },
        {
         "hoverinfo": "text",
         "line": {
          "color": "blue",
          "width": 20
         },
         "mode": "lines",
         "showlegend": false,
         "text": "GECCO Region: 7988871-7998651",
         "type": "scatter",
         "x": [
          7988871,
          7998651
         ],
         "y": [
          0.55,
          0.55
         ]
        },
        {
         "hoverinfo": "text",
         "line": {
          "color": "blue",
          "width": 20
         },
         "mode": "lines",
         "showlegend": false,
         "text": "GECCO Region: 8193260-8209387",
         "type": "scatter",
         "x": [
          8193260,
          8209387
         ],
         "y": [
          0.55,
          0.55
         ]
        },
        {
         "hoverinfo": "text",
         "line": {
          "color": "blue",
          "width": 20
         },
         "mode": "lines",
         "showlegend": false,
         "text": "GECCO Region: 8254317-8269446",
         "type": "scatter",
         "x": [
          8254317,
          8269446
         ],
         "y": [
          0.55,
          0.55
         ]
        },
        {
         "hoverinfo": "text",
         "line": {
          "color": "blue",
          "width": 20
         },
         "mode": "lines",
         "showlegend": false,
         "text": "GECCO Region: 8276830-8286937",
         "type": "scatter",
         "x": [
          8276830,
          8286937
         ],
         "y": [
          0.55,
          0.55
         ]
        },
        {
         "hoverinfo": "text",
         "line": {
          "color": "blue",
          "width": 20
         },
         "mode": "lines",
         "showlegend": false,
         "text": "GECCO Region: 8491153-8551953",
         "type": "scatter",
         "x": [
          8491153,
          8551953
         ],
         "y": [
          0.55,
          0.55
         ]
        },
        {
         "hoverinfo": "text",
         "line": {
          "color": "blue",
          "width": 20
         },
         "mode": "lines",
         "showlegend": false,
         "text": "GECCO Region: 8585463-8590784",
         "type": "scatter",
         "x": [
          8585463,
          8590784
         ],
         "y": [
          0.55,
          0.55
         ]
        },
        {
         "hoverinfo": "text",
         "line": {
          "color": "blue",
          "width": 20
         },
         "mode": "lines",
         "showlegend": false,
         "text": "GECCO Region: 8643240-8666364",
         "type": "scatter",
         "x": [
          8643240,
          8666364
         ],
         "y": [
          0.55,
          0.55
         ]
        },
        {
         "hoverinfo": "text",
         "line": {
          "color": "green",
          "width": 20
         },
         "mode": "lines",
         "name": "antiSMASH",
         "showlegend": true,
         "text": "antiSMASH Region: 86636-139654",
         "type": "scatter",
         "x": [
          86636,
          139654
         ],
         "y": [
          0.5,
          0.5
         ]
        },
        {
         "hoverinfo": "text",
         "line": {
          "color": "green",
          "width": 20
         },
         "mode": "lines",
         "showlegend": false,
         "text": "antiSMASH Region: 166500-192038",
         "type": "scatter",
         "x": [
          166500,
          192038
         ],
         "y": [
          0.5,
          0.5
         ]
        },
        {
         "hoverinfo": "text",
         "line": {
          "color": "green",
          "width": 20
         },
         "mode": "lines",
         "showlegend": false,
         "text": "antiSMASH Region: 246525-271084",
         "type": "scatter",
         "x": [
          246525,
          271084
         ],
         "y": [
          0.5,
          0.5
         ]
        },
        {
         "hoverinfo": "text",
         "line": {
          "color": "green",
          "width": 20
         },
         "mode": "lines",
         "showlegend": false,
         "text": "antiSMASH Region: 493988-552325",
         "type": "scatter",
         "x": [
          493988,
          552325
         ],
         "y": [
          0.5,
          0.5
         ]
        },
        {
         "hoverinfo": "text",
         "line": {
          "color": "green",
          "width": 20
         },
         "mode": "lines",
         "showlegend": false,
         "text": "antiSMASH Region: 791583-801799",
         "type": "scatter",
         "x": [
          791583,
          801799
         ],
         "y": [
          0.5,
          0.5
         ]
        },
        {
         "hoverinfo": "text",
         "line": {
          "color": "green",
          "width": 20
         },
         "mode": "lines",
         "showlegend": false,
         "text": "antiSMASH Region: 1257624-1298749",
         "type": "scatter",
         "x": [
          1257624,
          1298749
         ],
         "y": [
          0.5,
          0.5
         ]
        },
        {
         "hoverinfo": "text",
         "line": {
          "color": "green",
          "width": 20
         },
         "mode": "lines",
         "showlegend": false,
         "text": "antiSMASH Region: 1995499-2005898",
         "type": "scatter",
         "x": [
          1995499,
          2005898
         ],
         "y": [
          0.5,
          0.5
         ]
        },
        {
         "hoverinfo": "text",
         "line": {
          "color": "green",
          "width": 20
         },
         "mode": "lines",
         "showlegend": false,
         "text": "antiSMASH Region: 2939305-2949875",
         "type": "scatter",
         "x": [
          2939305,
          2949875
         ],
         "y": [
          0.5,
          0.5
         ]
        },
        {
         "hoverinfo": "text",
         "line": {
          "color": "green",
          "width": 20
         },
         "mode": "lines",
         "showlegend": false,
         "text": "antiSMASH Region: 3024894-3054682",
         "type": "scatter",
         "x": [
          3024894,
          3054682
         ],
         "y": [
          0.5,
          0.5
         ]
        },
        {
         "hoverinfo": "text",
         "line": {
          "color": "green",
          "width": 20
         },
         "mode": "lines",
         "showlegend": false,
         "text": "antiSMASH Region: 3523334-3603988",
         "type": "scatter",
         "x": [
          3523334,
          3603988
         ],
         "y": [
          0.5,
          0.5
         ]
        },
        {
         "hoverinfo": "text",
         "line": {
          "color": "green",
          "width": 20
         },
         "mode": "lines",
         "showlegend": false,
         "text": "antiSMASH Region: 5494800-5567424",
         "type": "scatter",
         "x": [
          5494800,
          5567424
         ],
         "y": [
          0.5,
          0.5
         ]
        },
        {
         "hoverinfo": "text",
         "line": {
          "color": "green",
          "width": 20
         },
         "mode": "lines",
         "showlegend": false,
         "text": "antiSMASH Region: 5671015-5692101",
         "type": "scatter",
         "x": [
          5671015,
          5692101
         ],
         "y": [
          0.5,
          0.5
         ]
        },
        {
         "hoverinfo": "text",
         "line": {
          "color": "green",
          "width": 20
         },
         "mode": "lines",
         "showlegend": false,
         "text": "antiSMASH Region: 5751944-5824487",
         "type": "scatter",
         "x": [
          5751944,
          5824487
         ],
         "y": [
          0.5,
          0.5
         ]
        },
        {
         "hoverinfo": "text",
         "line": {
          "color": "green",
          "width": 20
         },
         "mode": "lines",
         "showlegend": false,
         "text": "antiSMASH Region: 6326586-6356533",
         "type": "scatter",
         "x": [
          6326586,
          6356533
         ],
         "y": [
          0.5,
          0.5
         ]
        },
        {
         "hoverinfo": "text",
         "line": {
          "color": "green",
          "width": 20
         },
         "mode": "lines",
         "showlegend": false,
         "text": "antiSMASH Region: 6429548-6476442",
         "type": "scatter",
         "x": [
          6429548,
          6476442
         ],
         "y": [
          0.5,
          0.5
         ]
        },
        {
         "hoverinfo": "text",
         "line": {
          "color": "green",
          "width": 20
         },
         "mode": "lines",
         "showlegend": false,
         "text": "antiSMASH Region: 6632342-6643659",
         "type": "scatter",
         "x": [
          6632342,
          6643659
         ],
         "y": [
          0.5,
          0.5
         ]
        },
        {
         "hoverinfo": "text",
         "line": {
          "color": "green",
          "width": 20
         },
         "mode": "lines",
         "showlegend": false,
         "text": "antiSMASH Region: 6656218-6678399",
         "type": "scatter",
         "x": [
          6656218,
          6678399
         ],
         "y": [
          0.5,
          0.5
         ]
        },
        {
         "hoverinfo": "text",
         "line": {
          "color": "green",
          "width": 20
         },
         "mode": "lines",
         "showlegend": false,
         "text": "antiSMASH Region: 6833314-6864522",
         "type": "scatter",
         "x": [
          6833314,
          6864522
         ],
         "y": [
          0.5,
          0.5
         ]
        },
        {
         "hoverinfo": "text",
         "line": {
          "color": "green",
          "width": 20
         },
         "mode": "lines",
         "showlegend": false,
         "text": "antiSMASH Region: 6880897-6956537",
         "type": "scatter",
         "x": [
          6880897,
          6956537
         ],
         "y": [
          0.5,
          0.5
         ]
        },
        {
         "hoverinfo": "text",
         "line": {
          "color": "green",
          "width": 20
         },
         "mode": "lines",
         "showlegend": false,
         "text": "antiSMASH Region: 7088263-7142447",
         "type": "scatter",
         "x": [
          7088263,
          7142447
         ],
         "y": [
          0.5,
          0.5
         ]
        },
        {
         "hoverinfo": "text",
         "line": {
          "color": "green",
          "width": 20
         },
         "mode": "lines",
         "showlegend": false,
         "text": "antiSMASH Region: 7409663-7432456",
         "type": "scatter",
         "x": [
          7409663,
          7432456
         ],
         "y": [
          0.5,
          0.5
         ]
        },
        {
         "hoverinfo": "text",
         "line": {
          "color": "green",
          "width": 20
         },
         "mode": "lines",
         "showlegend": false,
         "text": "antiSMASH Region: 7506016-7532758",
         "type": "scatter",
         "x": [
          7506016,
          7532758
         ],
         "y": [
          0.5,
          0.5
         ]
        },
        {
         "hoverinfo": "text",
         "line": {
          "color": "green",
          "width": 20
         },
         "mode": "lines",
         "showlegend": false,
         "text": "antiSMASH Region: 7570411-7618555",
         "type": "scatter",
         "x": [
          7570411,
          7618555
         ],
         "y": [
          0.5,
          0.5
         ]
        },
        {
         "hoverinfo": "text",
         "line": {
          "color": "green",
          "width": 20
         },
         "mode": "lines",
         "showlegend": false,
         "text": "antiSMASH Region: 7682906-7709360",
         "type": "scatter",
         "x": [
          7682906,
          7709360
         ],
         "y": [
          0.5,
          0.5
         ]
        },
        {
         "hoverinfo": "text",
         "line": {
          "color": "green",
          "width": 20
         },
         "mode": "lines",
         "showlegend": false,
         "text": "antiSMASH Region: 7973469-8047475",
         "type": "scatter",
         "x": [
          7973469,
          8047475
         ],
         "y": [
          0.5,
          0.5
         ]
        },
        {
         "hoverinfo": "text",
         "line": {
          "color": "green",
          "width": 20
         },
         "mode": "lines",
         "showlegend": false,
         "text": "antiSMASH Region: 8269636-8290764",
         "type": "scatter",
         "x": [
          8269636,
          8290764
         ],
         "y": [
          0.5,
          0.5
         ]
        },
        {
         "hoverinfo": "text",
         "line": {
          "color": "green",
          "width": 20
         },
         "mode": "lines",
         "showlegend": false,
         "text": "antiSMASH Region: 8475101-8549581",
         "type": "scatter",
         "x": [
          8475101,
          8549581
         ],
         "y": [
          0.5,
          0.5
         ]
        }
       ],
       "layout": {
        "showlegend": true,
        "template": {
         "data": {
          "bar": [
           {
            "error_x": {
             "color": "#2a3f5f"
            },
            "error_y": {
             "color": "#2a3f5f"
            },
            "marker": {
             "line": {
              "color": "#E5ECF6",
              "width": 0.5
             },
             "pattern": {
              "fillmode": "overlay",
              "size": 10,
              "solidity": 0.2
             }
            },
            "type": "bar"
           }
          ],
          "barpolar": [
           {
            "marker": {
             "line": {
              "color": "#E5ECF6",
              "width": 0.5
             },
             "pattern": {
              "fillmode": "overlay",
              "size": 10,
              "solidity": 0.2
             }
            },
            "type": "barpolar"
           }
          ],
          "carpet": [
           {
            "aaxis": {
             "endlinecolor": "#2a3f5f",
             "gridcolor": "white",
             "linecolor": "white",
             "minorgridcolor": "white",
             "startlinecolor": "#2a3f5f"
            },
            "baxis": {
             "endlinecolor": "#2a3f5f",
             "gridcolor": "white",
             "linecolor": "white",
             "minorgridcolor": "white",
             "startlinecolor": "#2a3f5f"
            },
            "type": "carpet"
           }
          ],
          "choropleth": [
           {
            "colorbar": {
             "outlinewidth": 0,
             "ticks": ""
            },
            "type": "choropleth"
           }
          ],
          "contour": [
           {
            "colorbar": {
             "outlinewidth": 0,
             "ticks": ""
            },
            "colorscale": [
             [
              0,
              "#0d0887"
             ],
             [
              0.1111111111111111,
              "#46039f"
             ],
             [
              0.2222222222222222,
              "#7201a8"
             ],
             [
              0.3333333333333333,
              "#9c179e"
             ],
             [
              0.4444444444444444,
              "#bd3786"
             ],
             [
              0.5555555555555556,
              "#d8576b"
             ],
             [
              0.6666666666666666,
              "#ed7953"
             ],
             [
              0.7777777777777778,
              "#fb9f3a"
             ],
             [
              0.8888888888888888,
              "#fdca26"
             ],
             [
              1,
              "#f0f921"
             ]
            ],
            "type": "contour"
           }
          ],
          "contourcarpet": [
           {
            "colorbar": {
             "outlinewidth": 0,
             "ticks": ""
            },
            "type": "contourcarpet"
           }
          ],
          "heatmap": [
           {
            "colorbar": {
             "outlinewidth": 0,
             "ticks": ""
            },
            "colorscale": [
             [
              0,
              "#0d0887"
             ],
             [
              0.1111111111111111,
              "#46039f"
             ],
             [
              0.2222222222222222,
              "#7201a8"
             ],
             [
              0.3333333333333333,
              "#9c179e"
             ],
             [
              0.4444444444444444,
              "#bd3786"
             ],
             [
              0.5555555555555556,
              "#d8576b"
             ],
             [
              0.6666666666666666,
              "#ed7953"
             ],
             [
              0.7777777777777778,
              "#fb9f3a"
             ],
             [
              0.8888888888888888,
              "#fdca26"
             ],
             [
              1,
              "#f0f921"
             ]
            ],
            "type": "heatmap"
           }
          ],
          "heatmapgl": [
           {
            "colorbar": {
             "outlinewidth": 0,
             "ticks": ""
            },
            "colorscale": [
             [
              0,
              "#0d0887"
             ],
             [
              0.1111111111111111,
              "#46039f"
             ],
             [
              0.2222222222222222,
              "#7201a8"
             ],
             [
              0.3333333333333333,
              "#9c179e"
             ],
             [
              0.4444444444444444,
              "#bd3786"
             ],
             [
              0.5555555555555556,
              "#d8576b"
             ],
             [
              0.6666666666666666,
              "#ed7953"
             ],
             [
              0.7777777777777778,
              "#fb9f3a"
             ],
             [
              0.8888888888888888,
              "#fdca26"
             ],
             [
              1,
              "#f0f921"
             ]
            ],
            "type": "heatmapgl"
           }
          ],
          "histogram": [
           {
            "marker": {
             "pattern": {
              "fillmode": "overlay",
              "size": 10,
              "solidity": 0.2
             }
            },
            "type": "histogram"
           }
          ],
          "histogram2d": [
           {
            "colorbar": {
             "outlinewidth": 0,
             "ticks": ""
            },
            "colorscale": [
             [
              0,
              "#0d0887"
             ],
             [
              0.1111111111111111,
              "#46039f"
             ],
             [
              0.2222222222222222,
              "#7201a8"
             ],
             [
              0.3333333333333333,
              "#9c179e"
             ],
             [
              0.4444444444444444,
              "#bd3786"
             ],
             [
              0.5555555555555556,
              "#d8576b"
             ],
             [
              0.6666666666666666,
              "#ed7953"
             ],
             [
              0.7777777777777778,
              "#fb9f3a"
             ],
             [
              0.8888888888888888,
              "#fdca26"
             ],
             [
              1,
              "#f0f921"
             ]
            ],
            "type": "histogram2d"
           }
          ],
          "histogram2dcontour": [
           {
            "colorbar": {
             "outlinewidth": 0,
             "ticks": ""
            },
            "colorscale": [
             [
              0,
              "#0d0887"
             ],
             [
              0.1111111111111111,
              "#46039f"
             ],
             [
              0.2222222222222222,
              "#7201a8"
             ],
             [
              0.3333333333333333,
              "#9c179e"
             ],
             [
              0.4444444444444444,
              "#bd3786"
             ],
             [
              0.5555555555555556,
              "#d8576b"
             ],
             [
              0.6666666666666666,
              "#ed7953"
             ],
             [
              0.7777777777777778,
              "#fb9f3a"
             ],
             [
              0.8888888888888888,
              "#fdca26"
             ],
             [
              1,
              "#f0f921"
             ]
            ],
            "type": "histogram2dcontour"
           }
          ],
          "mesh3d": [
           {
            "colorbar": {
             "outlinewidth": 0,
             "ticks": ""
            },
            "type": "mesh3d"
           }
          ],
          "parcoords": [
           {
            "line": {
             "colorbar": {
              "outlinewidth": 0,
              "ticks": ""
             }
            },
            "type": "parcoords"
           }
          ],
          "pie": [
           {
            "automargin": true,
            "type": "pie"
           }
          ],
          "scatter": [
           {
            "fillpattern": {
             "fillmode": "overlay",
             "size": 10,
             "solidity": 0.2
            },
            "type": "scatter"
           }
          ],
          "scatter3d": [
           {
            "line": {
             "colorbar": {
              "outlinewidth": 0,
              "ticks": ""
             }
            },
            "marker": {
             "colorbar": {
              "outlinewidth": 0,
              "ticks": ""
             }
            },
            "type": "scatter3d"
           }
          ],
          "scattercarpet": [
           {
            "marker": {
             "colorbar": {
              "outlinewidth": 0,
              "ticks": ""
             }
            },
            "type": "scattercarpet"
           }
          ],
          "scattergeo": [
           {
            "marker": {
             "colorbar": {
              "outlinewidth": 0,
              "ticks": ""
             }
            },
            "type": "scattergeo"
           }
          ],
          "scattergl": [
           {
            "marker": {
             "colorbar": {
              "outlinewidth": 0,
              "ticks": ""
             }
            },
            "type": "scattergl"
           }
          ],
          "scattermapbox": [
           {
            "marker": {
             "colorbar": {
              "outlinewidth": 0,
              "ticks": ""
             }
            },
            "type": "scattermapbox"
           }
          ],
          "scatterpolar": [
           {
            "marker": {
             "colorbar": {
              "outlinewidth": 0,
              "ticks": ""
             }
            },
            "type": "scatterpolar"
           }
          ],
          "scatterpolargl": [
           {
            "marker": {
             "colorbar": {
              "outlinewidth": 0,
              "ticks": ""
             }
            },
            "type": "scatterpolargl"
           }
          ],
          "scatterternary": [
           {
            "marker": {
             "colorbar": {
              "outlinewidth": 0,
              "ticks": ""
             }
            },
            "type": "scatterternary"
           }
          ],
          "surface": [
           {
            "colorbar": {
             "outlinewidth": 0,
             "ticks": ""
            },
            "colorscale": [
             [
              0,
              "#0d0887"
             ],
             [
              0.1111111111111111,
              "#46039f"
             ],
             [
              0.2222222222222222,
              "#7201a8"
             ],
             [
              0.3333333333333333,
              "#9c179e"
             ],
             [
              0.4444444444444444,
              "#bd3786"
             ],
             [
              0.5555555555555556,
              "#d8576b"
             ],
             [
              0.6666666666666666,
              "#ed7953"
             ],
             [
              0.7777777777777778,
              "#fb9f3a"
             ],
             [
              0.8888888888888888,
              "#fdca26"
             ],
             [
              1,
              "#f0f921"
             ]
            ],
            "type": "surface"
           }
          ],
          "table": [
           {
            "cells": {
             "fill": {
              "color": "#EBF0F8"
             },
             "line": {
              "color": "white"
             }
            },
            "header": {
             "fill": {
              "color": "#C8D4E3"
             },
             "line": {
              "color": "white"
             }
            },
            "type": "table"
           }
          ]
         },
         "layout": {
          "annotationdefaults": {
           "arrowcolor": "#2a3f5f",
           "arrowhead": 0,
           "arrowwidth": 1
          },
          "autotypenumbers": "strict",
          "coloraxis": {
           "colorbar": {
            "outlinewidth": 0,
            "ticks": ""
           }
          },
          "colorscale": {
           "diverging": [
            [
             0,
             "#8e0152"
            ],
            [
             0.1,
             "#c51b7d"
            ],
            [
             0.2,
             "#de77ae"
            ],
            [
             0.3,
             "#f1b6da"
            ],
            [
             0.4,
             "#fde0ef"
            ],
            [
             0.5,
             "#f7f7f7"
            ],
            [
             0.6,
             "#e6f5d0"
            ],
            [
             0.7,
             "#b8e186"
            ],
            [
             0.8,
             "#7fbc41"
            ],
            [
             0.9,
             "#4d9221"
            ],
            [
             1,
             "#276419"
            ]
           ],
           "sequential": [
            [
             0,
             "#0d0887"
            ],
            [
             0.1111111111111111,
             "#46039f"
            ],
            [
             0.2222222222222222,
             "#7201a8"
            ],
            [
             0.3333333333333333,
             "#9c179e"
            ],
            [
             0.4444444444444444,
             "#bd3786"
            ],
            [
             0.5555555555555556,
             "#d8576b"
            ],
            [
             0.6666666666666666,
             "#ed7953"
            ],
            [
             0.7777777777777778,
             "#fb9f3a"
            ],
            [
             0.8888888888888888,
             "#fdca26"
            ],
            [
             1,
             "#f0f921"
            ]
           ],
           "sequentialminus": [
            [
             0,
             "#0d0887"
            ],
            [
             0.1111111111111111,
             "#46039f"
            ],
            [
             0.2222222222222222,
             "#7201a8"
            ],
            [
             0.3333333333333333,
             "#9c179e"
            ],
            [
             0.4444444444444444,
             "#bd3786"
            ],
            [
             0.5555555555555556,
             "#d8576b"
            ],
            [
             0.6666666666666666,
             "#ed7953"
            ],
            [
             0.7777777777777778,
             "#fb9f3a"
            ],
            [
             0.8888888888888888,
             "#fdca26"
            ],
            [
             1,
             "#f0f921"
            ]
           ]
          },
          "colorway": [
           "#636efa",
           "#EF553B",
           "#00cc96",
           "#ab63fa",
           "#FFA15A",
           "#19d3f3",
           "#FF6692",
           "#B6E880",
           "#FF97FF",
           "#FECB52"
          ],
          "font": {
           "color": "#2a3f5f"
          },
          "geo": {
           "bgcolor": "white",
           "lakecolor": "white",
           "landcolor": "#E5ECF6",
           "showlakes": true,
           "showland": true,
           "subunitcolor": "white"
          },
          "hoverlabel": {
           "align": "left"
          },
          "hovermode": "closest",
          "mapbox": {
           "style": "light"
          },
          "paper_bgcolor": "white",
          "plot_bgcolor": "#E5ECF6",
          "polar": {
           "angularaxis": {
            "gridcolor": "white",
            "linecolor": "white",
            "ticks": ""
           },
           "bgcolor": "#E5ECF6",
           "radialaxis": {
            "gridcolor": "white",
            "linecolor": "white",
            "ticks": ""
           }
          },
          "scene": {
           "xaxis": {
            "backgroundcolor": "#E5ECF6",
            "gridcolor": "white",
            "gridwidth": 2,
            "linecolor": "white",
            "showbackground": true,
            "ticks": "",
            "zerolinecolor": "white"
           },
           "yaxis": {
            "backgroundcolor": "#E5ECF6",
            "gridcolor": "white",
            "gridwidth": 2,
            "linecolor": "white",
            "showbackground": true,
            "ticks": "",
            "zerolinecolor": "white"
           },
           "zaxis": {
            "backgroundcolor": "#E5ECF6",
            "gridcolor": "white",
            "gridwidth": 2,
            "linecolor": "white",
            "showbackground": true,
            "ticks": "",
            "zerolinecolor": "white"
           }
          },
          "shapedefaults": {
           "line": {
            "color": "#2a3f5f"
           }
          },
          "ternary": {
           "aaxis": {
            "gridcolor": "white",
            "linecolor": "white",
            "ticks": ""
           },
           "baxis": {
            "gridcolor": "white",
            "linecolor": "white",
            "ticks": ""
           },
           "bgcolor": "#E5ECF6",
           "caxis": {
            "gridcolor": "white",
            "linecolor": "white",
            "ticks": ""
           }
          },
          "title": {
           "x": 0.05
          },
          "xaxis": {
           "automargin": true,
           "gridcolor": "white",
           "linecolor": "white",
           "ticks": "",
           "title": {
            "standoff": 15
           },
           "zerolinecolor": "white",
           "zerolinewidth": 2
          },
          "yaxis": {
           "automargin": true,
           "gridcolor": "white",
           "linecolor": "white",
           "ticks": "",
           "title": {
            "standoff": 15
           },
           "zerolinecolor": "white",
           "zerolinewidth": 2
          }
         }
        },
        "title": {
         "text": "Comparison of BGC Regions Identified by GECCO and antiSMASH"
        },
        "xaxis": {
         "title": {
          "text": "Genomic Coordinates"
         }
        },
        "yaxis": {
         "showticklabels": false
        }
       }
      }
     },
     "metadata": {},
     "output_type": "display_data"
    }
   ],
   "source": [
    "import plotly.graph_objects as go\n",
    "\n",
    "# Prepare data for the GECCO and antiSMASH regions\n",
    "gecco_x = [(start, end) for start, end in gecco_regions]\n",
    "antisMash_x = [(start, end) for start, end in antismash_regions]\n",
    "\n",
    "# Create Plotly figure\n",
    "fig = go.Figure()\n",
    "\n",
    "# Add GECCO regions\n",
    "for i, (start, end) in enumerate(gecco_x):\n",
    "    fig.add_trace(go.Scatter(\n",
    "        x=[start, end], y=[0.55, 0.55],\n",
    "        mode='lines',\n",
    "        line=dict(color='blue', width=20),\n",
    "        name=\"GECCO\" if i == 0 else None,  # Set legend name only for the first item\n",
    "        showlegend=i == 0,  # Show legend only for the first item\n",
    "        # name=\"GECCO\",\n",
    "        hoverinfo=\"text\",\n",
    "        text=f\"GECCO Region: {start}-{end}\"\n",
    "    ))\n",
    "\n",
    "# Add antiSMASH regions\n",
    "for i, (start, end) in enumerate(antisMash_x):\n",
    "    fig.add_trace(go.Scatter(\n",
    "        x=[start, end], y=[0.5, 0.5],\n",
    "        mode='lines',\n",
    "        line=dict(color='green', width=20),\n",
    "        name=\"antiSMASH\" if i == 0 else None,  # Set legend name only for the first item\n",
    "        showlegend=i == 0,   # Show legend only for the first item\n",
    "        # name=\"antiSMASH\",\n",
    "        hoverinfo=\"text\",\n",
    "        text=f\"antiSMASH Region: {start}-{end}\"\n",
    "    ))\n",
    "\n",
    "# Customize layout\n",
    "fig.update_layout(\n",
    "    title=\"Comparison of BGC Regions Identified by GECCO and antiSMASH\",\n",
    "    xaxis_title=\"Genomic Coordinates\",\n",
    "    showlegend=True,\n",
    "    yaxis=dict(\n",
    "        showticklabels=False,  # Hide y-axis labels\n",
    "    ),\n",
    ")\n",
    "\n",
    "# Display interactive plot\n",
    "fig.show()\n"
   ]
  },
  {
   "cell_type": "markdown",
   "metadata": {},
   "source": [
    "<div class=\"alert alert-block alert-info\">\n",
    "<b>How to Install:</b> \n",
    "To use matplotlib-venn in Python, we can install it with pip\n",
    "\n",
    "`$ pip install matplotlib-venn`\n",
    "\n",
    "</div>"
   ]
  },
  {
   "cell_type": "code",
   "execution_count": 46,
   "metadata": {},
   "outputs": [
    {
     "data": {
      "image/png": "[encoded data removed]",
      "text/plain": [
       "<Figure size 600x600 with 1 Axes>"
      ]
     },
     "metadata": {},
     "output_type": "display_data"
    }
   ],
   "source": [
    "import matplotlib.pyplot as plt\n",
    "from matplotlib_venn import venn2\n",
    "\n",
    "\n",
    "# Venn Diagram\n",
    "plt.figure(figsize=(6, 6))\n",
    "venn = venn2(subsets=(unique_gecco, unique_antismash, intersecting_regions), set_labels=('GECCO', 'antiSMASH'))\n",
    "plt.title(\"Unique and Overlapping BGCs Detected by GECCO and antiSMASH\")\n",
    "plt.show()\n"
   ]
  },
  {
   "cell_type": "markdown",
   "metadata": {},
   "source": [
    "### Conclusions and Insights"
   ]
  },
  {
   "cell_type": "markdown",
   "metadata": {},
   "source": [
    "GECCO identified a larger number of unique regions (22 regions) compared to antiSMASH, which only identified 3 unique regions. This suggests that GECCO may be more sensitive or have a broader detection range, potentially identifying regions that antiSMASH misses.\n",
    "The higher sensitivity of GECCO could be due to its machine-learning-based approach, which may detect weaker signals or patterns that the more traditional antiSMASH method overlooks.\n",
    "\n",
    "In conclusion, GECCO appears to complement antiSMASH by detecting additional regions, with the possibility of including more false positives. The significant overlap in intersecting regions suggests both tools are capturing a core set of important BGCs, providing confidence in the reliability of these findings. This analysis supports the value of multi-tool approaches in genome mining for bioactive compound discovery."
   ]
  }
 ],
 "metadata": {
  "kernelspec": {
   "display_name": "Python 3",
   "language": "python",
   "name": "python3"
  },
  "language_info": {
   "codemirror_mode": {
    "name": "ipython",
    "version": 3
   },
   "file_extension": ".py",
   "mimetype": "text/x-python",
   "name": "python",
   "nbconvert_exporter": "python",
   "pygments_lexer": "ipython3",
   "version": "3.9.6"
  }
 },
 "nbformat": 4,
 "nbformat_minor": 2
}
