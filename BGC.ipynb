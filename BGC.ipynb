{
 "cells": [
  {
   "cell_type": "markdown",
   "metadata": {},
   "source": [
    "# Genome Mining Softwares Comparison"
   ]
  },
  {
   "cell_type": "markdown",
   "metadata": {},
   "source": [
    "#### The test task\n",
    "\n",
    "In some of our projects, we rely on genome mining software that, given a genome sequence, can find regions of interest responsible for the production of bioactive compounds. These regions of interest are often referred to as biosynthetic gene clusters (BGCs), but we can think of them simply as pairs of start and end coordinates in a long string corresponding to the genome. \n",
    "\n",
    "The task would be to write a simple script that compares the outputs of two different genome mining tools for the same genome. "
   ]
  },
  {
   "cell_type": "markdown",
   "metadata": {},
   "source": [
    "The tools would be [antiSMASH](https://antismash.secondarymetabolites.org/#!/about) (the state-of-the-art method) and [GECCO](https://gecco.embl.de/) (an experimental machine learning-based approach). The genome will be Streptomyces coelicolor A3(2); its sequence is attached in compressed FASTA format. "
   ]
  },
  {
   "cell_type": "markdown",
   "metadata": {},
   "source": [
    "So we upload the FASTA file here. We can read this file in Python using the $Biopython$ library, which provides tools for handling FASTA files efficiently. "
   ]
  },
  {
   "cell_type": "markdown",
   "metadata": {},
   "source": [
    "<div class=\"alert alert-block alert-info\">\n",
    "<b>How to Install:</b> \n",
    "To use Biopython in Python, we can install it with pip\n",
    "\n",
    "$pip install biopython\n",
    "\n",
    "</div>"
   ]
  },
  {
   "cell_type": "code",
   "execution_count": 1,
   "metadata": {},
   "outputs": [],
   "source": [
    "import pandas as pd\n",
    "from Bio import SeqIO\n"
   ]
  },
  {
   "cell_type": "code",
   "execution_count": 2,
   "metadata": {},
   "outputs": [
    {
     "name": "stdout",
     "output_type": "stream",
     "text": [
      "ID: NC_003888.3\n",
      "Description: NC_003888.3 Streptomyces coelicolor A3(2) chromosome, complete genome\n",
      "Sequence: CCCGCGGAGCGGGTACCACATCGCTGCGCGATGTGCGAGCGAACACCCGGGCTGCGCCCGGGTGTTGCGCTCCCGCTCCGCGGGAGCGCTGGCGGGACGC...\n",
      "Length: 8667507\n"
     ]
    }
   ],
   "source": [
    "# path to the FASTA file\n",
    "file_path = \"/Users/Erfan/Downloads/Test_Task_HiWi/NC_003888.3.fna\"\n",
    "\n",
    "# Read the file using Biopython\n",
    "for record in SeqIO.parse(file_path, \"fasta\"):\n",
    "    print(f\"ID: {record.id}\")\n",
    "    print(f\"Description: {record.description}\")\n",
    "    print(f\"Sequence: {record.seq[:100]}...\")  # Print only the first 100 bases for brevity\n",
    "    print(f\"Length: {len(record.seq)}\")\n"
   ]
  }
 ],
 "metadata": {
  "kernelspec": {
   "display_name": "Python 3",
   "language": "python",
   "name": "python3"
  },
  "language_info": {
   "codemirror_mode": {
    "name": "ipython",
    "version": 3
   },
   "file_extension": ".py",
   "mimetype": "text/x-python",
   "name": "python",
   "nbconvert_exporter": "python",
   "pygments_lexer": "ipython3",
   "version": "3.9.6"
  }
 },
 "nbformat": 4,
 "nbformat_minor": 2
}
